{
 "cells": [
  {
   "cell_type": "markdown",
   "metadata": {},
   "source": [
    "# Pipeline with Feature Union"
   ]
  },
  {
   "cell_type": "code",
   "execution_count": 86,
   "metadata": {
    "ExecuteTime": {
     "end_time": "2019-04-21T11:17:19.203639Z",
     "start_time": "2019-04-21T11:17:10.411671Z"
    }
   },
   "outputs": [],
   "source": [
    "import pandas as pd\n",
    "import numpy as np"
   ]
  },
  {
   "cell_type": "code",
   "execution_count": 87,
   "metadata": {
    "ExecuteTime": {
     "end_time": "2019-04-21T11:17:20.062213Z",
     "start_time": "2019-04-21T11:17:19.206642Z"
    }
   },
   "outputs": [],
   "source": [
    "file=r'G:/EdData/Existing Base.csv'\n",
    "\n",
    "bd=pd.read_csv(file)"
   ]
  },
  {
   "cell_type": "code",
   "execution_count": 88,
   "metadata": {
    "ExecuteTime": {
     "end_time": "2019-04-21T11:17:22.039529Z",
     "start_time": "2019-04-21T11:17:20.064212Z"
    }
   },
   "outputs": [
    {
     "data": {
      "text/html": [
       "<div>\n",
       "<style scoped>\n",
       "    .dataframe tbody tr th:only-of-type {\n",
       "        vertical-align: middle;\n",
       "    }\n",
       "\n",
       "    .dataframe tbody tr th {\n",
       "        vertical-align: top;\n",
       "    }\n",
       "\n",
       "    .dataframe thead th {\n",
       "        text-align: right;\n",
       "    }\n",
       "</style>\n",
       "<table border=\"1\" class=\"dataframe\">\n",
       "  <thead>\n",
       "    <tr style=\"text-align: right;\">\n",
       "      <th></th>\n",
       "      <th>REF_NO</th>\n",
       "      <th>children</th>\n",
       "      <th>age_band</th>\n",
       "      <th>status</th>\n",
       "      <th>occupation</th>\n",
       "      <th>occupation_partner</th>\n",
       "      <th>home_status</th>\n",
       "      <th>family_income</th>\n",
       "      <th>self_employed</th>\n",
       "      <th>self_employed_partner</th>\n",
       "      <th>...</th>\n",
       "      <th>Investment Tax Saving Bond</th>\n",
       "      <th>Home Loan</th>\n",
       "      <th>Online Purchase Amount</th>\n",
       "      <th>Revenue Grid</th>\n",
       "      <th>gender</th>\n",
       "      <th>region</th>\n",
       "      <th>Investment in Commudity</th>\n",
       "      <th>Investment in Equity</th>\n",
       "      <th>Investment in Derivative</th>\n",
       "      <th>Portfolio Balance</th>\n",
       "    </tr>\n",
       "  </thead>\n",
       "  <tbody>\n",
       "    <tr>\n",
       "      <th>0</th>\n",
       "      <td>1</td>\n",
       "      <td>Zero</td>\n",
       "      <td>51-55</td>\n",
       "      <td>Partner</td>\n",
       "      <td>Manual Worker</td>\n",
       "      <td>Secretarial/Admin</td>\n",
       "      <td>Own Home</td>\n",
       "      <td>&lt;17,500, &gt;=15,000</td>\n",
       "      <td>No</td>\n",
       "      <td>No</td>\n",
       "      <td>...</td>\n",
       "      <td>19.99000</td>\n",
       "      <td>0.00000</td>\n",
       "      <td>0.00000</td>\n",
       "      <td>1</td>\n",
       "      <td>Female</td>\n",
       "      <td>Wales</td>\n",
       "      <td>74.67000</td>\n",
       "      <td>18.66000</td>\n",
       "      <td>32.32000</td>\n",
       "      <td>89.43000</td>\n",
       "    </tr>\n",
       "    <tr>\n",
       "      <th>1</th>\n",
       "      <td>2</td>\n",
       "      <td>Zero</td>\n",
       "      <td>55-60</td>\n",
       "      <td>Single/Never Married</td>\n",
       "      <td>Retired</td>\n",
       "      <td>Retired</td>\n",
       "      <td>Own Home</td>\n",
       "      <td>&lt;27,500, &gt;=25,000</td>\n",
       "      <td>No</td>\n",
       "      <td>No</td>\n",
       "      <td>...</td>\n",
       "      <td>0.00000</td>\n",
       "      <td>0.00000</td>\n",
       "      <td>0.00000</td>\n",
       "      <td>2</td>\n",
       "      <td>Female</td>\n",
       "      <td>North West</td>\n",
       "      <td>20.19000</td>\n",
       "      <td>0.00000</td>\n",
       "      <td>4.33000</td>\n",
       "      <td>22.78000</td>\n",
       "    </tr>\n",
       "    <tr>\n",
       "      <th>2</th>\n",
       "      <td>3</td>\n",
       "      <td>Zero</td>\n",
       "      <td>26-30</td>\n",
       "      <td>Single/Never Married</td>\n",
       "      <td>Professional</td>\n",
       "      <td>Other</td>\n",
       "      <td>Own Home</td>\n",
       "      <td>&lt;30,000, &gt;=27,500</td>\n",
       "      <td>Yes</td>\n",
       "      <td>No</td>\n",
       "      <td>...</td>\n",
       "      <td>0.00000</td>\n",
       "      <td>3.49000</td>\n",
       "      <td>0.00000</td>\n",
       "      <td>2</td>\n",
       "      <td>Male</td>\n",
       "      <td>North</td>\n",
       "      <td>98.06000</td>\n",
       "      <td>31.07000</td>\n",
       "      <td>80.96000</td>\n",
       "      <td>171.78000</td>\n",
       "    </tr>\n",
       "    <tr>\n",
       "      <th>3</th>\n",
       "      <td>5</td>\n",
       "      <td>Zero</td>\n",
       "      <td>18-21</td>\n",
       "      <td>Single/Never Married</td>\n",
       "      <td>Professional</td>\n",
       "      <td>Manual Worker</td>\n",
       "      <td>Own Home</td>\n",
       "      <td>&lt;15,000, &gt;=12,500</td>\n",
       "      <td>No</td>\n",
       "      <td>No</td>\n",
       "      <td>...</td>\n",
       "      <td>0.00000</td>\n",
       "      <td>0.00000</td>\n",
       "      <td>0.00000</td>\n",
       "      <td>2</td>\n",
       "      <td>Female</td>\n",
       "      <td>West Midlands</td>\n",
       "      <td>4.10000</td>\n",
       "      <td>14.15000</td>\n",
       "      <td>17.57000</td>\n",
       "      <td>-41.70000</td>\n",
       "    </tr>\n",
       "    <tr>\n",
       "      <th>4</th>\n",
       "      <td>6</td>\n",
       "      <td>Zero</td>\n",
       "      <td>45-50</td>\n",
       "      <td>Partner</td>\n",
       "      <td>Business Manager</td>\n",
       "      <td>Unknown</td>\n",
       "      <td>Own Home</td>\n",
       "      <td>&lt;30,000, &gt;=27,500</td>\n",
       "      <td>No</td>\n",
       "      <td>No</td>\n",
       "      <td>...</td>\n",
       "      <td>0.00000</td>\n",
       "      <td>45.91000</td>\n",
       "      <td>25.98000</td>\n",
       "      <td>2</td>\n",
       "      <td>Female</td>\n",
       "      <td>Scotland</td>\n",
       "      <td>70.16000</td>\n",
       "      <td>55.86000</td>\n",
       "      <td>80.44000</td>\n",
       "      <td>235.02000</td>\n",
       "    </tr>\n",
       "  </tbody>\n",
       "</table>\n",
       "<p>5 rows × 32 columns</p>\n",
       "</div>"
      ],
      "text/plain": [
       "   REF_NO children age_band                status        occupation  \\\n",
       "0       1     Zero    51-55               Partner     Manual Worker   \n",
       "1       2     Zero    55-60  Single/Never Married           Retired   \n",
       "2       3     Zero    26-30  Single/Never Married      Professional   \n",
       "3       5     Zero    18-21  Single/Never Married      Professional   \n",
       "4       6     Zero    45-50               Partner  Business Manager   \n",
       "\n",
       "  occupation_partner home_status      family_income self_employed  \\\n",
       "0  Secretarial/Admin    Own Home  <17,500, >=15,000            No   \n",
       "1            Retired    Own Home  <27,500, >=25,000            No   \n",
       "2              Other    Own Home  <30,000, >=27,500           Yes   \n",
       "3      Manual Worker    Own Home  <15,000, >=12,500            No   \n",
       "4            Unknown    Own Home  <30,000, >=27,500            No   \n",
       "\n",
       "  self_employed_partner  ...  Investment Tax Saving Bond Home Loan  \\\n",
       "0                    No  ...                    19.99000   0.00000   \n",
       "1                    No  ...                     0.00000   0.00000   \n",
       "2                    No  ...                     0.00000   3.49000   \n",
       "3                    No  ...                     0.00000   0.00000   \n",
       "4                    No  ...                     0.00000  45.91000   \n",
       "\n",
       "  Online Purchase Amount Revenue Grid  gender         region  \\\n",
       "0                0.00000            1  Female          Wales   \n",
       "1                0.00000            2  Female     North West   \n",
       "2                0.00000            2    Male          North   \n",
       "3                0.00000            2  Female  West Midlands   \n",
       "4               25.98000            2  Female       Scotland   \n",
       "\n",
       "   Investment in Commudity  Investment in Equity  Investment in Derivative  \\\n",
       "0                 74.67000              18.66000                  32.32000   \n",
       "1                 20.19000               0.00000                   4.33000   \n",
       "2                 98.06000              31.07000                  80.96000   \n",
       "3                  4.10000              14.15000                  17.57000   \n",
       "4                 70.16000              55.86000                  80.44000   \n",
       "\n",
       "   Portfolio Balance  \n",
       "0           89.43000  \n",
       "1           22.78000  \n",
       "2          171.78000  \n",
       "3          -41.70000  \n",
       "4          235.02000  \n",
       "\n",
       "[5 rows x 32 columns]"
      ]
     },
     "execution_count": 88,
     "metadata": {},
     "output_type": "execute_result"
    }
   ],
   "source": [
    "bd.head()"
   ]
  },
  {
   "cell_type": "code",
   "execution_count": 89,
   "metadata": {
    "ExecuteTime": {
     "end_time": "2019-04-21T11:17:29.967935Z",
     "start_time": "2019-04-21T11:17:29.627692Z"
    },
    "scrolled": true
   },
   "outputs": [
    {
     "data": {
      "text/plain": [
       "REF_NO                             10155\n",
       "children                               5\n",
       "age_band                              13\n",
       "status                                 5\n",
       "occupation                             9\n",
       "occupation_partner                     9\n",
       "home_status                            5\n",
       "family_income                         13\n",
       "self_employed                          2\n",
       "self_employed_partner                  2\n",
       "year_last_moved                       95\n",
       "TVarea                                14\n",
       "post_code                          10040\n",
       "post_area                           2039\n",
       "Average Credit Card Transaction     1411\n",
       "Balance Transfer                    2183\n",
       "Term Deposit                        1419\n",
       "Life Insurance                      3111\n",
       "Medical Insurance                   1589\n",
       "Average A/C Balance                 2223\n",
       "Personal Loan                       1760\n",
       "Investment in Mutual Fund           2470\n",
       "Investment Tax Saving Bond           832\n",
       "Home Loan                            884\n",
       "Online Purchase Amount              1319\n",
       "Revenue Grid                           2\n",
       "gender                                 3\n",
       "region                                13\n",
       "Investment in Commudity             3558\n",
       "Investment in Equity                3250\n",
       "Investment in Derivative            3796\n",
       "Portfolio Balance                   8317\n",
       "dtype: int64"
      ]
     },
     "execution_count": 89,
     "metadata": {},
     "output_type": "execute_result"
    }
   ],
   "source": [
    "bd.nunique()"
   ]
  },
  {
   "cell_type": "code",
   "execution_count": 90,
   "metadata": {
    "ExecuteTime": {
     "end_time": "2019-04-21T11:17:35.110555Z",
     "start_time": "2019-04-21T11:17:35.095546Z"
    },
    "scrolled": true
   },
   "outputs": [
    {
     "data": {
      "text/plain": [
       "REF_NO                               int64\n",
       "children                            object\n",
       "age_band                            object\n",
       "status                              object\n",
       "occupation                          object\n",
       "occupation_partner                  object\n",
       "home_status                         object\n",
       "family_income                       object\n",
       "self_employed                       object\n",
       "self_employed_partner               object\n",
       "year_last_moved                      int64\n",
       "TVarea                              object\n",
       "post_code                           object\n",
       "post_area                           object\n",
       "Average Credit Card Transaction    float64\n",
       "Balance Transfer                   float64\n",
       "Term Deposit                       float64\n",
       "Life Insurance                     float64\n",
       "Medical Insurance                  float64\n",
       "Average A/C Balance                float64\n",
       "Personal Loan                      float64\n",
       "Investment in Mutual Fund          float64\n",
       "Investment Tax Saving Bond         float64\n",
       "Home Loan                          float64\n",
       "Online Purchase Amount             float64\n",
       "Revenue Grid                         int64\n",
       "gender                              object\n",
       "region                              object\n",
       "Investment in Commudity            float64\n",
       "Investment in Equity               float64\n",
       "Investment in Derivative           float64\n",
       "Portfolio Balance                  float64\n",
       "dtype: object"
      ]
     },
     "execution_count": 90,
     "metadata": {},
     "output_type": "execute_result"
    }
   ],
   "source": [
    "bd.dtypes"
   ]
  },
  {
   "cell_type": "code",
   "execution_count": 63,
   "metadata": {
    "ExecuteTime": {
     "end_time": "2019-04-21T11:23:04.564626Z",
     "start_time": "2019-04-21T11:22:57.223516Z"
    }
   },
   "outputs": [],
   "source": [
    "from sklearn.base import BaseEstimator, TransformerMixin"
   ]
  },
  {
   "cell_type": "code",
   "execution_count": 64,
   "metadata": {
    "ExecuteTime": {
     "end_time": "2019-04-21T11:23:04.580637Z",
     "start_time": "2019-04-21T11:23:04.569631Z"
    }
   },
   "outputs": [],
   "source": [
    "class VarTypeSelector(BaseEstimator, TransformerMixin):\n",
    "    \n",
    "    def __init__(self,vartype,ignore_var):\n",
    "        self.vartype=vartype\n",
    "        self.ignore_var=ignore_var\n",
    "    \n",
    "    def fit(self,x,y=None):\n",
    "        return self\n",
    "    \n",
    "    def transform(self,X):\n",
    "        return X.select_dtypes(self.vartype).drop(self.ignore_var,axis=1)"
   ]
  },
  {
   "cell_type": "code",
   "execution_count": 65,
   "metadata": {
    "ExecuteTime": {
     "end_time": "2019-04-21T11:27:44.776478Z",
     "start_time": "2019-04-21T11:27:44.753463Z"
    }
   },
   "outputs": [],
   "source": [
    "class get_dummies_PipeLineFriendly(BaseEstimator, TransformerMixin):\n",
    "    \n",
    "    def __init__(self,freq_cutoff=0):\n",
    "        self.freq_cutoff=freq_cutoff\n",
    "        self.var_cat_dict={}\n",
    "        \n",
    "    def fit(self,x,y=None):\n",
    "        data_cols=x.columns\n",
    "        for col in data_cols:\n",
    "            k=x[col].value_counts()\n",
    "            cats=k.index[k>self.freq_cutoff][:-1]\n",
    "            self.var_cat_dict[col]=cats\n",
    "        return self\n",
    "            \n",
    "    def transform(self,x,y=None):\n",
    "        dummy_data=x.copy()\n",
    "        for col in self.var_cat_dict.keys():\n",
    "            for cat in self.var_cat_dict[col]:\n",
    "                name=col+'_'+cat\n",
    "                dummy_data[name]=(dummy_data[col]==cat).astype(int)\n",
    "            del dummy_data[col]\n",
    "        return dummy_data"
   ]
  },
  {
   "cell_type": "code",
   "execution_count": 66,
   "metadata": {
    "ExecuteTime": {
     "end_time": "2019-04-21T11:28:11.548907Z",
     "start_time": "2019-04-21T11:28:11.349773Z"
    }
   },
   "outputs": [],
   "source": [
    "from sklearn.pipeline import Pipeline,FeatureUnion"
   ]
  },
  {
   "cell_type": "code",
   "execution_count": 91,
   "metadata": {
    "ExecuteTime": {
     "end_time": "2019-04-21T11:28:16.344209Z",
     "start_time": "2019-04-21T11:28:13.678375Z"
    }
   },
   "outputs": [],
   "source": [
    "from sklearn.linear_model import LogisticRegression\n",
    "from sklearn.model_selection import train_test_split"
   ]
  },
  {
   "cell_type": "code",
   "execution_count": 92,
   "metadata": {
    "ExecuteTime": {
     "end_time": "2019-04-21T11:28:46.618039Z",
     "start_time": "2019-04-21T11:28:46.515973Z"
    }
   },
   "outputs": [],
   "source": [
    "bd_train,bd_test=train_test_split(bd,test_size=0.2,random_state=2)"
   ]
  },
  {
   "cell_type": "code",
   "execution_count": 93,
   "metadata": {
    "ExecuteTime": {
     "end_time": "2019-04-21T11:28:48.194115Z",
     "start_time": "2019-04-21T11:28:48.086041Z"
    }
   },
   "outputs": [],
   "source": [
    "x_train=bd_train.drop('Revenue Grid',axis=1)\n",
    "x_test=bd_test.drop('Revenue Grid',axis=1)\n",
    "y_train=bd_train['Revenue Grid']\n",
    "y_test=bd_test['Revenue Grid']"
   ]
  },
  {
   "cell_type": "code",
   "execution_count": 94,
   "metadata": {
    "ExecuteTime": {
     "end_time": "2019-04-21T11:28:51.700469Z",
     "start_time": "2019-04-21T11:28:51.684459Z"
    },
    "scrolled": true
   },
   "outputs": [
    {
     "data": {
      "text/plain": [
       "REF_NO                               int64\n",
       "children                            object\n",
       "age_band                            object\n",
       "status                              object\n",
       "occupation                          object\n",
       "occupation_partner                  object\n",
       "home_status                         object\n",
       "family_income                       object\n",
       "self_employed                       object\n",
       "self_employed_partner               object\n",
       "year_last_moved                      int64\n",
       "TVarea                              object\n",
       "post_code                           object\n",
       "post_area                           object\n",
       "Average Credit Card Transaction    float64\n",
       "Balance Transfer                   float64\n",
       "Term Deposit                       float64\n",
       "Life Insurance                     float64\n",
       "Medical Insurance                  float64\n",
       "Average A/C Balance                float64\n",
       "Personal Loan                      float64\n",
       "Investment in Mutual Fund          float64\n",
       "Investment Tax Saving Bond         float64\n",
       "Home Loan                          float64\n",
       "Online Purchase Amount             float64\n",
       "Revenue Grid                         int64\n",
       "gender                              object\n",
       "region                              object\n",
       "Investment in Commudity            float64\n",
       "Investment in Equity               float64\n",
       "Investment in Derivative           float64\n",
       "Portfolio Balance                  float64\n",
       "dtype: object"
      ]
     },
     "execution_count": 94,
     "metadata": {},
     "output_type": "execute_result"
    }
   ],
   "source": [
    "bd.dtypes"
   ]
  },
  {
   "cell_type": "code",
   "execution_count": 95,
   "metadata": {
    "ExecuteTime": {
     "end_time": "2019-04-21T11:34:26.992074Z",
     "start_time": "2019-04-21T11:34:26.985071Z"
    }
   },
   "outputs": [],
   "source": [
    "cat_pipe=Pipeline([\n",
    "    ('cat_var',VarTypeSelector(['object'],ignore_var=['post_code','post_area'])),\n",
    "    ('dummies',get_dummies_PipeLineFriendly(100))\n",
    "])"
   ]
  },
  {
   "cell_type": "code",
   "execution_count": 96,
   "metadata": {
    "ExecuteTime": {
     "end_time": "2019-04-21T11:34:27.215223Z",
     "start_time": "2019-04-21T11:34:27.206218Z"
    }
   },
   "outputs": [],
   "source": [
    "pipe2=Pipeline([\n",
    "    ('features',FeatureUnion([\n",
    "        ('cat_pipe',cat_pipe),\n",
    "        ('num_var',VarTypeSelector(['int64','float64'],ignore_var=['REF_NO']))\n",
    "    ])),\n",
    "    ('clf',LogisticRegression())\n",
    "])"
   ]
  },
  {
   "cell_type": "code",
   "execution_count": 97,
   "metadata": {
    "ExecuteTime": {
     "end_time": "2019-04-21T11:34:28.907413Z",
     "start_time": "2019-04-21T11:34:27.694556Z"
    }
   },
   "outputs": [
    {
     "name": "stderr",
     "output_type": "stream",
     "text": [
      "C:\\Users\\Karthik\\Programs\\Anaconda3\\lib\\site-packages\\sklearn\\linear_model\\_logistic.py:940: ConvergenceWarning: lbfgs failed to converge (status=1):\n",
      "STOP: TOTAL NO. of ITERATIONS REACHED LIMIT.\n",
      "\n",
      "Increase the number of iterations (max_iter) or scale the data as shown in:\n",
      "    https://scikit-learn.org/stable/modules/preprocessing.html\n",
      "Please also refer to the documentation for alternative solver options:\n",
      "    https://scikit-learn.org/stable/modules/linear_model.html#logistic-regression\n",
      "  extra_warning_msg=_LOGISTIC_SOLVER_CONVERGENCE_MSG)\n"
     ]
    },
    {
     "data": {
      "text/plain": [
       "Pipeline(memory=None,\n",
       "         steps=[('features',\n",
       "                 FeatureUnion(n_jobs=None,\n",
       "                              transformer_list=[('cat_pipe',\n",
       "                                                 Pipeline(memory=None,\n",
       "                                                          steps=[('cat_var',\n",
       "                                                                  VarTypeSelector(ignore_var=['post_code',\n",
       "                                                                                              'post_area'],\n",
       "                                                                                  vartype=['object'])),\n",
       "                                                                 ('dummies',\n",
       "                                                                  get_dummies_PipeLineFriendly(freq_cutoff=100))],\n",
       "                                                          verbose=False)),\n",
       "                                                ('num_var',\n",
       "                                                 VarTypeSelector(ignore_var=['REF_NO'],\n",
       "                                                                 vartype=['int64',\n",
       "                                                                          'float64']))],\n",
       "                              transformer_weights=None, verbose=False)),\n",
       "                ('clf',\n",
       "                 LogisticRegression(C=1.0, class_weight=None, dual=False,\n",
       "                                    fit_intercept=True, intercept_scaling=1,\n",
       "                                    l1_ratio=None, max_iter=100,\n",
       "                                    multi_class='auto', n_jobs=None,\n",
       "                                    penalty='l2', random_state=None,\n",
       "                                    solver='lbfgs', tol=0.0001, verbose=0,\n",
       "                                    warm_start=False))],\n",
       "         verbose=False)"
      ]
     },
     "execution_count": 97,
     "metadata": {},
     "output_type": "execute_result"
    }
   ],
   "source": [
    "pipe2.fit(x_train,y_train)"
   ]
  },
  {
   "cell_type": "code",
   "execution_count": 98,
   "metadata": {
    "ExecuteTime": {
     "end_time": "2019-04-21T11:35:43.445245Z",
     "start_time": "2019-04-21T11:35:42.907887Z"
    }
   },
   "outputs": [
    {
     "data": {
      "text/plain": [
       "array([[0.00293776, 0.99706224],\n",
       "       [0.00653154, 0.99346846],\n",
       "       [0.0056417 , 0.9943583 ],\n",
       "       ...,\n",
       "       [0.39626731, 0.60373269],\n",
       "       [0.09076388, 0.90923612],\n",
       "       [0.01369318, 0.98630682]])"
      ]
     },
     "execution_count": 98,
     "metadata": {},
     "output_type": "execute_result"
    }
   ],
   "source": [
    "pipe2.predict_proba(x_test)"
   ]
  },
  {
   "cell_type": "markdown",
   "metadata": {},
   "source": [
    "## Save python objects to use later"
   ]
  },
  {
   "cell_type": "code",
   "execution_count": 99,
   "metadata": {
    "ExecuteTime": {
     "end_time": "2019-04-21T11:37:19.917041Z",
     "start_time": "2019-04-21T11:37:19.910036Z"
    }
   },
   "outputs": [],
   "source": [
    "from sklearn.externals import joblib"
   ]
  },
  {
   "cell_type": "code",
   "execution_count": 100,
   "metadata": {},
   "outputs": [
    {
     "data": {
      "text/plain": [
       "['my_model_pipeline.pkl']"
      ]
     },
     "execution_count": 100,
     "metadata": {},
     "output_type": "execute_result"
    }
   ],
   "source": [
    "joblib.dump(pipe2,'my_model_pipeline.pkl')"
   ]
  },
  {
   "cell_type": "markdown",
   "metadata": {
    "collapsed": true
   },
   "source": [
    "## New Data Scoring"
   ]
  },
  {
   "cell_type": "code",
   "execution_count": 101,
   "metadata": {},
   "outputs": [],
   "source": [
    "file1=r'G:/EdData/Existing Base_Scoring.csv'\n",
    "\n",
    "new=pd.read_csv(file1)"
   ]
  },
  {
   "cell_type": "code",
   "execution_count": 102,
   "metadata": {},
   "outputs": [],
   "source": [
    "mymodel=open('my_model_pipeline.pkl','rb')\n",
    "pipe=joblib.load(mymodel)"
   ]
  },
  {
   "cell_type": "code",
   "execution_count": 103,
   "metadata": {
    "scrolled": true
   },
   "outputs": [
    {
     "data": {
      "text/plain": [
       "array([[6.91445382e-01, 3.08554618e-01],\n",
       "       [1.96655252e-02, 9.80334475e-01],\n",
       "       [2.23717147e-02, 9.77628285e-01],\n",
       "       [1.28025292e-02, 9.87197471e-01],\n",
       "       [2.45225343e-02, 9.75477466e-01],\n",
       "       [4.19738561e-02, 9.58026144e-01],\n",
       "       [5.61844140e-04, 9.99438156e-01],\n",
       "       [2.47824369e-04, 9.99752176e-01],\n",
       "       [3.29162503e-03, 9.96708375e-01],\n",
       "       [7.91559364e-03, 9.92084406e-01],\n",
       "       [1.35062488e-02, 9.86493751e-01],\n",
       "       [1.35901894e-02, 9.86409811e-01],\n",
       "       [3.69768641e-02, 9.63023136e-01],\n",
       "       [2.25021830e-05, 9.99977498e-01],\n",
       "       [3.34023148e-02, 9.66597685e-01],\n",
       "       [7.03922740e-04, 9.99296077e-01],\n",
       "       [2.97401732e-03, 9.97025983e-01],\n",
       "       [7.04280126e-02, 9.29571987e-01],\n",
       "       [6.90326792e-03, 9.93096732e-01],\n",
       "       [3.24732346e-02, 9.67526765e-01],\n",
       "       [4.63857211e-02, 9.53614279e-01],\n",
       "       [2.71086008e-02, 9.72891399e-01],\n",
       "       [1.70933068e-04, 9.99829067e-01],\n",
       "       [6.38062766e-04, 9.99361937e-01],\n",
       "       [7.13606575e-03, 9.92863934e-01],\n",
       "       [3.36754320e-02, 9.66324568e-01],\n",
       "       [6.29572541e-02, 9.37042746e-01],\n",
       "       [1.87268914e-02, 9.81273109e-01],\n",
       "       [7.39889187e-02, 9.26011081e-01],\n",
       "       [7.24839159e-05, 9.99927516e-01],\n",
       "       [3.60120819e-03, 9.96398792e-01],\n",
       "       [3.17171633e-03, 9.96828284e-01],\n",
       "       [3.85037154e-01, 6.14962846e-01],\n",
       "       [1.12344519e-02, 9.88765548e-01],\n",
       "       [5.15719030e-02, 9.48428097e-01],\n",
       "       [2.03127908e-03, 9.97968721e-01],\n",
       "       [3.70204583e-03, 9.96297954e-01],\n",
       "       [1.16993665e-02, 9.88300634e-01],\n",
       "       [1.88663400e-02, 9.81133660e-01],\n",
       "       [2.67204951e-02, 9.73279505e-01],\n",
       "       [1.56649132e-02, 9.84335087e-01],\n",
       "       [8.29511763e-05, 9.99917049e-01],\n",
       "       [1.06999164e-02, 9.89300084e-01],\n",
       "       [3.41199785e-02, 9.65880022e-01],\n",
       "       [7.55476139e-03, 9.92445239e-01],\n",
       "       [9.99999043e-01, 9.56521823e-07],\n",
       "       [7.38507449e-02, 9.26149255e-01],\n",
       "       [1.14997992e-01, 8.85002008e-01],\n",
       "       [4.16684898e-02, 9.58331510e-01],\n",
       "       [2.55767624e-02, 9.74423238e-01],\n",
       "       [1.17568457e-02, 9.88243154e-01],\n",
       "       [2.64677985e-02, 9.73532202e-01],\n",
       "       [1.75025039e-02, 9.82497496e-01],\n",
       "       [1.00000000e+00, 1.83145805e-12],\n",
       "       [1.26709311e-02, 9.87329069e-01],\n",
       "       [5.03474514e-02, 9.49652549e-01],\n",
       "       [1.76355422e-02, 9.82364458e-01],\n",
       "       [8.58610681e-03, 9.91413893e-01],\n",
       "       [9.97657728e-03, 9.90023423e-01],\n",
       "       [1.71813866e-01, 8.28186134e-01],\n",
       "       [4.72897248e-02, 9.52710275e-01],\n",
       "       [9.99994425e-01, 5.57505315e-06],\n",
       "       [4.75149107e-02, 9.52485089e-01],\n",
       "       [9.85042870e-03, 9.90149571e-01],\n",
       "       [4.57122845e-03, 9.95428772e-01],\n",
       "       [4.99704884e-02, 9.50029512e-01],\n",
       "       [3.85411596e-03, 9.96145884e-01],\n",
       "       [3.83070700e-02, 9.61692930e-01],\n",
       "       [2.31686544e-02, 9.76831346e-01],\n",
       "       [1.30855840e-02, 9.86914416e-01],\n",
       "       [2.22414539e-02, 9.77758546e-01],\n",
       "       [6.51953426e-02, 9.34804657e-01],\n",
       "       [4.95596272e-03, 9.95044037e-01],\n",
       "       [1.89064176e-02, 9.81093582e-01],\n",
       "       [1.99994813e-02, 9.80000519e-01],\n",
       "       [2.99574467e-02, 9.70042553e-01],\n",
       "       [2.30561882e-03, 9.97694381e-01],\n",
       "       [2.22180641e-03, 9.97778194e-01],\n",
       "       [2.29868203e-02, 9.77013180e-01],\n",
       "       [2.50858150e-01, 7.49141850e-01],\n",
       "       [1.61740758e-01, 8.38259242e-01],\n",
       "       [1.74157631e-02, 9.82584237e-01],\n",
       "       [3.55025818e-02, 9.64497418e-01],\n",
       "       [9.85859420e-04, 9.99014141e-01],\n",
       "       [9.99988654e-01, 1.13463768e-05],\n",
       "       [7.37607683e-03, 9.92623923e-01],\n",
       "       [4.35664394e-03, 9.95643356e-01],\n",
       "       [1.23851409e-01, 8.76148591e-01],\n",
       "       [1.07444635e-02, 9.89255536e-01],\n",
       "       [9.58231461e-03, 9.90417685e-01],\n",
       "       [2.77856207e-02, 9.72214379e-01],\n",
       "       [1.57582302e-02, 9.84241770e-01],\n",
       "       [1.42207711e-02, 9.85779229e-01],\n",
       "       [8.55654093e-01, 1.44345907e-01],\n",
       "       [2.13580823e-02, 9.78641918e-01],\n",
       "       [5.58636115e-02, 9.44136389e-01],\n",
       "       [1.56265014e-02, 9.84373499e-01],\n",
       "       [1.62677435e-02, 9.83732257e-01],\n",
       "       [1.68245597e-02, 9.83175440e-01],\n",
       "       [1.34568341e-02, 9.86543166e-01]])"
      ]
     },
     "execution_count": 103,
     "metadata": {},
     "output_type": "execute_result"
    }
   ],
   "source": [
    "pipe.predict_proba(new)"
   ]
  },
  {
   "cell_type": "code",
   "execution_count": 104,
   "metadata": {},
   "outputs": [
    {
     "data": {
      "text/plain": [
       "(100, 31)"
      ]
     },
     "execution_count": 104,
     "metadata": {},
     "output_type": "execute_result"
    }
   ],
   "source": [
    "new.shape"
   ]
  }
 ],
 "metadata": {
  "kernelspec": {
   "display_name": "Python 3",
   "language": "python",
   "name": "python3"
  },
  "language_info": {
   "codemirror_mode": {
    "name": "ipython",
    "version": 3
   },
   "file_extension": ".py",
   "mimetype": "text/x-python",
   "name": "python",
   "nbconvert_exporter": "python",
   "pygments_lexer": "ipython3",
   "version": "3.7.3"
  },
  "toc": {
   "base_numbering": 1,
   "nav_menu": {},
   "number_sections": true,
   "sideBar": true,
   "skip_h1_title": false,
   "title_cell": "Table of Contents",
   "title_sidebar": "Contents",
   "toc_cell": false,
   "toc_position": {},
   "toc_section_display": true,
   "toc_window_display": false
  }
 },
 "nbformat": 4,
 "nbformat_minor": 2
}
