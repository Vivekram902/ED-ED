{
 "cells": [
  {
   "cell_type": "code",
   "execution_count": 1,
   "metadata": {},
   "outputs": [],
   "source": [
    "import warnings\n",
    "warnings.filterwarnings('ignore')"
   ]
  },
  {
   "cell_type": "code",
   "execution_count": 2,
   "metadata": {},
   "outputs": [],
   "source": [
    "file=r'G:/EdData/loans data.csv'"
   ]
  },
  {
   "cell_type": "code",
   "execution_count": 3,
   "metadata": {},
   "outputs": [],
   "source": [
    "import pandas as pd"
   ]
  },
  {
   "cell_type": "code",
   "execution_count": 4,
   "metadata": {},
   "outputs": [],
   "source": [
    "from sklearn.ensemble import RandomForestRegressor"
   ]
  },
  {
   "cell_type": "code",
   "execution_count": 5,
   "metadata": {},
   "outputs": [],
   "source": [
    "data=pd.read_csv(file)"
   ]
  },
  {
   "cell_type": "code",
   "execution_count": 6,
   "metadata": {},
   "outputs": [
    {
     "data": {
      "text/html": [
       "<div>\n",
       "<style scoped>\n",
       "    .dataframe tbody tr th:only-of-type {\n",
       "        vertical-align: middle;\n",
       "    }\n",
       "\n",
       "    .dataframe tbody tr th {\n",
       "        vertical-align: top;\n",
       "    }\n",
       "\n",
       "    .dataframe thead th {\n",
       "        text-align: right;\n",
       "    }\n",
       "</style>\n",
       "<table border=\"1\" class=\"dataframe\">\n",
       "  <thead>\n",
       "    <tr style=\"text-align: right;\">\n",
       "      <th></th>\n",
       "      <th>ID</th>\n",
       "      <th>Amount.Requested</th>\n",
       "      <th>Amount.Funded.By.Investors</th>\n",
       "      <th>Interest.Rate</th>\n",
       "      <th>Loan.Length</th>\n",
       "      <th>Loan.Purpose</th>\n",
       "      <th>Debt.To.Income.Ratio</th>\n",
       "      <th>State</th>\n",
       "      <th>Home.Ownership</th>\n",
       "      <th>Monthly.Income</th>\n",
       "      <th>FICO.Range</th>\n",
       "      <th>Open.CREDIT.Lines</th>\n",
       "      <th>Revolving.CREDIT.Balance</th>\n",
       "      <th>Inquiries.in.the.Last.6.Months</th>\n",
       "      <th>Employment.Length</th>\n",
       "    </tr>\n",
       "  </thead>\n",
       "  <tbody>\n",
       "    <tr>\n",
       "      <th>0</th>\n",
       "      <td>81174.0</td>\n",
       "      <td>20000</td>\n",
       "      <td>20000</td>\n",
       "      <td>8.90%</td>\n",
       "      <td>36 months</td>\n",
       "      <td>debt_consolidation</td>\n",
       "      <td>14.90%</td>\n",
       "      <td>SC</td>\n",
       "      <td>MORTGAGE</td>\n",
       "      <td>6541.67</td>\n",
       "      <td>735-739</td>\n",
       "      <td>14</td>\n",
       "      <td>14272</td>\n",
       "      <td>2.0</td>\n",
       "      <td>&lt; 1 year</td>\n",
       "    </tr>\n",
       "    <tr>\n",
       "      <th>1</th>\n",
       "      <td>99592.0</td>\n",
       "      <td>19200</td>\n",
       "      <td>19200</td>\n",
       "      <td>12.12%</td>\n",
       "      <td>36 months</td>\n",
       "      <td>debt_consolidation</td>\n",
       "      <td>28.36%</td>\n",
       "      <td>TX</td>\n",
       "      <td>MORTGAGE</td>\n",
       "      <td>4583.33</td>\n",
       "      <td>715-719</td>\n",
       "      <td>12</td>\n",
       "      <td>11140</td>\n",
       "      <td>1.0</td>\n",
       "      <td>2 years</td>\n",
       "    </tr>\n",
       "    <tr>\n",
       "      <th>2</th>\n",
       "      <td>80059.0</td>\n",
       "      <td>35000</td>\n",
       "      <td>35000</td>\n",
       "      <td>21.98%</td>\n",
       "      <td>60 months</td>\n",
       "      <td>debt_consolidation</td>\n",
       "      <td>23.81%</td>\n",
       "      <td>CA</td>\n",
       "      <td>MORTGAGE</td>\n",
       "      <td>11500.00</td>\n",
       "      <td>690-694</td>\n",
       "      <td>14</td>\n",
       "      <td>21977</td>\n",
       "      <td>1.0</td>\n",
       "      <td>2 years</td>\n",
       "    </tr>\n",
       "    <tr>\n",
       "      <th>3</th>\n",
       "      <td>15825.0</td>\n",
       "      <td>10000</td>\n",
       "      <td>9975</td>\n",
       "      <td>9.99%</td>\n",
       "      <td>36 months</td>\n",
       "      <td>debt_consolidation</td>\n",
       "      <td>14.30%</td>\n",
       "      <td>KS</td>\n",
       "      <td>MORTGAGE</td>\n",
       "      <td>3833.33</td>\n",
       "      <td>695-699</td>\n",
       "      <td>10</td>\n",
       "      <td>9346</td>\n",
       "      <td>0.0</td>\n",
       "      <td>5 years</td>\n",
       "    </tr>\n",
       "    <tr>\n",
       "      <th>4</th>\n",
       "      <td>33182.0</td>\n",
       "      <td>12000</td>\n",
       "      <td>12000</td>\n",
       "      <td>11.71%</td>\n",
       "      <td>36 months</td>\n",
       "      <td>credit_card</td>\n",
       "      <td>18.78%</td>\n",
       "      <td>NJ</td>\n",
       "      <td>RENT</td>\n",
       "      <td>3195.00</td>\n",
       "      <td>695-699</td>\n",
       "      <td>11</td>\n",
       "      <td>14469</td>\n",
       "      <td>0.0</td>\n",
       "      <td>9 years</td>\n",
       "    </tr>\n",
       "  </tbody>\n",
       "</table>\n",
       "</div>"
      ],
      "text/plain": [
       "        ID Amount.Requested Amount.Funded.By.Investors Interest.Rate  \\\n",
       "0  81174.0            20000                      20000         8.90%   \n",
       "1  99592.0            19200                      19200        12.12%   \n",
       "2  80059.0            35000                      35000        21.98%   \n",
       "3  15825.0            10000                       9975         9.99%   \n",
       "4  33182.0            12000                      12000        11.71%   \n",
       "\n",
       "  Loan.Length        Loan.Purpose Debt.To.Income.Ratio State Home.Ownership  \\\n",
       "0   36 months  debt_consolidation               14.90%    SC       MORTGAGE   \n",
       "1   36 months  debt_consolidation               28.36%    TX       MORTGAGE   \n",
       "2   60 months  debt_consolidation               23.81%    CA       MORTGAGE   \n",
       "3   36 months  debt_consolidation               14.30%    KS       MORTGAGE   \n",
       "4   36 months         credit_card               18.78%    NJ           RENT   \n",
       "\n",
       "   Monthly.Income FICO.Range Open.CREDIT.Lines Revolving.CREDIT.Balance  \\\n",
       "0         6541.67    735-739                14                    14272   \n",
       "1         4583.33    715-719                12                    11140   \n",
       "2        11500.00    690-694                14                    21977   \n",
       "3         3833.33    695-699                10                     9346   \n",
       "4         3195.00    695-699                11                    14469   \n",
       "\n",
       "   Inquiries.in.the.Last.6.Months Employment.Length  \n",
       "0                             2.0          < 1 year  \n",
       "1                             1.0           2 years  \n",
       "2                             1.0           2 years  \n",
       "3                             0.0           5 years  \n",
       "4                             0.0           9 years  "
      ]
     },
     "execution_count": 6,
     "metadata": {},
     "output_type": "execute_result"
    }
   ],
   "source": [
    "data.head()"
   ]
  },
  {
   "cell_type": "code",
   "execution_count": 7,
   "metadata": {},
   "outputs": [],
   "source": [
    "y=data['Interest.Rate'].str.replace('%','').astype(float)"
   ]
  },
  {
   "cell_type": "code",
   "execution_count": 8,
   "metadata": {},
   "outputs": [],
   "source": [
    "x=data[['Amount.Requested','FICO.Range']]"
   ]
  },
  {
   "cell_type": "code",
   "execution_count": 9,
   "metadata": {},
   "outputs": [],
   "source": [
    "temp=x['FICO.Range'].str.split('-',expand=True).astype(int)"
   ]
  },
  {
   "cell_type": "code",
   "execution_count": 10,
   "metadata": {},
   "outputs": [],
   "source": [
    "x['fico']=(temp[0]+temp[1])/2"
   ]
  },
  {
   "cell_type": "code",
   "execution_count": 11,
   "metadata": {},
   "outputs": [],
   "source": [
    "del temp\n",
    "del x['FICO.Range']"
   ]
  },
  {
   "cell_type": "code",
   "execution_count": 12,
   "metadata": {},
   "outputs": [],
   "source": [
    "x['Amount.Requested']=pd.to_numeric(x['Amount.Requested'],errors='coerce')"
   ]
  },
  {
   "cell_type": "code",
   "execution_count": 13,
   "metadata": {},
   "outputs": [],
   "source": [
    "rf=RandomForestRegressor(n_estimators=150,max_features=2,bootstrap=True)"
   ]
  },
  {
   "cell_type": "code",
   "execution_count": 14,
   "metadata": {},
   "outputs": [],
   "source": [
    "for col in x:\n",
    "    x[col].fillna(x[col].mean(),inplace=True)"
   ]
  },
  {
   "cell_type": "code",
   "execution_count": 15,
   "metadata": {},
   "outputs": [
    {
     "data": {
      "text/html": [
       "<div>\n",
       "<style scoped>\n",
       "    .dataframe tbody tr th:only-of-type {\n",
       "        vertical-align: middle;\n",
       "    }\n",
       "\n",
       "    .dataframe tbody tr th {\n",
       "        vertical-align: top;\n",
       "    }\n",
       "\n",
       "    .dataframe thead th {\n",
       "        text-align: right;\n",
       "    }\n",
       "</style>\n",
       "<table border=\"1\" class=\"dataframe\">\n",
       "  <thead>\n",
       "    <tr style=\"text-align: right;\">\n",
       "      <th></th>\n",
       "      <th>Amount.Requested</th>\n",
       "      <th>fico</th>\n",
       "    </tr>\n",
       "  </thead>\n",
       "  <tbody>\n",
       "    <tr>\n",
       "      <th>count</th>\n",
       "      <td>2500.000000</td>\n",
       "      <td>2500.000000</td>\n",
       "    </tr>\n",
       "    <tr>\n",
       "      <th>mean</th>\n",
       "      <td>12412.414830</td>\n",
       "      <td>707.888000</td>\n",
       "    </tr>\n",
       "    <tr>\n",
       "      <th>std</th>\n",
       "      <td>7797.762818</td>\n",
       "      <td>35.033161</td>\n",
       "    </tr>\n",
       "    <tr>\n",
       "      <th>min</th>\n",
       "      <td>1000.000000</td>\n",
       "      <td>642.000000</td>\n",
       "    </tr>\n",
       "    <tr>\n",
       "      <th>25%</th>\n",
       "      <td>6000.000000</td>\n",
       "      <td>682.000000</td>\n",
       "    </tr>\n",
       "    <tr>\n",
       "      <th>50%</th>\n",
       "      <td>10000.000000</td>\n",
       "      <td>702.000000</td>\n",
       "    </tr>\n",
       "    <tr>\n",
       "      <th>75%</th>\n",
       "      <td>17000.000000</td>\n",
       "      <td>727.000000</td>\n",
       "    </tr>\n",
       "    <tr>\n",
       "      <th>max</th>\n",
       "      <td>35000.000000</td>\n",
       "      <td>832.000000</td>\n",
       "    </tr>\n",
       "  </tbody>\n",
       "</table>\n",
       "</div>"
      ],
      "text/plain": [
       "       Amount.Requested         fico\n",
       "count       2500.000000  2500.000000\n",
       "mean       12412.414830   707.888000\n",
       "std         7797.762818    35.033161\n",
       "min         1000.000000   642.000000\n",
       "25%         6000.000000   682.000000\n",
       "50%        10000.000000   702.000000\n",
       "75%        17000.000000   727.000000\n",
       "max        35000.000000   832.000000"
      ]
     },
     "execution_count": 15,
     "metadata": {},
     "output_type": "execute_result"
    }
   ],
   "source": [
    "x.describe()"
   ]
  },
  {
   "cell_type": "code",
   "execution_count": 16,
   "metadata": {},
   "outputs": [
    {
     "data": {
      "text/plain": [
       "RandomForestRegressor(bootstrap=True, ccp_alpha=0.0, criterion='mse',\n",
       "                      max_depth=None, max_features=2, max_leaf_nodes=None,\n",
       "                      max_samples=None, min_impurity_decrease=0.0,\n",
       "                      min_impurity_split=None, min_samples_leaf=1,\n",
       "                      min_samples_split=2, min_weight_fraction_leaf=0.0,\n",
       "                      n_estimators=150, n_jobs=None, oob_score=False,\n",
       "                      random_state=None, verbose=0, warm_start=False)"
      ]
     },
     "execution_count": 16,
     "metadata": {},
     "output_type": "execute_result"
    }
   ],
   "source": [
    "rf.fit(x,y)"
   ]
  },
  {
   "cell_type": "code",
   "execution_count": 34,
   "metadata": {},
   "outputs": [],
   "source": [
    "# lets say we want to find out for what value of fico interest rate will be minimum if amount requested \n",
    "# is 5000\n",
    "\n",
    "# for implementing a GA we'll need to implement some version of crossover and mutation \n",
    "\n",
    "# we'll sample 10 random values in the range of fico to start with use their average as the value which gives us optimal point \n",
    "# a list of 10 [it could be any other number ], will help us in implementing cross over and mutation\n",
    "amount_requested=5000"
   ]
  },
  {
   "cell_type": "code",
   "execution_count": 17,
   "metadata": {},
   "outputs": [],
   "source": [
    "def objective(values):\n",
    "    \n",
    "    data=[amount_requested,np.array(values).mean()]\n",
    "    df=pd.DataFrame(data).T\n",
    "    pred=rf.predict(df)[0]\n",
    "    return(pred)"
   ]
  },
  {
   "cell_type": "code",
   "execution_count": 18,
   "metadata": {},
   "outputs": [],
   "source": [
    "import numpy as np"
   ]
  },
  {
   "cell_type": "code",
   "execution_count": 21,
   "metadata": {},
   "outputs": [],
   "source": [
    "def obj_pop(population):\n",
    "    scores=[]\n",
    "    for values in population:\n",
    "        scores.append([values,objective(values)])\n",
    "    return(scores)"
   ]
  },
  {
   "cell_type": "code",
   "execution_count": 22,
   "metadata": {},
   "outputs": [],
   "source": [
    "def select_top_6(population):\n",
    "    scores=obj_pop(population)\n",
    "#     print(scores)\n",
    "    scores.sort(key=lambda x:x[1])\n",
    "#     print(scores)\n",
    "    selected=scores[:6]\n",
    "    return(selected)"
   ]
  },
  {
   "cell_type": "code",
   "execution_count": 29,
   "metadata": {},
   "outputs": [],
   "source": [
    "def crossover_mutate(parents):\n",
    "    pairs=[(0,5),(1,4),(2,3)]\n",
    "    # this can be made random\n",
    "    # every pair of parents makes a child , half of child's gene/values\n",
    "    # come from one parent and rest come from another \n",
    "    # then some random values in child are mutated based on some probability threshold \n",
    "    # we have taken that to be 0.7\n",
    "    children=[]\n",
    "    data=parents.copy()\n",
    "    for i,j in pairs:\n",
    "        rand_ind=np.random.choice(range(10),5,replace=False)\n",
    "        \n",
    "        child=parents[i].copy()\n",
    "        for ind in rand_ind:\n",
    "            child[ind]=parents[j][ind]\n",
    "        for ind2 in range(len(child)): # mutation\n",
    "            if np.random.random()>0.7:\n",
    "                child[ind2]=np.random.randint(500,850,1)\n",
    "        children.append(child)\n",
    "    return(children)\n",
    "    "
   ]
  },
  {
   "cell_type": "code",
   "execution_count": 30,
   "metadata": {},
   "outputs": [],
   "source": [
    "# we are starting with totally random values in the range\n",
    "population=np.random.randint(500,850,size=(10,10))"
   ]
  },
  {
   "cell_type": "code",
   "execution_count": 31,
   "metadata": {},
   "outputs": [
    {
     "data": {
      "text/plain": [
       "array([[849, 734, 572, 737, 830, 811, 676, 593, 728, 614],\n",
       "       [517, 741, 782, 706, 688, 632, 642, 670, 629, 604],\n",
       "       [505, 570, 685, 785, 651, 768, 749, 650, 707, 616],\n",
       "       [671, 565, 845, 762, 848, 768, 806, 731, 556, 691],\n",
       "       [768, 593, 504, 772, 514, 554, 775, 596, 760, 578],\n",
       "       [750, 722, 639, 591, 634, 641, 778, 551, 604, 759],\n",
       "       [765, 567, 647, 679, 541, 839, 825, 833, 720, 723],\n",
       "       [835, 552, 535, 611, 572, 704, 510, 657, 775, 833],\n",
       "       [753, 753, 792, 764, 748, 741, 522, 734, 786, 700],\n",
       "       [727, 705, 769, 519, 520, 735, 644, 660, 560, 582]])"
      ]
     },
     "execution_count": 31,
     "metadata": {},
     "output_type": "execute_result"
    }
   ],
   "source": [
    "population"
   ]
  },
  {
   "cell_type": "code",
   "execution_count": 32,
   "metadata": {},
   "outputs": [],
   "source": [
    "num_gen=100"
   ]
  },
  {
   "cell_type": "code",
   "execution_count": 35,
   "metadata": {
    "scrolled": true
   },
   "outputs": [
    {
     "name": "stdout",
     "output_type": "stream",
     "text": [
      "8.179944708994709\n",
      "8.179944708994709\n",
      "8.179944708994709\n",
      "7.191231636141635\n",
      "7.191231636141635\n",
      "6.572468888888877\n",
      "6.572468888888877\n",
      "6.572468888888877\n",
      "6.572468888888877\n",
      "6.572468888888877\n",
      "6.572468888888877\n",
      "6.572468888888877\n",
      "6.572468888888877\n",
      "6.228208888888884\n",
      "6.228208888888884\n",
      "6.228208888888884\n",
      "6.228208888888884\n",
      "6.162199999999983\n",
      "6.162199999999983\n",
      "6.162199999999983\n",
      "6.162199999999983\n",
      "6.118542222222216\n",
      "6.118542222222216\n",
      "6.118542222222216\n",
      "6.118542222222216\n",
      "6.118542222222216\n",
      "6.118542222222216\n",
      "6.118542222222216\n",
      "6.118542222222216\n",
      "6.118542222222216\n",
      "6.118542222222216\n",
      "6.118542222222216\n",
      "6.118542222222216\n",
      "6.118542222222216\n",
      "6.118542222222216\n",
      "6.118542222222216\n",
      "6.118542222222216\n",
      "6.118542222222216\n",
      "6.118542222222216\n",
      "6.118542222222216\n",
      "6.118542222222216\n",
      "6.118542222222216\n",
      "6.118542222222216\n",
      "6.118542222222216\n",
      "6.118542222222216\n",
      "6.118542222222216\n",
      "6.118542222222216\n",
      "6.118542222222216\n",
      "6.118542222222216\n",
      "6.118542222222216\n",
      "6.118542222222216\n",
      "6.118542222222216\n",
      "6.118542222222216\n",
      "6.118542222222216\n",
      "6.118542222222216\n",
      "6.118542222222216\n",
      "6.118542222222216\n",
      "6.118542222222216\n",
      "6.118542222222216\n",
      "6.118542222222216\n",
      "6.118542222222216\n",
      "6.118542222222216\n",
      "6.118542222222216\n",
      "6.118542222222216\n",
      "6.118542222222216\n",
      "6.118542222222216\n",
      "6.118542222222216\n",
      "6.118542222222216\n",
      "6.118542222222216\n",
      "6.118542222222216\n",
      "6.118542222222216\n",
      "6.118542222222216\n",
      "6.118542222222216\n",
      "6.118542222222216\n",
      "6.118542222222216\n",
      "6.118542222222216\n",
      "6.118542222222216\n",
      "6.118542222222216\n",
      "6.118542222222216\n",
      "6.118542222222216\n",
      "6.118542222222216\n",
      "6.118542222222216\n",
      "6.118542222222216\n",
      "6.118542222222216\n",
      "6.118542222222216\n",
      "6.118542222222216\n",
      "6.118542222222216\n",
      "6.118542222222216\n",
      "6.118542222222216\n",
      "6.118542222222216\n",
      "6.118542222222216\n",
      "6.118542222222216\n",
      "6.118542222222216\n",
      "6.118542222222216\n",
      "6.118542222222216\n",
      "6.118542222222216\n",
      "6.118542222222216\n",
      "6.118542222222216\n",
      "6.118542222222216\n",
      "6.118542222222216\n"
     ]
    }
   ],
   "source": [
    "for _ in range(num_gen):\n",
    "    scored_pop=select_top_6(population)\n",
    "    best_score=scored_pop[0][1]\n",
    "    print(best_score)\n",
    "    parents=[x for x,_ in select_top_6(population)]\n",
    "    \n",
    "    # new population will be top 6 parents + 3 children and + 3 random member\n",
    "    # as the new population evolves , we will reach to best possible outcome\n",
    "    \n",
    "    new_population=parents+crossover_mutate(parents)\n",
    "    new_population.extend(np.random.randint(500,850,size=(3,10)))\n",
    "    \n",
    "    population=new_population\n"
   ]
  },
  {
   "cell_type": "code",
   "execution_count": 36,
   "metadata": {},
   "outputs": [],
   "source": [
    "best_value=select_top_6(population)[0][0].mean()"
   ]
  },
  {
   "cell_type": "code",
   "execution_count": 37,
   "metadata": {},
   "outputs": [
    {
     "data": {
      "text/plain": [
       "770.4"
      ]
     },
     "execution_count": 37,
     "metadata": {},
     "output_type": "execute_result"
    }
   ],
   "source": [
    "best_value"
   ]
  },
  {
   "cell_type": "code",
   "execution_count": null,
   "metadata": {},
   "outputs": [],
   "source": []
  }
 ],
 "metadata": {
  "kernelspec": {
   "display_name": "Python 3",
   "language": "python",
   "name": "python3"
  },
  "language_info": {
   "codemirror_mode": {
    "name": "ipython",
    "version": 3
   },
   "file_extension": ".py",
   "mimetype": "text/x-python",
   "name": "python",
   "nbconvert_exporter": "python",
   "pygments_lexer": "ipython3",
   "version": "3.7.3"
  }
 },
 "nbformat": 4,
 "nbformat_minor": 2
}
