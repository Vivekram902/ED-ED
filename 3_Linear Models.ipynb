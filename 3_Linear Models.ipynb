{
 "cells": [
  {
   "cell_type": "markdown",
   "metadata": {},
   "source": [
    "For the theoretical background regarding these techniques , pleases refer to theoretical discussion on linear models. \n",
    "\n",
    "Now we'll discuss a case study solution using multiple linear regression, and regularised linear regresison [Ridge and Lasso] . We'll also look at hyper parameter tuning for regularised regression.\n",
    "\n",
    "A little background on the case study. This data belongs to a loan aggregator agency which connects loan applications to different financial institutions in attempt to get the best interest rate. They want to now utilise past data to predict interest rate given by any financial institute just by looking at loan application characteristics.\n",
    "\n",
    "To achieve that , they have decided to do a POC with a data from a particular financial institution. The data is given in the file \"loans data.csv\". Lets begin: "
   ]
  },
  {
   "cell_type": "code",
   "execution_count": 1,
   "metadata": {
    "ExecuteTime": {
     "end_time": "2019-03-24T09:14:45.082423Z",
     "start_time": "2019-03-24T09:14:25.626268Z"
    }
   },
   "outputs": [
    {
     "name": "stderr",
     "output_type": "stream",
     "text": [
      "C:\\Users\\DELL\\Anaconda3\\lib\\site-packages\\sklearn\\cross_validation.py:44: DeprecationWarning: This module was deprecated in version 0.18 in favor of the model_selection module into which all the refactored classes and functions are moved. Also note that the interface of the new CV iterators are different from that of this module. This module will be removed in 0.20.\n",
      "  \"This module will be removed in 0.20.\", DeprecationWarning)\n"
     ]
    }
   ],
   "source": [
    "\n",
    "\n",
    "import pandas as pd\n",
    "import math\n",
    "from sklearn.model_selection_selection import train_test_split\n",
    "from sklearn.linear_model import LinearRegression, Lasso, Ridge\n",
    "import numpy as np\n",
    "from sklearn.model_selection import KFold\n",
    "%matplotlib inline\n"
   ]
  },
  {
   "cell_type": "code",
   "execution_count": null,
   "metadata": {
    "collapsed": true
   },
   "outputs": [],
   "source": [
    "data_file=r'D:/Data/loans data.csv'\n",
    "ld=pd.read_csv(data_file)"
   ]
  },
  {
   "cell_type": "code",
   "execution_count": null,
   "metadata": {
    "ExecuteTime": {
     "end_time": "2019-03-10T09:11:07.954289Z",
     "start_time": "2019-03-10T09:11:07.175772Z"
    },
    "collapsed": true
   },
   "outputs": [],
   "source": [
    "ld.head()"
   ]
  },
  {
   "cell_type": "code",
   "execution_count": null,
   "metadata": {
    "ExecuteTime": {
     "end_time": "2019-03-10T09:11:46.365672Z",
     "start_time": "2019-03-10T09:11:46.357667Z"
    },
    "collapsed": true
   },
   "outputs": [],
   "source": [
    "ld.shape"
   ]
  },
  {
   "cell_type": "markdown",
   "metadata": {},
   "source": [
    "You can see that variable Interest.Rate and Debt.To.Income.Ratio contain \"%\" sign in their values and because of which they have come as character columns in the data. Lets remove these percentages first."
   ]
  },
  {
   "cell_type": "code",
   "execution_count": null,
   "metadata": {
    "ExecuteTime": {
     "end_time": "2019-03-10T09:12:38.408552Z",
     "start_time": "2019-03-10T09:12:38.357517Z"
    },
    "collapsed": true
   },
   "outputs": [],
   "source": [
    "for col in [\"Interest.Rate\",\"Debt.To.Income.Ratio\"]:\n",
    "    ld[col]=ld[col].astype(\"str\")\n",
    "    ld[col]=[x.replace(\"%\",\"\") for x in ld[col]]\n",
    "\n"
   ]
  },
  {
   "cell_type": "code",
   "execution_count": null,
   "metadata": {
    "ExecuteTime": {
     "end_time": "2019-03-10T09:12:43.678195Z",
     "start_time": "2019-03-10T09:12:43.636164Z"
    },
    "collapsed": true
   },
   "outputs": [],
   "source": [
    "ld.head()"
   ]
  },
  {
   "cell_type": "code",
   "execution_count": null,
   "metadata": {
    "ExecuteTime": {
     "end_time": "2019-03-10T09:12:55.781682Z",
     "start_time": "2019-03-10T09:12:55.765672Z"
    },
    "collapsed": true
   },
   "outputs": [],
   "source": [
    "ld.dtypes"
   ]
  },
  {
   "cell_type": "markdown",
   "metadata": {},
   "source": [
    "We can see that many columns which should have really been numbers have been imported as character columns , probably because some characters values in those columns in the files. We'll convert all such columns to numbers ."
   ]
  },
  {
   "cell_type": "code",
   "execution_count": null,
   "metadata": {
    "ExecuteTime": {
     "end_time": "2019-03-10T09:15:44.536410Z",
     "start_time": "2019-03-10T09:15:44.400318Z"
    },
    "collapsed": true
   },
   "outputs": [],
   "source": [
    "for col in [\"Amount.Requested\",\"Amount.Funded.By.Investors\",\"Open.CREDIT.Lines\",\"Revolving.CREDIT.Balance\",\n",
    "           \"Inquiries.in.the.Last.6.Months\",\"Interest.Rate\",\"Debt.To.Income.Ratio\"]:\n",
    "    ld[col]=pd.to_numeric(ld[col],errors=\"coerce\")"
   ]
  },
  {
   "cell_type": "code",
   "execution_count": null,
   "metadata": {
    "ExecuteTime": {
     "end_time": "2019-03-10T09:15:49.565890Z",
     "start_time": "2019-03-10T09:15:49.553883Z"
    },
    "collapsed": true
   },
   "outputs": [],
   "source": [
    "ld.dtypes"
   ]
  },
  {
   "cell_type": "markdown",
   "metadata": {},
   "source": [
    "Next we will make dummy variables for remaining categorical variables"
   ]
  },
  {
   "cell_type": "code",
   "execution_count": null,
   "metadata": {
    "ExecuteTime": {
     "end_time": "2019-03-10T09:16:40.193453Z",
     "start_time": "2019-03-10T09:16:40.096388Z"
    },
    "collapsed": true
   },
   "outputs": [],
   "source": [
    "ld[\"Loan.Length\"].value_counts()"
   ]
  },
  {
   "cell_type": "markdown",
   "metadata": {},
   "source": [
    "Function get_dummies creates dummy variables for all the categories present in the categorical variable. Result is a dataframe, we can then choose and drop the dummies that we want to drop and attach the ones selected back to our original data."
   ]
  },
  {
   "cell_type": "code",
   "execution_count": null,
   "metadata": {
    "ExecuteTime": {
     "end_time": "2019-03-10T09:25:31.634273Z",
     "start_time": "2019-03-10T09:25:31.627270Z"
    },
    "collapsed": true
   },
   "outputs": [],
   "source": [
    "ll_dummies=pd.get_dummies(ld[\"Loan.Length\"])"
   ]
  },
  {
   "cell_type": "code",
   "execution_count": null,
   "metadata": {
    "ExecuteTime": {
     "end_time": "2019-03-10T09:25:32.306720Z",
     "start_time": "2019-03-10T09:25:32.289709Z"
    },
    "collapsed": true
   },
   "outputs": [],
   "source": [
    "ll_dummies.head()"
   ]
  },
  {
   "cell_type": "markdown",
   "metadata": {},
   "source": [
    "We'll add dummy variable for \"36 months\" to our data and ignore the rest two. "
   ]
  },
  {
   "cell_type": "code",
   "execution_count": null,
   "metadata": {
    "ExecuteTime": {
     "end_time": "2019-03-10T09:34:30.083057Z",
     "start_time": "2019-03-10T09:34:30.060042Z"
    },
    "collapsed": true
   },
   "outputs": [],
   "source": [
    "ld[\"LL_36\"]=ll_dummies[\"36 months\"]"
   ]
  },
  {
   "cell_type": "markdown",
   "metadata": {},
   "source": [
    "Now that we'are done with dataframe ll_dummies , we can drop it. Below we demonstrate a general way of removing variables from notebook environment."
   ]
  },
  {
   "cell_type": "code",
   "execution_count": null,
   "metadata": {
    "ExecuteTime": {
     "end_time": "2019-03-10T09:36:03.249337Z",
     "start_time": "2019-03-10T09:36:03.141265Z"
    },
    "collapsed": true
   },
   "outputs": [],
   "source": [
    "ld.head()"
   ]
  },
  {
   "cell_type": "code",
   "execution_count": null,
   "metadata": {
    "ExecuteTime": {
     "end_time": "2019-03-10T09:35:17.696504Z",
     "start_time": "2019-03-10T09:35:14.404312Z"
    },
    "collapsed": true
   },
   "outputs": [],
   "source": [
    "%reset_selective ll_dummies"
   ]
  },
  {
   "cell_type": "markdown",
   "metadata": {},
   "source": [
    "To know what all variables are in the environment, you can use function \"who\""
   ]
  },
  {
   "cell_type": "code",
   "execution_count": null,
   "metadata": {
    "ExecuteTime": {
     "end_time": "2019-03-10T09:35:27.299810Z",
     "start_time": "2019-03-10T09:35:27.282798Z"
    },
    "collapsed": true
   },
   "outputs": [],
   "source": [
    "who"
   ]
  },
  {
   "cell_type": "markdown",
   "metadata": {},
   "source": [
    "Now that we have created dummies for Loan.Length, we need to remove this from the dataframe."
   ]
  },
  {
   "cell_type": "code",
   "execution_count": null,
   "metadata": {
    "ExecuteTime": {
     "end_time": "2019-03-10T09:36:31.180473Z",
     "start_time": "2019-03-10T09:36:31.118431Z"
    },
    "collapsed": true,
    "scrolled": true
   },
   "outputs": [],
   "source": [
    "ld=ld.drop('Loan.Length',axis=1)"
   ]
  },
  {
   "cell_type": "code",
   "execution_count": null,
   "metadata": {
    "ExecuteTime": {
     "end_time": "2019-03-10T09:36:34.742004Z",
     "start_time": "2019-03-10T09:36:34.722992Z"
    },
    "collapsed": true
   },
   "outputs": [],
   "source": [
    "ld.dtypes"
   ]
  },
  {
   "cell_type": "markdown",
   "metadata": {},
   "source": [
    "Next we examine variable \"Loan.Purpose\"."
   ]
  },
  {
   "cell_type": "code",
   "execution_count": null,
   "metadata": {
    "ExecuteTime": {
     "end_time": "2019-03-10T09:38:16.295965Z",
     "start_time": "2019-03-10T09:38:16.280955Z"
    },
    "collapsed": true
   },
   "outputs": [],
   "source": [
    "ld[\"Loan.Purpose\"].value_counts()"
   ]
  },
  {
   "cell_type": "markdown",
   "metadata": {},
   "source": [
    "There are 14 categories in that variable, we can either make 13 dummies or we can club few of these categories together and reduce the number of effective categories and then make dummy variables for those.\n",
    "\n",
    "It makes sense to club those categories which behave similarly in terms of their effect on response. Or in other words , we can club those categories for which average interest rates are similar in the data."
   ]
  },
  {
   "cell_type": "code",
   "execution_count": null,
   "metadata": {
    "ExecuteTime": {
     "end_time": "2019-03-10T09:42:59.166392Z",
     "start_time": "2019-03-10T09:42:59.019295Z"
    },
    "collapsed": true
   },
   "outputs": [],
   "source": [
    "round(ld.groupby(\"Loan.Purpose\")[\"Interest.Rate\"].mean())"
   ]
  },
  {
   "cell_type": "markdown",
   "metadata": {},
   "source": [
    "We can see from the table above that there are 4 effective categoris in the data. Lets club them"
   ]
  },
  {
   "cell_type": "code",
   "execution_count": null,
   "metadata": {
    "ExecuteTime": {
     "end_time": "2019-03-10T09:46:55.795090Z",
     "start_time": "2019-03-10T09:46:52.602965Z"
    },
    "collapsed": true
   },
   "outputs": [],
   "source": [
    "for i in range(len(ld.index)):\n",
    "    if ld[\"Loan.Purpose\"][i] in [\"car\",\"educational\",\"major_purchase\"]:\n",
    "        ld.loc[i,\"Loan.Purpose\"]=\"cem\"\n",
    "    if ld[\"Loan.Purpose\"][i] in [\"home_improvement\",\"medical\",\"vacation\",\"wedding\"]:\n",
    "        ld.loc[i,\"Loan.Purpose\"]=\"hmvw\"\n",
    "    if ld[\"Loan.Purpose\"][i] in [\"credit_card\",\"house\",\"other\",\"small_business\"]:\n",
    "        ld.loc[i,\"Loan.Purpose\"]=\"chos\"\n",
    "    if ld[\"Loan.Purpose\"][i] in [\"debt_consolidation\",\"moving\"]:\n",
    "        ld.loc[i,\"Loan.Purpose\"]=\"dm\""
   ]
  },
  {
   "cell_type": "markdown",
   "metadata": {},
   "source": [
    "Now we make dummies for this variable"
   ]
  },
  {
   "cell_type": "code",
   "execution_count": null,
   "metadata": {
    "ExecuteTime": {
     "end_time": "2019-03-10T09:47:52.186463Z",
     "start_time": "2019-03-10T09:47:52.173453Z"
    },
    "collapsed": true
   },
   "outputs": [],
   "source": [
    "lp_dummies=pd.get_dummies(ld[\"Loan.Purpose\"],prefix=\"LP\")"
   ]
  },
  {
   "cell_type": "code",
   "execution_count": null,
   "metadata": {
    "ExecuteTime": {
     "end_time": "2019-03-10T09:47:59.642790Z",
     "start_time": "2019-03-10T09:47:59.624777Z"
    },
    "collapsed": true
   },
   "outputs": [],
   "source": [
    "lp_dummies.head()"
   ]
  },
  {
   "cell_type": "markdown",
   "metadata": {},
   "source": [
    "We'll add this data to original data. And then drop original variable \"Loan.Purpose\" and one of the dummies \"LP_renewable_energy\""
   ]
  },
  {
   "cell_type": "code",
   "execution_count": null,
   "metadata": {
    "ExecuteTime": {
     "end_time": "2019-03-10T09:49:37.368479Z",
     "start_time": "2019-03-10T09:49:37.347473Z"
    },
    "collapsed": true
   },
   "outputs": [],
   "source": [
    "ld=pd.concat([ld,lp_dummies],1)\n",
    "ld=ld.drop([\"Loan.Purpose\",\"LP_renewable_energy\"],1)"
   ]
  },
  {
   "cell_type": "code",
   "execution_count": null,
   "metadata": {
    "ExecuteTime": {
     "end_time": "2019-03-10T09:49:38.093962Z",
     "start_time": "2019-03-10T09:49:38.082953Z"
    },
    "collapsed": true
   },
   "outputs": [],
   "source": [
    "ld.dtypes"
   ]
  },
  {
   "cell_type": "markdown",
   "metadata": {},
   "source": [
    "Next we look at variable \"State\"."
   ]
  },
  {
   "cell_type": "code",
   "execution_count": null,
   "metadata": {
    "ExecuteTime": {
     "end_time": "2019-03-10T09:50:08.007617Z",
     "start_time": "2019-03-10T09:50:07.988604Z"
    },
    "collapsed": true
   },
   "outputs": [],
   "source": [
    "ld[\"State\"].nunique()"
   ]
  },
  {
   "cell_type": "markdown",
   "metadata": {},
   "source": [
    "There are too many unique values. Although its not a legit reason to drop a variable. But we'll ignore this in this discussion any way in order to reduce amount of data prep that we are doing here. You can try including it in the model and see if the performance improves."
   ]
  },
  {
   "cell_type": "code",
   "execution_count": null,
   "metadata": {
    "ExecuteTime": {
     "end_time": "2019-03-10T09:56:55.879026Z",
     "start_time": "2019-03-10T09:56:55.870020Z"
    },
    "collapsed": true
   },
   "outputs": [],
   "source": [
    "ld=ld.drop([\"State\"],1)"
   ]
  },
  {
   "cell_type": "markdown",
   "metadata": {},
   "source": [
    "Next we take care of variable Home.Ownership."
   ]
  },
  {
   "cell_type": "code",
   "execution_count": null,
   "metadata": {
    "ExecuteTime": {
     "end_time": "2019-03-10T09:57:17.954142Z",
     "start_time": "2019-03-10T09:57:17.939129Z"
    },
    "collapsed": true
   },
   "outputs": [],
   "source": [
    "ld[\"Home.Ownership\"].value_counts()"
   ]
  },
  {
   "cell_type": "code",
   "execution_count": null,
   "metadata": {
    "ExecuteTime": {
     "end_time": "2019-03-10T09:57:50.243417Z",
     "start_time": "2019-03-10T09:57:50.120334Z"
    },
    "collapsed": true
   },
   "outputs": [],
   "source": [
    "ld[\"ho_mort\"]=np.where(ld[\"Home.Ownership\"]==\"MORTGAGE\",1,0)\n",
    "ld[\"ho_rent\"]=np.where(ld[\"Home.Ownership\"]==\"RENT\",1,0)\n",
    "ld=ld.drop([\"Home.Ownership\"],1)"
   ]
  },
  {
   "cell_type": "markdown",
   "metadata": {},
   "source": [
    "We have simply ignored values OTHER and NONE , and considered that there are only 3 categories and created only two dummies . We did this because of very low frequencies of OTHER and NONE"
   ]
  },
  {
   "cell_type": "code",
   "execution_count": null,
   "metadata": {
    "ExecuteTime": {
     "end_time": "2019-03-10T09:58:13.108961Z",
     "start_time": "2019-03-10T09:58:13.099955Z"
    },
    "collapsed": true
   },
   "outputs": [],
   "source": [
    "ld[\"FICO.Range\"].head()"
   ]
  },
  {
   "cell_type": "markdown",
   "metadata": {},
   "source": [
    "If you look at first few values of variable FICO.Range , you can see that we can convert it to numeric by taking average of the range given. To do that first we need to split the column with \"-\", so that we can have both end of ranges in separate columns and then we can simply average them.\n",
    "Lets first split."
   ]
  },
  {
   "cell_type": "code",
   "execution_count": null,
   "metadata": {
    "ExecuteTime": {
     "end_time": "2019-03-10T10:01:28.005047Z",
     "start_time": "2019-03-10T10:01:27.891964Z"
    },
    "collapsed": true,
    "scrolled": true
   },
   "outputs": [],
   "source": [
    "ld['f1'] = ld['FICO.Range'].str.split(\"-\",expand=True)[0]\n",
    "ld['f2'] = ld['FICO.Range'].str.split(\"-\",expand=True)[1]"
   ]
  },
  {
   "cell_type": "code",
   "execution_count": null,
   "metadata": {
    "ExecuteTime": {
     "end_time": "2019-03-10T08:32:42.762267Z",
     "start_time": "2019-03-10T08:32:42.758264Z"
    },
    "collapsed": true
   },
   "outputs": [],
   "source": [
    "# ld['f1'], ld['f2'] = zip(*ld['FICO.Range'].apply(lambda x: x.split('-', 1)))"
   ]
  },
  {
   "cell_type": "markdown",
   "metadata": {},
   "source": [
    "Now we create new variable \"fico\" by averaging f1 and f2. And then we'll drop the original variable FICO.Range and f1,f2."
   ]
  },
  {
   "cell_type": "code",
   "execution_count": null,
   "metadata": {
    "ExecuteTime": {
     "end_time": "2019-03-10T10:02:11.147778Z",
     "start_time": "2019-03-10T10:02:10.477301Z"
    },
    "collapsed": true
   },
   "outputs": [],
   "source": [
    "ld[\"fico\"]=0.5*(pd.to_numeric(ld[\"f1\"])+pd.to_numeric(ld[\"f2\"]))\n",
    "\n",
    "ld=ld.drop([\"FICO.Range\",\"f1\",\"f2\"],1)"
   ]
  },
  {
   "cell_type": "markdown",
   "metadata": {},
   "source": [
    "Next we look at variavle Employment.Length. You'll see that we can convert that to number as well."
   ]
  },
  {
   "cell_type": "code",
   "execution_count": null,
   "metadata": {
    "ExecuteTime": {
     "end_time": "2019-03-10T10:02:39.021957Z",
     "start_time": "2019-03-10T10:02:39.005945Z"
    },
    "collapsed": true
   },
   "outputs": [],
   "source": [
    "ld.dtypes"
   ]
  },
  {
   "cell_type": "code",
   "execution_count": null,
   "metadata": {
    "ExecuteTime": {
     "end_time": "2019-03-10T10:02:45.074039Z",
     "start_time": "2019-03-10T10:02:45.061030Z"
    },
    "collapsed": true
   },
   "outputs": [],
   "source": [
    "ld[\"Employment.Length\"].value_counts()"
   ]
  },
  {
   "cell_type": "code",
   "execution_count": null,
   "metadata": {
    "ExecuteTime": {
     "end_time": "2019-03-10T10:03:33.851694Z",
     "start_time": "2019-03-10T10:03:33.838685Z"
    },
    "collapsed": true
   },
   "outputs": [],
   "source": [
    "ld[\"Employment.Length\"]=ld[\"Employment.Length\"].astype(\"str\")\n",
    "ld[\"Employment.Length\"]=[x.replace(\"years\",\"\") for x in ld[\"Employment.Length\"]]\n",
    "ld[\"Employment.Length\"]=[x.replace(\"year\",\"\") for x in ld[\"Employment.Length\"]]"
   ]
  },
  {
   "cell_type": "code",
   "execution_count": null,
   "metadata": {
    "ExecuteTime": {
     "end_time": "2019-03-10T10:03:40.779418Z",
     "start_time": "2019-03-10T10:03:40.767409Z"
    },
    "collapsed": true
   },
   "outputs": [],
   "source": [
    "ld[\"Employment.Length\"].value_counts()"
   ]
  },
  {
   "cell_type": "markdown",
   "metadata": {},
   "source": [
    "We can convert everything else to numbers , but \"Unk\" are a problem. We can look at average interest across all values of Employment.Length and then replace \"Unk\" with value which has closet average response."
   ]
  },
  {
   "cell_type": "code",
   "execution_count": null,
   "metadata": {
    "ExecuteTime": {
     "end_time": "2019-03-10T10:04:12.006907Z",
     "start_time": "2019-03-10T10:04:11.947868Z"
    },
    "collapsed": true
   },
   "outputs": [],
   "source": [
    "round(ld.groupby(\"Employment.Length\")[\"Interest.Rate\"].mean(),2)"
   ]
  },
  {
   "cell_type": "markdown",
   "metadata": {},
   "source": [
    "As you can see \"Unk\" is similar to \"< 1\"."
   ]
  },
  {
   "cell_type": "code",
   "execution_count": null,
   "metadata": {
    "ExecuteTime": {
     "end_time": "2019-03-10T10:07:21.566039Z",
     "start_time": "2019-03-10T10:07:21.546028Z"
    },
    "collapsed": true
   },
   "outputs": [],
   "source": [
    "ld[\"Employment.Length\"]=[x.replace(\"Unk\",\"< 1\") for x in ld[\"Employment.Length\"]]\n",
    "ld[\"Employment.Length\"]=[x.replace(\"10+\",\"10\") for x in ld[\"Employment.Length\"]]\n",
    "ld[\"Employment.Length\"]=[x.replace(\"< 1\",\"0\") for x in ld[\"Employment.Length\"]]\n",
    "ld[\"Employment.Length\"]=pd.to_numeric(ld[\"Employment.Length\"],errors=\"coerce\")"
   ]
  },
  {
   "cell_type": "code",
   "execution_count": null,
   "metadata": {
    "ExecuteTime": {
     "end_time": "2019-03-10T10:07:22.748868Z",
     "start_time": "2019-03-10T10:07:22.734860Z"
    },
    "collapsed": true
   },
   "outputs": [],
   "source": [
    "ld.dtypes"
   ]
  },
  {
   "cell_type": "markdown",
   "metadata": {},
   "source": [
    "Now we have all the variables as numbers. After dropping observations with missing values , we can proceed to build oru model."
   ]
  },
  {
   "cell_type": "code",
   "execution_count": null,
   "metadata": {
    "ExecuteTime": {
     "end_time": "2019-03-10T10:07:49.567366Z",
     "start_time": "2019-03-10T10:07:49.560361Z"
    },
    "collapsed": true
   },
   "outputs": [],
   "source": [
    "ld.shape"
   ]
  },
  {
   "cell_type": "code",
   "execution_count": null,
   "metadata": {
    "ExecuteTime": {
     "end_time": "2019-03-10T10:08:02.765798Z",
     "start_time": "2019-03-10T10:08:02.616701Z"
    },
    "collapsed": true
   },
   "outputs": [],
   "source": [
    "ld.dropna(axis=0,inplace=True)"
   ]
  },
  {
   "cell_type": "code",
   "execution_count": null,
   "metadata": {
    "ExecuteTime": {
     "end_time": "2019-03-10T10:08:25.793928Z",
     "start_time": "2019-03-10T10:08:25.785924Z"
    },
    "collapsed": true
   },
   "outputs": [],
   "source": [
    "ld.shape"
   ]
  },
  {
   "cell_type": "markdown",
   "metadata": {},
   "source": [
    "We now split our data into two random parts . One to build model on , Another to test its performance. Option \"random_state\" is used to make our random operation reproducible."
   ]
  },
  {
   "cell_type": "code",
   "execution_count": null,
   "metadata": {
    "ExecuteTime": {
     "end_time": "2019-03-10T10:13:58.177020Z",
     "start_time": "2019-03-10T10:13:58.120983Z"
    },
    "collapsed": true
   },
   "outputs": [],
   "source": [
    "ld_train, ld_test = train_test_split(ld, test_size = 0.2,random_state=2)"
   ]
  },
  {
   "cell_type": "code",
   "execution_count": null,
   "metadata": {
    "ExecuteTime": {
     "end_time": "2019-03-10T10:14:27.822381Z",
     "start_time": "2019-03-10T10:14:27.814378Z"
    },
    "collapsed": true
   },
   "outputs": [],
   "source": [
    "print('Train -', ld_train.shape)\n",
    "print('Test  -', ld_test.shape)"
   ]
  },
  {
   "cell_type": "code",
   "execution_count": null,
   "metadata": {
    "ExecuteTime": {
     "end_time": "2019-03-10T10:41:16.605777Z",
     "start_time": "2019-03-10T10:41:16.597771Z"
    },
    "collapsed": true
   },
   "outputs": [],
   "source": [
    "lm=LinearRegression()"
   ]
  },
  {
   "cell_type": "markdown",
   "metadata": {},
   "source": [
    "Above line creates and object of class LinearRegression named lm. We can use this object to access all functions realted to LinearRegression.\n",
    "\n",
    "Now we'll separate predictors and response for both the datasets . We'll also drop ID from predictor's list because it doesnt make sense to include an ID variable in the model. Variable \"Amount.Funded.By.Investors\" will also be dropped because it wont be available until the loan has been processed. We can use only those variables which are present at the point of the business process where we want to apply our model."
   ]
  },
  {
   "cell_type": "code",
   "execution_count": null,
   "metadata": {
    "ExecuteTime": {
     "end_time": "2019-03-10T10:43:11.593175Z",
     "start_time": "2019-03-10T10:43:11.566158Z"
    },
    "collapsed": true
   },
   "outputs": [],
   "source": [
    "x_train=ld_train.drop([\"Interest.Rate\",\"ID\",\"Amount.Funded.By.Investors\"],1)\n",
    "y_train=ld_train[\"Interest.Rate\"]\n",
    "x_test=ld_test.drop([\"Interest.Rate\",\"ID\",\"Amount.Funded.By.Investors\"],1)\n",
    "y_test=ld_test[\"Interest.Rate\"]"
   ]
  },
  {
   "cell_type": "code",
   "execution_count": null,
   "metadata": {
    "ExecuteTime": {
     "end_time": "2019-03-10T10:44:46.873956Z",
     "start_time": "2019-03-10T10:44:46.822922Z"
    },
    "collapsed": true
   },
   "outputs": [],
   "source": [
    "x_train.head()"
   ]
  },
  {
   "cell_type": "code",
   "execution_count": null,
   "metadata": {
    "ExecuteTime": {
     "end_time": "2019-03-10T10:44:56.682648Z",
     "start_time": "2019-03-10T10:44:56.663635Z"
    },
    "collapsed": true
   },
   "outputs": [],
   "source": [
    "y_train.head()"
   ]
  },
  {
   "cell_type": "markdown",
   "metadata": {},
   "source": [
    "Now we can fit our model using lm the LinearRegression object that we created earlier"
   ]
  },
  {
   "cell_type": "code",
   "execution_count": null,
   "metadata": {
    "ExecuteTime": {
     "end_time": "2019-03-10T10:43:14.036901Z",
     "start_time": "2019-03-10T10:43:12.728931Z"
    },
    "collapsed": true
   },
   "outputs": [],
   "source": [
    "lm.fit(x_train,y_train)"
   ]
  },
  {
   "cell_type": "markdown",
   "metadata": {},
   "source": [
    "Next we predict resposne on our test data , calculate errors on those prediction and then rmse for those residuals. That is the measure of performance on the test data. We can use this measure to compare other models that we'll build."
   ]
  },
  {
   "cell_type": "code",
   "execution_count": null,
   "metadata": {
    "ExecuteTime": {
     "end_time": "2019-03-10T10:56:07.653126Z",
     "start_time": "2019-03-10T10:56:07.619102Z"
    },
    "collapsed": true,
    "scrolled": true
   },
   "outputs": [],
   "source": [
    "p_test=lm.predict(x_test)\n",
    "view_act_pred = pd.concat([pd.Series(y_test).reset_index(drop=True), pd.Series(p_test)], axis=1)\n",
    "view_act_pred.columns = ['Actual', 'Pred']\n",
    "view_act_pred['Error'] = view_act_pred.Actual - view_act_pred.Pred\n",
    "view_act_pred.head()"
   ]
  },
  {
   "cell_type": "code",
   "execution_count": null,
   "metadata": {
    "ExecuteTime": {
     "end_time": "2019-03-10T10:53:36.244390Z",
     "start_time": "2019-03-10T10:53:36.214372Z"
    },
    "collapsed": true
   },
   "outputs": [],
   "source": [
    "residual=y_test-p_test\n",
    "\n",
    "rmse_lm=np.sqrt(np.dot(residual,residual)/len(p_test))\n",
    "\n",
    "rmse_lm"
   ]
  },
  {
   "cell_type": "markdown",
   "metadata": {},
   "source": [
    "We can use this to compare our linear regression model with other techniques and evenutall pick the one with least error ."
   ]
  },
  {
   "cell_type": "markdown",
   "metadata": {},
   "source": [
    "Next we show how to extract coefficient produced by our model"
   ]
  },
  {
   "cell_type": "code",
   "execution_count": null,
   "metadata": {
    "ExecuteTime": {
     "end_time": "2019-03-10T10:56:42.973180Z",
     "start_time": "2019-03-10T10:56:42.912140Z"
    },
    "collapsed": true
   },
   "outputs": [],
   "source": [
    "lm.coef_"
   ]
  },
  {
   "cell_type": "code",
   "execution_count": null,
   "metadata": {
    "ExecuteTime": {
     "end_time": "2019-03-10T10:58:58.088059Z",
     "start_time": "2019-03-10T10:58:58.075052Z"
    },
    "collapsed": true
   },
   "outputs": [],
   "source": [
    "coefs=lm.coef_\n",
    "\n",
    "features=x_train.columns\n",
    "\n",
    "list(zip(features,coefs))"
   ]
  },
  {
   "cell_type": "code",
   "execution_count": null,
   "metadata": {
    "ExecuteTime": {
     "end_time": "2019-03-10T10:59:22.415622Z",
     "start_time": "2019-03-10T10:59:22.408617Z"
    },
    "collapsed": true
   },
   "outputs": [],
   "source": [
    "lm.intercept_"
   ]
  },
  {
   "cell_type": "markdown",
   "metadata": {},
   "source": [
    "We can see that linear regression has produced coefficients for all variables. If you recall our theoretical discussion, we need to penalise coefficient for the variables which are not really contributing well to our resposne and might be causing overfitting of the model. Among the regularised technique we'll first look at Ridge regression.\n",
    "\n",
    "Since penalty in ridge regression is a hyperparameter , we'd look at multiple values of it and choose the best one through 10 fold cross validation."
   ]
  },
  {
   "cell_type": "code",
   "execution_count": null,
   "metadata": {
    "ExecuteTime": {
     "end_time": "2019-03-10T11:18:32.677289Z",
     "start_time": "2019-03-10T11:18:32.668283Z"
    },
    "collapsed": true
   },
   "outputs": [],
   "source": [
    "# Finding best value of penalty weight with cross validation for ridge regression\n",
    "alphas=np.linspace(.0001,10,100)\n",
    "# We need to reset index for cross validation to work without hitch\n",
    "x_train.reset_index(drop=True,inplace=True)\n",
    "y_train.reset_index(drop=True,inplace=True)"
   ]
  },
  {
   "cell_type": "code",
   "execution_count": null,
   "metadata": {
    "ExecuteTime": {
     "end_time": "2019-03-10T11:04:07.602631Z",
     "start_time": "2019-03-10T11:04:07.594624Z"
    },
    "collapsed": true
   },
   "outputs": [],
   "source": [
    "x_train.shape"
   ]
  },
  {
   "cell_type": "code",
   "execution_count": null,
   "metadata": {
    "ExecuteTime": {
     "end_time": "2019-03-10T11:22:28.755074Z",
     "start_time": "2019-03-10T11:22:16.055620Z"
    },
    "collapsed": true
   },
   "outputs": [],
   "source": [
    "rmse_list=[]\n",
    "for a in alphas:\n",
    "    ridge = Ridge(fit_intercept=True, alpha=a)\n",
    "\n",
    "    # computing average RMSE across 10-fold cross validation\n",
    "#     kf = KFold(len(x_train), n_folds=10, random_state=2)\n",
    "    kf = KFold(n_splits=10, random_state=2)\n",
    "    xval_err = 0\n",
    "#     for train, test in kf:\n",
    "    for train, test in kf.split(x_train):\n",
    "        ridge.fit(x_train.loc[train], y_train[train])\n",
    "        p = ridge.predict(x_train.loc[test])\n",
    "        err = y_train[test] - p\n",
    "        xval_err += np.dot(err,err)\n",
    "    rmse_10cv = np.sqrt(xval_err/len(x_train))\n",
    "    # uncomment below to print rmse values for individidual alphas\n",
    "#     print('{:.3f}\\t {:.6f}\\t '.format(a,rmse_10cv))\n",
    "    rmse_list.extend([rmse_10cv])\n",
    "best_alpha=alphas[rmse_list==min(rmse_list)]\n",
    "print('Alpha with min 10cv error is : ',best_alpha )"
   ]
  },
  {
   "cell_type": "markdown",
   "metadata": {},
   "source": [
    "best value of alpha  might be slightly different across different runs because of random nature of cross validation. So dont worry if you determine a different value of best alpha.\n",
    "\n",
    "Next we fit Ridge Regression on the entire train data with best value of alpha we just determined.\n"
   ]
  },
  {
   "cell_type": "code",
   "execution_count": null,
   "metadata": {
    "ExecuteTime": {
     "end_time": "2019-03-10T11:26:13.775352Z",
     "start_time": "2019-03-10T11:26:13.758342Z"
    },
    "collapsed": true
   },
   "outputs": [],
   "source": [
    "\n",
    "ridge=Ridge(fit_intercept=True,alpha=best_alpha)\n",
    "\n",
    "ridge.fit(x_train,y_train)"
   ]
  },
  {
   "cell_type": "code",
   "execution_count": null,
   "metadata": {
    "ExecuteTime": {
     "end_time": "2019-03-10T11:26:27.560813Z",
     "start_time": "2019-03-10T11:26:27.546805Z"
    },
    "collapsed": true
   },
   "outputs": [],
   "source": [
    "list(zip(x_train.columns,ridge.coef_))"
   ]
  },
  {
   "cell_type": "code",
   "execution_count": null,
   "metadata": {
    "ExecuteTime": {
     "end_time": "2019-03-10T11:27:35.730048Z",
     "start_time": "2019-03-10T11:27:35.717039Z"
    },
    "collapsed": true
   },
   "outputs": [],
   "source": [
    "p_test=ridge.predict(x_test)\n",
    "\n",
    "residual=y_test - p_test\n",
    "\n",
    "rmse_ridge=np.sqrt(np.dot(residual,residual)/len(p_test))\n",
    "\n",
    "rmse_ridge"
   ]
  },
  {
   "cell_type": "markdown",
   "metadata": {},
   "source": [
    "You can see that ridge regression though, shrinks the coefficients but never makes them exactly zero, essentially never reduce our model size. Next we look at lasso Regression."
   ]
  },
  {
   "cell_type": "code",
   "execution_count": null,
   "metadata": {
    "ExecuteTime": {
     "end_time": "2019-03-10T11:28:35.312641Z",
     "start_time": "2019-03-10T11:28:23.236600Z"
    },
    "collapsed": true,
    "scrolled": true
   },
   "outputs": [],
   "source": [
    "alphas=np.linspace(0.0001,1,100)\n",
    "rmse_list=[]\n",
    "for a in alphas:\n",
    "    lasso = Lasso(fit_intercept=True, alpha=a,max_iter=10000)\n",
    "\n",
    "    # computing RMSE using 10-fold cross validation\n",
    "#     kf = KFold(len(x_train), n_folds=10)\n",
    "    kf = KFold(n_splits=10, random_state=2)\n",
    "    xval_err = 0\n",
    "#     for train, test in kf:\n",
    "    for train, test in kf.split(x_train):\n",
    "        lasso.fit(x_train.loc[train], y_train[train])\n",
    "        p =lasso.predict(x_train.loc[test])\n",
    "        err = p - y_train[test]\n",
    "        xval_err += np.dot(err,err)\n",
    "    rmse_10cv = np.sqrt(xval_err/len(x_train))\n",
    "    rmse_list.extend([rmse_10cv])\n",
    "    # Uncomment below to print rmse values of individual alphas\n",
    "#     print('{:.3f}\\t {:.4f}\\t '.format(a,rmse_10cv))\n",
    "best_alpha=alphas[rmse_list==min(rmse_list)]\n",
    "print('Alpha with min 10cv error is : ',best_alpha )"
   ]
  },
  {
   "cell_type": "code",
   "execution_count": null,
   "metadata": {
    "ExecuteTime": {
     "end_time": "2019-03-10T11:29:45.018252Z",
     "start_time": "2019-03-10T11:29:44.998239Z"
    },
    "collapsed": true
   },
   "outputs": [],
   "source": [
    "lasso=Lasso(fit_intercept=True,alpha=best_alpha)\n",
    "\n",
    "lasso.fit(x_train,y_train)"
   ]
  },
  {
   "cell_type": "code",
   "execution_count": null,
   "metadata": {
    "ExecuteTime": {
     "end_time": "2019-03-10T11:29:52.484316Z",
     "start_time": "2019-03-10T11:29:52.474309Z"
    },
    "collapsed": true
   },
   "outputs": [],
   "source": [
    "list(zip(x_train.columns,lasso.coef_))"
   ]
  },
  {
   "cell_type": "code",
   "execution_count": null,
   "metadata": {
    "ExecuteTime": {
     "end_time": "2019-03-10T11:30:44.492305Z",
     "start_time": "2019-03-10T11:30:44.472292Z"
    },
    "collapsed": true
   },
   "outputs": [],
   "source": [
    "p_test=lasso.predict(x_test)\n",
    "\n",
    "residual=p_test-y_test\n",
    "\n",
    "rmse_lasso=np.sqrt(np.dot(residual,residual)/len(p_test))\n",
    "\n",
    "rmse_lasso"
   ]
  },
  {
   "cell_type": "code",
   "execution_count": null,
   "metadata": {
    "ExecuteTime": {
     "end_time": "2019-03-10T11:45:05.700566Z",
     "start_time": "2019-03-10T11:45:05.626517Z"
    },
    "collapsed": true
   },
   "outputs": [],
   "source": [
    "# Testing on a new record / Scoring\n",
    "\n",
    "scoring = pd.read_csv('D:/Data/loans_data_scoring.csv')\n",
    "scoring"
   ]
  },
  {
   "cell_type": "code",
   "execution_count": null,
   "metadata": {
    "ExecuteTime": {
     "end_time": "2019-03-10T11:45:24.217558Z",
     "start_time": "2019-03-10T11:45:24.176531Z"
    },
    "collapsed": true
   },
   "outputs": [],
   "source": [
    "scoring['Predicted'] = lasso.predict(scoring)\n",
    "scoring"
   ]
  },
  {
   "cell_type": "markdown",
   "metadata": {
    "collapsed": true
   },
   "source": [
    "We can see that lasso regression, not only improves performance on the data slightly , but also makes size of the model smaller by making many coefficents exactly zero, thus excluding them from our model."
   ]
  },
  {
   "cell_type": "code",
   "execution_count": null,
   "metadata": {
    "ExecuteTime": {
     "end_time": "2019-03-16T09:50:30.511013Z",
     "start_time": "2019-03-16T09:50:30.507010Z"
    },
    "collapsed": true
   },
   "outputs": [],
   "source": [
    "import math"
   ]
  },
  {
   "cell_type": "code",
   "execution_count": null,
   "metadata": {
    "ExecuteTime": {
     "end_time": "2019-03-16T09:58:21.866884Z",
     "start_time": "2019-03-16T09:58:21.857878Z"
    },
    "collapsed": true
   },
   "outputs": [],
   "source": [
    "P=0.001\n",
    "P/(1-P)\n",
    "math.log(P/(1-P))"
   ]
  },
  {
   "cell_type": "code",
   "execution_count": null,
   "metadata": {
    "ExecuteTime": {
     "end_time": "2019-03-16T10:13:17.194248Z",
     "start_time": "2019-03-16T10:13:17.181239Z"
    },
    "collapsed": true
   },
   "outputs": [],
   "source": [
    "b0= 0.8\n",
    "b1 = 0.5\n",
    "x1 = 1\n",
    "z=b0+b1*x1\n",
    "print(z)\n",
    "print(math.exp(z)/(1+math.exp(z)))"
   ]
  },
  {
   "cell_type": "markdown",
   "metadata": {},
   "source": [
    "### Logistic Model for Binary Classification\n",
    "\n",
    "A retail banking institution is going to float a stock trading facility for their existing customer. Since this kind of facitlity is nothing new , company knows that they will have to incetivise their customers for adopting their offerings. One way to incetiwise is to offer discounts on the commision for trading transactions.\n",
    "\n",
    "One issue with that is that only about 10% of the customers do enought trades for earnings after discounts to be profitable. Company wants to figure out, which are those 10% customer so that it can selectively offer them discount. there is no magic way to figure that out. So company rolled out this service to about 10000+ of their customers and observed their trading behaviour for 6 months and after that they labelled them into two revenue.grids 1 and 2.\n",
    "using this data, now they want us to build a classification model which can be used to classify their remaining customers into these revenue grids.\n",
    "\n"
   ]
  },
  {
   "cell_type": "markdown",
   "metadata": {},
   "source": [
    "#### Logistic Regression from Scikit Learn \n",
    "\n",
    "Logistic Regression in scikit learn already contains penalties. l1 and l2 [Read as L-one & L-two] penalties . l1 penalty is same as lasso penalty where as l2 is same as ridge penalty. parameter C for logistic regression function is the hyperparameter for penalty . However it works in inverse fashion, i.e. if C takes smalle , it means higher penalty. \n",
    "\n",
    "For the case that we have discussed here , we have discussed l1 penalty with value of C as 1. We have left following things for you to try on your own.\n",
    "\n",
    "* model with l2 penalty\n",
    "* Finding optimal value of hyperparameter C with cross-validation for both the penalties\n",
    "\n",
    "You will find these in the practice exercise as well\n",
    "\n",
    "you can use auc value obtained from function roc_auc_score to select best value for the hyperparameter. Higher the auc, better is the model . If you dont recall this, please go back to the theoretical reading material.\n",
    "\n",
    "Lets beging our model building process.\n"
   ]
  },
  {
   "cell_type": "code",
   "execution_count": 4,
   "metadata": {
    "ExecuteTime": {
     "end_time": "2019-03-24T10:00:57.308035Z",
     "start_time": "2019-03-24T10:00:57.300029Z"
    },
    "collapsed": true
   },
   "outputs": [],
   "source": [
    "from sklearn.linear_model import LogisticRegression\n",
    "from sklearn.metrics import roc_auc_score"
   ]
  },
  {
   "cell_type": "code",
   "execution_count": 16,
   "metadata": {
    "ExecuteTime": {
     "end_time": "2019-03-24T10:11:22.431065Z",
     "start_time": "2019-03-24T10:11:22.282968Z"
    },
    "collapsed": true
   },
   "outputs": [],
   "source": [
    "data_file=r'D:/Data/Existing Base.csv'\n",
    "bd=pd.read_csv(data_file)"
   ]
  },
  {
   "cell_type": "code",
   "execution_count": 17,
   "metadata": {
    "ExecuteTime": {
     "end_time": "2019-03-24T10:11:22.623194Z",
     "start_time": "2019-03-24T10:11:22.553146Z"
    }
   },
   "outputs": [
    {
     "data": {
      "text/html": [
       "<div>\n",
       "<style scoped>\n",
       "    .dataframe tbody tr th:only-of-type {\n",
       "        vertical-align: middle;\n",
       "    }\n",
       "\n",
       "    .dataframe tbody tr th {\n",
       "        vertical-align: top;\n",
       "    }\n",
       "\n",
       "    .dataframe thead th {\n",
       "        text-align: right;\n",
       "    }\n",
       "</style>\n",
       "<table border=\"1\" class=\"dataframe\">\n",
       "  <thead>\n",
       "    <tr style=\"text-align: right;\">\n",
       "      <th></th>\n",
       "      <th>REF_NO</th>\n",
       "      <th>children</th>\n",
       "      <th>age_band</th>\n",
       "      <th>status</th>\n",
       "      <th>occupation</th>\n",
       "      <th>occupation_partner</th>\n",
       "      <th>home_status</th>\n",
       "      <th>family_income</th>\n",
       "      <th>self_employed</th>\n",
       "      <th>self_employed_partner</th>\n",
       "      <th>...</th>\n",
       "      <th>Investment Tax Saving Bond</th>\n",
       "      <th>Home Loan</th>\n",
       "      <th>Online Purchase Amount</th>\n",
       "      <th>Revenue Grid</th>\n",
       "      <th>gender</th>\n",
       "      <th>region</th>\n",
       "      <th>Investment in Commudity</th>\n",
       "      <th>Investment in Equity</th>\n",
       "      <th>Investment in Derivative</th>\n",
       "      <th>Portfolio Balance</th>\n",
       "    </tr>\n",
       "  </thead>\n",
       "  <tbody>\n",
       "    <tr>\n",
       "      <th>0</th>\n",
       "      <td>1</td>\n",
       "      <td>Zero</td>\n",
       "      <td>51-55</td>\n",
       "      <td>Partner</td>\n",
       "      <td>Manual Worker</td>\n",
       "      <td>Secretarial/Admin</td>\n",
       "      <td>Own Home</td>\n",
       "      <td>&lt;17,500, &gt;=15,000</td>\n",
       "      <td>No</td>\n",
       "      <td>No</td>\n",
       "      <td>...</td>\n",
       "      <td>19.99</td>\n",
       "      <td>0.00</td>\n",
       "      <td>0.00</td>\n",
       "      <td>1</td>\n",
       "      <td>Female</td>\n",
       "      <td>Wales</td>\n",
       "      <td>74.67</td>\n",
       "      <td>18.66</td>\n",
       "      <td>32.32</td>\n",
       "      <td>89.43</td>\n",
       "    </tr>\n",
       "    <tr>\n",
       "      <th>1</th>\n",
       "      <td>2</td>\n",
       "      <td>Zero</td>\n",
       "      <td>55-60</td>\n",
       "      <td>Single/Never Married</td>\n",
       "      <td>Retired</td>\n",
       "      <td>Retired</td>\n",
       "      <td>Own Home</td>\n",
       "      <td>&lt;27,500, &gt;=25,000</td>\n",
       "      <td>No</td>\n",
       "      <td>No</td>\n",
       "      <td>...</td>\n",
       "      <td>0.00</td>\n",
       "      <td>0.00</td>\n",
       "      <td>0.00</td>\n",
       "      <td>2</td>\n",
       "      <td>Female</td>\n",
       "      <td>North West</td>\n",
       "      <td>20.19</td>\n",
       "      <td>0.00</td>\n",
       "      <td>4.33</td>\n",
       "      <td>22.78</td>\n",
       "    </tr>\n",
       "    <tr>\n",
       "      <th>2</th>\n",
       "      <td>3</td>\n",
       "      <td>Zero</td>\n",
       "      <td>26-30</td>\n",
       "      <td>Single/Never Married</td>\n",
       "      <td>Professional</td>\n",
       "      <td>Other</td>\n",
       "      <td>Own Home</td>\n",
       "      <td>&lt;30,000, &gt;=27,500</td>\n",
       "      <td>Yes</td>\n",
       "      <td>No</td>\n",
       "      <td>...</td>\n",
       "      <td>0.00</td>\n",
       "      <td>3.49</td>\n",
       "      <td>0.00</td>\n",
       "      <td>2</td>\n",
       "      <td>Male</td>\n",
       "      <td>North</td>\n",
       "      <td>98.06</td>\n",
       "      <td>31.07</td>\n",
       "      <td>80.96</td>\n",
       "      <td>171.78</td>\n",
       "    </tr>\n",
       "    <tr>\n",
       "      <th>3</th>\n",
       "      <td>5</td>\n",
       "      <td>Zero</td>\n",
       "      <td>18-21</td>\n",
       "      <td>Single/Never Married</td>\n",
       "      <td>Professional</td>\n",
       "      <td>Manual Worker</td>\n",
       "      <td>Own Home</td>\n",
       "      <td>&lt;15,000, &gt;=12,500</td>\n",
       "      <td>No</td>\n",
       "      <td>No</td>\n",
       "      <td>...</td>\n",
       "      <td>0.00</td>\n",
       "      <td>0.00</td>\n",
       "      <td>0.00</td>\n",
       "      <td>2</td>\n",
       "      <td>Female</td>\n",
       "      <td>West Midlands</td>\n",
       "      <td>4.10</td>\n",
       "      <td>14.15</td>\n",
       "      <td>17.57</td>\n",
       "      <td>-41.70</td>\n",
       "    </tr>\n",
       "    <tr>\n",
       "      <th>4</th>\n",
       "      <td>6</td>\n",
       "      <td>Zero</td>\n",
       "      <td>45-50</td>\n",
       "      <td>Partner</td>\n",
       "      <td>Business Manager</td>\n",
       "      <td>Unknown</td>\n",
       "      <td>Own Home</td>\n",
       "      <td>&lt;30,000, &gt;=27,500</td>\n",
       "      <td>No</td>\n",
       "      <td>No</td>\n",
       "      <td>...</td>\n",
       "      <td>0.00</td>\n",
       "      <td>45.91</td>\n",
       "      <td>25.98</td>\n",
       "      <td>2</td>\n",
       "      <td>Female</td>\n",
       "      <td>Scotland</td>\n",
       "      <td>70.16</td>\n",
       "      <td>55.86</td>\n",
       "      <td>80.44</td>\n",
       "      <td>235.02</td>\n",
       "    </tr>\n",
       "  </tbody>\n",
       "</table>\n",
       "<p>5 rows × 32 columns</p>\n",
       "</div>"
      ],
      "text/plain": [
       "   REF_NO children age_band                status        occupation  \\\n",
       "0       1     Zero    51-55               Partner     Manual Worker   \n",
       "1       2     Zero    55-60  Single/Never Married           Retired   \n",
       "2       3     Zero    26-30  Single/Never Married      Professional   \n",
       "3       5     Zero    18-21  Single/Never Married      Professional   \n",
       "4       6     Zero    45-50               Partner  Business Manager   \n",
       "\n",
       "  occupation_partner home_status      family_income self_employed  \\\n",
       "0  Secretarial/Admin    Own Home  <17,500, >=15,000            No   \n",
       "1            Retired    Own Home  <27,500, >=25,000            No   \n",
       "2              Other    Own Home  <30,000, >=27,500           Yes   \n",
       "3      Manual Worker    Own Home  <15,000, >=12,500            No   \n",
       "4            Unknown    Own Home  <30,000, >=27,500            No   \n",
       "\n",
       "  self_employed_partner        ...          Investment Tax Saving Bond  \\\n",
       "0                    No        ...                               19.99   \n",
       "1                    No        ...                                0.00   \n",
       "2                    No        ...                                0.00   \n",
       "3                    No        ...                                0.00   \n",
       "4                    No        ...                                0.00   \n",
       "\n",
       "  Home Loan Online Purchase Amount Revenue Grid  gender         region  \\\n",
       "0      0.00                   0.00            1  Female          Wales   \n",
       "1      0.00                   0.00            2  Female     North West   \n",
       "2      3.49                   0.00            2    Male          North   \n",
       "3      0.00                   0.00            2  Female  West Midlands   \n",
       "4     45.91                  25.98            2  Female       Scotland   \n",
       "\n",
       "   Investment in Commudity  Investment in Equity  Investment in Derivative  \\\n",
       "0                    74.67                 18.66                     32.32   \n",
       "1                    20.19                  0.00                      4.33   \n",
       "2                    98.06                 31.07                     80.96   \n",
       "3                     4.10                 14.15                     17.57   \n",
       "4                    70.16                 55.86                     80.44   \n",
       "\n",
       "   Portfolio Balance  \n",
       "0              89.43  \n",
       "1              22.78  \n",
       "2             171.78  \n",
       "3             -41.70  \n",
       "4             235.02  \n",
       "\n",
       "[5 rows x 32 columns]"
      ]
     },
     "execution_count": 17,
     "metadata": {},
     "output_type": "execute_result"
    }
   ],
   "source": [
    "bd.head()"
   ]
  },
  {
   "cell_type": "code",
   "execution_count": 18,
   "metadata": {
    "ExecuteTime": {
     "end_time": "2019-03-24T10:11:22.787302Z",
     "start_time": "2019-03-24T10:11:22.776295Z"
    }
   },
   "outputs": [
    {
     "data": {
      "text/plain": [
       "Zero    6208\n",
       "1       1848\n",
       "2       1607\n",
       "3        473\n",
       "4+        19\n",
       "Name: children, dtype: int64"
      ]
     },
     "execution_count": 18,
     "metadata": {},
     "output_type": "execute_result"
    }
   ],
   "source": [
    "bd[\"children\"].value_counts()"
   ]
  },
  {
   "cell_type": "markdown",
   "metadata": {},
   "source": [
    "It seems we can directly convert this to numeric."
   ]
  },
  {
   "cell_type": "code",
   "execution_count": 19,
   "metadata": {
    "ExecuteTime": {
     "end_time": "2019-03-24T10:11:23.285635Z",
     "start_time": "2019-03-24T10:11:23.240605Z"
    },
    "collapsed": true
   },
   "outputs": [],
   "source": [
    "bd.loc[bd[\"children\"]==\"Zero\",\"children\"]=\"0\"\n",
    "bd.loc[bd[\"children\"]==\"4+\",\"children\"]=\"4\"\n",
    "bd[\"children\"]=pd.to_numeric(bd[\"children\"],errors=\"coerce\")"
   ]
  },
  {
   "cell_type": "code",
   "execution_count": 20,
   "metadata": {
    "ExecuteTime": {
     "end_time": "2019-03-24T10:11:23.845007Z",
     "start_time": "2019-03-24T10:11:23.835000Z"
    }
   },
   "outputs": [
    {
     "data": {
      "text/plain": [
       "2    9069\n",
       "1    1086\n",
       "Name: Revenue Grid, dtype: int64"
      ]
     },
     "execution_count": 20,
     "metadata": {},
     "output_type": "execute_result"
    }
   ],
   "source": [
    "bd[\"Revenue Grid\"].value_counts()"
   ]
  },
  {
   "cell_type": "code",
   "execution_count": 21,
   "metadata": {
    "ExecuteTime": {
     "end_time": "2019-03-24T10:11:24.086167Z",
     "start_time": "2019-03-24T10:11:24.070156Z"
    },
    "collapsed": true
   },
   "outputs": [],
   "source": [
    "bd[\"y\"]=np.where(bd[\"Revenue Grid\"]==2,0,1)\n",
    "bd=bd.drop([\"Revenue Grid\"],1)"
   ]
  },
  {
   "cell_type": "markdown",
   "metadata": {},
   "source": [
    "For variable , age_band if we treat it as categorical variable , we can combine its categories by looking average response rate across its categories."
   ]
  },
  {
   "cell_type": "code",
   "execution_count": 22,
   "metadata": {
    "ExecuteTime": {
     "end_time": "2019-03-24T10:11:25.473117Z",
     "start_time": "2019-03-24T10:11:25.460108Z"
    },
    "scrolled": true
   },
   "outputs": [
    {
     "data": {
      "text/plain": [
       "45-50      1359\n",
       "36-40      1134\n",
       "41-45      1112\n",
       "31-35      1061\n",
       "51-55      1052\n",
       "55-60      1047\n",
       "26-30       927\n",
       "61-65       881\n",
       "65-70       598\n",
       "22-25       456\n",
       "71+         410\n",
       "18-21        63\n",
       "Unknown      55\n",
       "Name: age_band, dtype: int64"
      ]
     },
     "execution_count": 22,
     "metadata": {},
     "output_type": "execute_result"
    }
   ],
   "source": [
    "bd[\"age_band\"].value_counts()"
   ]
  },
  {
   "cell_type": "code",
   "execution_count": 23,
   "metadata": {
    "ExecuteTime": {
     "end_time": "2019-03-24T10:11:26.202605Z",
     "start_time": "2019-03-24T10:11:26.183591Z"
    }
   },
   "outputs": [
    {
     "data": {
      "text/plain": [
       "age_band\n",
       "18-21      0.17\n",
       "22-25      0.11\n",
       "26-30      0.11\n",
       "31-35      0.11\n",
       "36-40      0.13\n",
       "41-45      0.11\n",
       "45-50      0.10\n",
       "51-55      0.10\n",
       "55-60      0.11\n",
       "61-65      0.09\n",
       "65-70      0.10\n",
       "71+        0.10\n",
       "Unknown    0.05\n",
       "Name: y, dtype: float64"
      ]
     },
     "execution_count": 23,
     "metadata": {},
     "output_type": "execute_result"
    }
   ],
   "source": [
    "round(bd.groupby(\"age_band\")[\"y\"].mean(),2)"
   ]
  },
  {
   "cell_type": "code",
   "execution_count": 24,
   "metadata": {
    "ExecuteTime": {
     "end_time": "2019-03-24T10:11:44.531804Z",
     "start_time": "2019-03-24T10:11:27.890727Z"
    }
   },
   "outputs": [
    {
     "data": {
      "text/html": [
       "<div>\n",
       "<style scoped>\n",
       "    .dataframe tbody tr th:only-of-type {\n",
       "        vertical-align: middle;\n",
       "    }\n",
       "\n",
       "    .dataframe tbody tr th {\n",
       "        vertical-align: top;\n",
       "    }\n",
       "\n",
       "    .dataframe thead th {\n",
       "        text-align: right;\n",
       "    }\n",
       "</style>\n",
       "<table border=\"1\" class=\"dataframe\">\n",
       "  <thead>\n",
       "    <tr style=\"text-align: right;\">\n",
       "      <th></th>\n",
       "      <th>Unknown</th>\n",
       "      <th>ab_10</th>\n",
       "      <th>ab_11</th>\n",
       "      <th>ab_13</th>\n",
       "      <th>ab_17</th>\n",
       "      <th>ab_9</th>\n",
       "    </tr>\n",
       "  </thead>\n",
       "  <tbody>\n",
       "    <tr>\n",
       "      <th>0</th>\n",
       "      <td>0</td>\n",
       "      <td>1</td>\n",
       "      <td>0</td>\n",
       "      <td>0</td>\n",
       "      <td>0</td>\n",
       "      <td>0</td>\n",
       "    </tr>\n",
       "    <tr>\n",
       "      <th>1</th>\n",
       "      <td>0</td>\n",
       "      <td>0</td>\n",
       "      <td>1</td>\n",
       "      <td>0</td>\n",
       "      <td>0</td>\n",
       "      <td>0</td>\n",
       "    </tr>\n",
       "    <tr>\n",
       "      <th>2</th>\n",
       "      <td>0</td>\n",
       "      <td>0</td>\n",
       "      <td>1</td>\n",
       "      <td>0</td>\n",
       "      <td>0</td>\n",
       "      <td>0</td>\n",
       "    </tr>\n",
       "    <tr>\n",
       "      <th>3</th>\n",
       "      <td>0</td>\n",
       "      <td>0</td>\n",
       "      <td>0</td>\n",
       "      <td>0</td>\n",
       "      <td>1</td>\n",
       "      <td>0</td>\n",
       "    </tr>\n",
       "    <tr>\n",
       "      <th>4</th>\n",
       "      <td>0</td>\n",
       "      <td>1</td>\n",
       "      <td>0</td>\n",
       "      <td>0</td>\n",
       "      <td>0</td>\n",
       "      <td>0</td>\n",
       "    </tr>\n",
       "  </tbody>\n",
       "</table>\n",
       "</div>"
      ],
      "text/plain": [
       "   Unknown  ab_10  ab_11  ab_13  ab_17  ab_9\n",
       "0        0      1      0      0      0     0\n",
       "1        0      0      1      0      0     0\n",
       "2        0      0      1      0      0     0\n",
       "3        0      0      0      0      1     0\n",
       "4        0      1      0      0      0     0"
      ]
     },
     "execution_count": 24,
     "metadata": {},
     "output_type": "execute_result"
    }
   ],
   "source": [
    "for i in range(len(bd)):\n",
    "    if bd[\"age_band\"][i] in [\"71+\",\"65-70\",\"51-55\",\"45-50\"]:\n",
    "        bd.loc[i,\"age_band\"]=\"ab_10\"\n",
    "    if bd[\"age_band\"][i] in [\"55-60\",\"41-45\",\"31-35\",\"22-25\",\"26-30\"]:\n",
    "        bd.loc[i,\"age_band\"]=\"ab_11\"\n",
    "    if bd[\"age_band\"][i]==\"36-40\":\n",
    "        bd.loc[i,\"age_band\"]=\"ab_13\"\n",
    "    if bd[\"age_band\"][i]==\"18-21\":\n",
    "        bd.loc[i,\"age_band\"]=\"ab_17\"\n",
    "    if bd[\"age_band\"][i]==\"61-65\":\n",
    "        bd.loc[i,\"age_band\"]=\"ab_9\"\n",
    "ab_dummies=pd.get_dummies(bd[\"age_band\"])\n",
    "ab_dummies.head()"
   ]
  },
  {
   "cell_type": "markdown",
   "metadata": {},
   "source": [
    "We will add it back to the dataset, dropping the dummy for \"Unknown\"."
   ]
  },
  {
   "cell_type": "code",
   "execution_count": 25,
   "metadata": {
    "ExecuteTime": {
     "end_time": "2019-03-24T10:11:44.570831Z",
     "start_time": "2019-03-24T10:11:44.534808Z"
    }
   },
   "outputs": [],
   "source": [
    "bd=pd.concat([bd,ab_dummies],1)\n",
    "bd=bd.drop([\"age_band\",\"Unknown\"],1)"
   ]
  },
  {
   "cell_type": "code",
   "execution_count": 26,
   "metadata": {
    "ExecuteTime": {
     "end_time": "2019-03-24T10:11:49.189053Z",
     "start_time": "2019-03-24T10:11:49.176043Z"
    }
   },
   "outputs": [
    {
     "data": {
      "text/plain": [
       "Partner                 7709\n",
       "Single/Never Married    1101\n",
       "Divorced/Separated       679\n",
       "Widowed                  618\n",
       "Unknown                   48\n",
       "Name: status, dtype: int64"
      ]
     },
     "execution_count": 26,
     "metadata": {},
     "output_type": "execute_result"
    }
   ],
   "source": [
    "bd[\"status\"].value_counts()"
   ]
  },
  {
   "cell_type": "code",
   "execution_count": 27,
   "metadata": {
    "ExecuteTime": {
     "end_time": "2019-03-24T10:11:55.473378Z",
     "start_time": "2019-03-24T10:11:55.446361Z"
    },
    "collapsed": true
   },
   "outputs": [],
   "source": [
    "bd[\"st_partner\"]=np.where(bd[\"status\"]==\"Partner\",1,0)\n",
    "bd[\"st_singleNm\"]=np.where(bd[\"status\"]==\"Single/Never Married\",1,0)\n",
    "bd[\"st_divSep\"]=np.where(bd[\"status\"]==\"Divorced/Separated\",1,0)\n",
    "bd[\"st_Wido\"]=np.where(bd[\"status\"]==\"Widowed\",1,0)\n",
    "bd=bd.drop([\"status\"],1)"
   ]
  },
  {
   "cell_type": "code",
   "execution_count": 28,
   "metadata": {
    "ExecuteTime": {
     "end_time": "2019-03-24T10:11:57.608823Z",
     "start_time": "2019-03-24T10:11:57.593813Z"
    }
   },
   "outputs": [
    {
     "data": {
      "text/plain": [
       "occupation\n",
       "Business Manager     0.12\n",
       "Housewife            0.09\n",
       "Manual Worker        0.11\n",
       "Other                0.11\n",
       "Professional         0.12\n",
       "Retired              0.10\n",
       "Secretarial/Admin    0.11\n",
       "Student              0.11\n",
       "Unknown              0.11\n",
       "Name: y, dtype: float64"
      ]
     },
     "execution_count": 28,
     "metadata": {},
     "output_type": "execute_result"
    }
   ],
   "source": [
    "round(bd.groupby(\"occupation\")[\"y\"].mean(),2)"
   ]
  },
  {
   "cell_type": "code",
   "execution_count": 29,
   "metadata": {
    "ExecuteTime": {
     "end_time": "2019-03-24T10:12:17.028905Z",
     "start_time": "2019-03-24T10:12:02.339124Z"
    }
   },
   "outputs": [
    {
     "data": {
      "text/html": [
       "<div>\n",
       "<style scoped>\n",
       "    .dataframe tbody tr th:only-of-type {\n",
       "        vertical-align: middle;\n",
       "    }\n",
       "\n",
       "    .dataframe tbody tr th {\n",
       "        vertical-align: top;\n",
       "    }\n",
       "\n",
       "    .dataframe thead th {\n",
       "        text-align: right;\n",
       "    }\n",
       "</style>\n",
       "<table border=\"1\" class=\"dataframe\">\n",
       "  <thead>\n",
       "    <tr style=\"text-align: right;\">\n",
       "      <th></th>\n",
       "      <th>Housewife</th>\n",
       "      <th>oc_10</th>\n",
       "      <th>oc_11</th>\n",
       "      <th>oc_12</th>\n",
       "    </tr>\n",
       "  </thead>\n",
       "  <tbody>\n",
       "    <tr>\n",
       "      <th>0</th>\n",
       "      <td>0</td>\n",
       "      <td>0</td>\n",
       "      <td>1</td>\n",
       "      <td>0</td>\n",
       "    </tr>\n",
       "    <tr>\n",
       "      <th>1</th>\n",
       "      <td>0</td>\n",
       "      <td>1</td>\n",
       "      <td>0</td>\n",
       "      <td>0</td>\n",
       "    </tr>\n",
       "    <tr>\n",
       "      <th>2</th>\n",
       "      <td>0</td>\n",
       "      <td>0</td>\n",
       "      <td>0</td>\n",
       "      <td>1</td>\n",
       "    </tr>\n",
       "    <tr>\n",
       "      <th>3</th>\n",
       "      <td>0</td>\n",
       "      <td>0</td>\n",
       "      <td>0</td>\n",
       "      <td>1</td>\n",
       "    </tr>\n",
       "    <tr>\n",
       "      <th>4</th>\n",
       "      <td>0</td>\n",
       "      <td>0</td>\n",
       "      <td>0</td>\n",
       "      <td>1</td>\n",
       "    </tr>\n",
       "  </tbody>\n",
       "</table>\n",
       "</div>"
      ],
      "text/plain": [
       "   Housewife  oc_10  oc_11  oc_12\n",
       "0          0      0      1      0\n",
       "1          0      1      0      0\n",
       "2          0      0      0      1\n",
       "3          0      0      0      1\n",
       "4          0      0      0      1"
      ]
     },
     "execution_count": 29,
     "metadata": {},
     "output_type": "execute_result"
    }
   ],
   "source": [
    "for i in range(len(bd)):\n",
    "    if bd[\"occupation\"][i] in [\"Unknown\",\"Student\",\"Secretarial/Admin\",\"Other\",\"Manual Worker\"]:\n",
    "        bd.loc[i,\"occupation\"]=\"oc_11\"\n",
    "    if bd[\"occupation\"][i] in [\"Professional\",\"Business Manager\"]:\n",
    "        bd.loc[i,\"occupation\"]=\"oc_12\"\n",
    "    if bd[\"occupation\"][i]==\"Retired\":\n",
    "        bd.loc[i,\"occupation\"]=\"oc_10\"\n",
    "oc_dummies=pd.get_dummies(bd[\"occupation\"])\n",
    "oc_dummies.head()"
   ]
  },
  {
   "cell_type": "code",
   "execution_count": 30,
   "metadata": {
    "ExecuteTime": {
     "end_time": "2019-03-24T10:12:22.575815Z",
     "start_time": "2019-03-24T10:12:22.541788Z"
    },
    "collapsed": true
   },
   "outputs": [],
   "source": [
    "bd=pd.concat([bd,oc_dummies],1)\n",
    "\n",
    "bd=bd.drop([\"occupation\",\"Housewife\"],1)"
   ]
  },
  {
   "cell_type": "code",
   "execution_count": 31,
   "metadata": {
    "ExecuteTime": {
     "end_time": "2019-03-24T10:12:25.003466Z",
     "start_time": "2019-03-24T10:12:24.990457Z"
    }
   },
   "outputs": [
    {
     "data": {
      "text/plain": [
       "occupation_partner\n",
       "Business Manager     0.11\n",
       "Housewife            0.11\n",
       "Manual Worker        0.11\n",
       "Other                0.10\n",
       "Professional         0.11\n",
       "Retired              0.10\n",
       "Secretarial/Admin    0.12\n",
       "Student              0.12\n",
       "Unknown              0.10\n",
       "Name: y, dtype: float64"
      ]
     },
     "execution_count": 31,
     "metadata": {},
     "output_type": "execute_result"
    }
   ],
   "source": [
    "round(bd.groupby(\"occupation_partner\")[\"y\"].mean(),2)"
   ]
  },
  {
   "cell_type": "code",
   "execution_count": null,
   "metadata": {
    "ExecuteTime": {
     "end_time": "2019-03-23T08:25:46.797055Z",
     "start_time": "2019-03-23T08:25:46.790051Z"
    },
    "collapsed": true
   },
   "outputs": [],
   "source": [
    "# bd[\"ocp_10\"]=0\n",
    "# bd[\"ocp_12\"]=0\n",
    "# for i in range(len(bd)):\n",
    "#     if bd[\"occupation_partner\"][i] in [\"Unknown\",\"Retired\",\"Other\"]:\n",
    "#         bd.loc[i,\"ocp_10\"]=1\n",
    "#     if bd[\"occupation_partner\"][i] in [\"Student\",\"Secretarial/Admin\"]:\n",
    "#         bd.loc[i,\"ocp_12\"]=1\n",
    "        \n",
    "# bd=bd.drop([\"occupation_partner\",\"TVarea\",\"post_code\",\"post_area\",\"region\"],1)"
   ]
  },
  {
   "cell_type": "code",
   "execution_count": 32,
   "metadata": {
    "ExecuteTime": {
     "end_time": "2019-03-24T10:12:39.917545Z",
     "start_time": "2019-03-24T10:12:29.389535Z"
    },
    "collapsed": true
   },
   "outputs": [],
   "source": [
    "bd[\"ocp_11\"]=0\n",
    "bd[\"ocp_12\"]=0\n",
    "for i in range(len(bd)):\n",
    "    if bd[\"occupation_partner\"][i] in [\"Business Manager\",\"Housewife\",\"Manual Worker\", \"Professional\"]:\n",
    "        bd.loc[i,\"ocp_11\"]=1\n",
    "    if bd[\"occupation_partner\"][i] in [\"Student\",\"Secretarial/Admin\"]:\n",
    "        bd.loc[i,\"ocp_12\"]=1\n",
    "        \n",
    "bd=bd.drop([\"occupation_partner\",\"TVarea\",\"post_code\",\"post_area\",\"region\"],1)"
   ]
  },
  {
   "cell_type": "markdown",
   "metadata": {},
   "source": [
    "You can see that we have also dropped variables TVarea, region, post_code, post_area. If you look at number of unique values taken by post_area and post_code , you'll realise why decided to drop them. TVarea and region on the other hand we have left for you to make use of and see if using them improves your model."
   ]
  },
  {
   "cell_type": "code",
   "execution_count": 33,
   "metadata": {
    "ExecuteTime": {
     "end_time": "2019-03-24T10:15:07.206121Z",
     "start_time": "2019-03-24T10:15:07.189113Z"
    }
   },
   "outputs": [
    {
     "data": {
      "text/plain": [
       "Own Home                9413\n",
       "Rent from Council/HA     322\n",
       "Rent Privately           261\n",
       "Live in Parental Hom     109\n",
       "Unclassified              50\n",
       "Name: home_status, dtype: int64"
      ]
     },
     "execution_count": 33,
     "metadata": {},
     "output_type": "execute_result"
    }
   ],
   "source": [
    "bd[\"home_status\"].value_counts()"
   ]
  },
  {
   "cell_type": "code",
   "execution_count": 34,
   "metadata": {
    "ExecuteTime": {
     "end_time": "2019-03-24T10:15:11.660131Z",
     "start_time": "2019-03-24T10:15:11.473009Z"
    },
    "collapsed": true
   },
   "outputs": [],
   "source": [
    "bd[\"hs_own\"]=np.where(bd[\"home_status\"]==\"Own Home\",1,0)\n",
    "bd[\"hs_RentCouncil\"]=np.where(bd[\"home_status\"]==\"Rent from Council/HA\",1,0)\n",
    "bd[\"hs_RentPvt\"]=np.where(bd[\"home_status\"]==\"Rent Privately\",1,0)\n",
    "bd[\"hs_Parent\"]=np.where(bd[\"home_status\"]==\"Live in Parental Hom\",1,0)\n",
    "del bd[\"home_status\"]"
   ]
  },
  {
   "cell_type": "markdown",
   "metadata": {},
   "source": [
    "Notice that we used an alternate syntax for dropping a column here. You can use that too if you like this syntax better."
   ]
  },
  {
   "cell_type": "code",
   "execution_count": 35,
   "metadata": {
    "ExecuteTime": {
     "end_time": "2019-03-24T10:15:16.175206Z",
     "start_time": "2019-03-24T10:15:16.162197Z"
    }
   },
   "outputs": [
    {
     "data": {
      "text/plain": [
       "Female     7634\n",
       "Male       2486\n",
       "Unknown      35\n",
       "Name: gender, dtype: int64"
      ]
     },
     "execution_count": 35,
     "metadata": {},
     "output_type": "execute_result"
    }
   ],
   "source": [
    "bd[\"gender\"].value_counts()"
   ]
  },
  {
   "cell_type": "code",
   "execution_count": 36,
   "metadata": {
    "ExecuteTime": {
     "end_time": "2019-03-24T10:15:19.635510Z",
     "start_time": "2019-03-24T10:15:19.621502Z"
    },
    "collapsed": true
   },
   "outputs": [],
   "source": [
    "bd[\"gender_f\"]=np.where(bd[\"gender\"]==\"Female\",1,0)\n",
    "del bd[\"gender\"]"
   ]
  },
  {
   "cell_type": "code",
   "execution_count": 40,
   "metadata": {
    "ExecuteTime": {
     "end_time": "2019-03-24T10:21:09.638928Z",
     "start_time": "2019-03-24T10:21:09.626920Z"
    }
   },
   "outputs": [
    {
     "data": {
      "text/plain": [
       "No     9436\n",
       "Yes     719\n",
       "Name: self_employed, dtype: int64"
      ]
     },
     "execution_count": 40,
     "metadata": {},
     "output_type": "execute_result"
    }
   ],
   "source": [
    "bd[\"self_employed\"].value_counts()"
   ]
  },
  {
   "cell_type": "code",
   "execution_count": 41,
   "metadata": {
    "ExecuteTime": {
     "end_time": "2019-03-24T10:21:14.520308Z",
     "start_time": "2019-03-24T10:21:14.505296Z"
    },
    "collapsed": true
   },
   "outputs": [],
   "source": [
    "bd[\"semp_yes\"]=np.where(bd[\"self_employed\"]==\"Yes\",1,0)\n",
    "del bd[\"self_employed\"]"
   ]
  },
  {
   "cell_type": "code",
   "execution_count": 42,
   "metadata": {
    "ExecuteTime": {
     "end_time": "2019-03-24T10:21:19.598882Z",
     "start_time": "2019-03-24T10:21:19.581871Z"
    }
   },
   "outputs": [
    {
     "data": {
      "text/plain": [
       "No     9026\n",
       "Yes    1129\n",
       "Name: self_employed_partner, dtype: int64"
      ]
     },
     "execution_count": 42,
     "metadata": {},
     "output_type": "execute_result"
    }
   ],
   "source": [
    "bd[\"self_employed_partner\"].value_counts()"
   ]
  },
  {
   "cell_type": "code",
   "execution_count": 43,
   "metadata": {
    "ExecuteTime": {
     "end_time": "2019-03-24T10:21:22.177623Z",
     "start_time": "2019-03-24T10:21:22.166616Z"
    },
    "collapsed": true
   },
   "outputs": [],
   "source": [
    "bd[\"semp_part_yes\"]=np.where(bd[\"self_employed_partner\"]==\"Yes\",1,0)\n",
    "del bd[\"self_employed_partner\"]"
   ]
  },
  {
   "cell_type": "code",
   "execution_count": 44,
   "metadata": {
    "ExecuteTime": {
     "end_time": "2019-03-24T10:21:27.417324Z",
     "start_time": "2019-03-24T10:21:27.405319Z"
    }
   },
   "outputs": [
    {
     "data": {
      "text/plain": [
       ">=35,000             2517\n",
       "<27,500, >=25,000    1227\n",
       "<30,000, >=27,500     994\n",
       "<25,000, >=22,500     833\n",
       "<20,000, >=17,500     683\n",
       "<12,500, >=10,000     677\n",
       "<17,500, >=15,000     634\n",
       "<15,000, >=12,500     629\n",
       "<22,500, >=20,000     590\n",
       "<10,000, >= 8,000     563\n",
       "< 8,000, >= 4,000     402\n",
       "< 4,000               278\n",
       "Unknown               128\n",
       "Name: family_income, dtype: int64"
      ]
     },
     "execution_count": 44,
     "metadata": {},
     "output_type": "execute_result"
    }
   ],
   "source": [
    "bd[\"family_income\"].value_counts()"
   ]
  },
  {
   "cell_type": "markdown",
   "metadata": {},
   "source": [
    "We can convert this to number as average of the range once we have figured out what to do with category \"Unknown\"."
   ]
  },
  {
   "cell_type": "code",
   "execution_count": 33,
   "metadata": {
    "ExecuteTime": {
     "end_time": "2019-03-23T09:59:11.214059Z",
     "start_time": "2019-03-23T09:59:11.199049Z"
    }
   },
   "outputs": [
    {
     "data": {
      "text/plain": [
       "family_income\n",
       "< 4,000              0.0755\n",
       "< 8,000, >= 4,000    0.0796\n",
       "<10,000, >= 8,000    0.1066\n",
       "<12,500, >=10,000    0.1019\n",
       "<15,000, >=12,500    0.1113\n",
       "<17,500, >=15,000    0.1230\n",
       "<20,000, >=17,500    0.1113\n",
       "<22,500, >=20,000    0.1186\n",
       "<25,000, >=22,500    0.1032\n",
       "<27,500, >=25,000    0.0970\n",
       "<30,000, >=27,500    0.1157\n",
       ">=35,000             0.1116\n",
       "Unknown              0.0703\n",
       "Name: y, dtype: float64"
      ]
     },
     "execution_count": 33,
     "metadata": {},
     "output_type": "execute_result"
    }
   ],
   "source": [
    "round(bd.groupby(\"family_income\")[\"y\"].mean(),4)"
   ]
  },
  {
   "cell_type": "code",
   "execution_count": 47,
   "metadata": {
    "ExecuteTime": {
     "end_time": "2019-03-24T10:23:38.620372Z",
     "start_time": "2019-03-24T10:23:38.468272Z"
    },
    "collapsed": true
   },
   "outputs": [],
   "source": [
    "bd[\"fi\"]=4 # by doing this , we have essentially clubbed <4000 and Unknown values . How?\n",
    "bd.loc[bd[\"family_income\"]==\"< 8,000, >= 4,000\",\"fi\"]=6\n",
    "bd.loc[bd[\"family_income\"]==\"<10,000, >= 8,000\",\"fi\"]=9\n",
    "bd.loc[bd[\"family_income\"]==\"<12,500, >=10,000\",\"fi\"]=11.25\n",
    "bd.loc[bd[\"family_income\"]==\"<15,000, >=12,500\",\"fi\"]=13.75\n",
    "bd.loc[bd[\"family_income\"]==\"<17,500, >=15,000\",\"fi\"]=16.25\n",
    "bd.loc[bd[\"family_income\"]==\"<20,000, >=17,500\",\"fi\"]=18.75\n",
    "bd.loc[bd[\"family_income\"]==\"<22,500, >=20,000\",\"fi\"]=21.25\n",
    "bd.loc[bd[\"family_income\"]==\"<25,000, >=22,500\",\"fi\"]=23.75\n",
    "bd.loc[bd[\"family_income\"]==\"<27,500, >=25,000\",\"fi\"]=26.25\n",
    "bd.loc[bd[\"family_income\"]==\"<30,000, >=27,500\",\"fi\"]=28.75\n",
    "bd.loc[bd[\"family_income\"]==\">=35,000\",\"fi\"]=35\n",
    "bd=bd.drop([\"family_income\"],1)"
   ]
  },
  {
   "cell_type": "code",
   "execution_count": 53,
   "metadata": {
    "ExecuteTime": {
     "end_time": "2019-03-24T10:25:22.849452Z",
     "start_time": "2019-03-24T10:25:22.832438Z"
    }
   },
   "outputs": [
    {
     "data": {
      "text/plain": [
       "REF_NO                               int64\n",
       "children                             int64\n",
       "year_last_moved                      int64\n",
       "Average Credit Card Transaction    float64\n",
       "Balance Transfer                   float64\n",
       "Term Deposit                       float64\n",
       "Life Insurance                     float64\n",
       "Medical Insurance                  float64\n",
       "Average A/C Balance                float64\n",
       "Personal Loan                      float64\n",
       "Investment in Mutual Fund          float64\n",
       "Investment Tax Saving Bond         float64\n",
       "Home Loan                          float64\n",
       "Online Purchase Amount             float64\n",
       "Investment in Commudity            float64\n",
       "Investment in Equity               float64\n",
       "Investment in Derivative           float64\n",
       "Portfolio Balance                  float64\n",
       "y                                    int32\n",
       "ab_10                                uint8\n",
       "ab_11                                uint8\n",
       "ab_13                                uint8\n",
       "ab_17                                uint8\n",
       "ab_9                                 uint8\n",
       "st_partner                           int32\n",
       "st_singleNm                          int32\n",
       "st_divSep                            int32\n",
       "st_Wido                              int32\n",
       "oc_10                                uint8\n",
       "oc_11                                uint8\n",
       "oc_12                                uint8\n",
       "ocp_11                               int64\n",
       "ocp_12                               int64\n",
       "hs_own                               int32\n",
       "hs_RentCouncil                       int32\n",
       "hs_RentPvt                           int32\n",
       "hs_Parent                            int32\n",
       "gender_f                             int32\n",
       "semp_yes                             int32\n",
       "semp_part_yes                        int32\n",
       "fi                                 float64\n",
       "dtype: object"
      ]
     },
     "execution_count": 53,
     "metadata": {},
     "output_type": "execute_result"
    }
   ],
   "source": [
    "bd.dtypes"
   ]
  },
  {
   "cell_type": "markdown",
   "metadata": {},
   "source": [
    "Now that the entire data is of numeric type, lets beging our modelling process after removing nas from the data."
   ]
  },
  {
   "cell_type": "code",
   "execution_count": 38,
   "metadata": {
    "ExecuteTime": {
     "end_time": "2019-03-23T10:05:23.751839Z",
     "start_time": "2019-03-23T10:05:23.641769Z"
    }
   },
   "outputs": [
    {
     "name": "stdout",
     "output_type": "stream",
     "text": [
      "<class 'pandas.core.frame.DataFrame'>\n",
      "Int64Index: 10155 entries, 0 to 10154\n",
      "Data columns (total 41 columns):\n",
      "REF_NO                             10155 non-null int64\n",
      "children                           10155 non-null int64\n",
      "year_last_moved                    10155 non-null int64\n",
      "Average Credit Card Transaction    10155 non-null float64\n",
      "Balance Transfer                   10155 non-null float64\n",
      "Term Deposit                       10155 non-null float64\n",
      "Life Insurance                     10155 non-null float64\n",
      "Medical Insurance                  10155 non-null float64\n",
      "Average A/C Balance                10155 non-null float64\n",
      "Personal Loan                      10155 non-null float64\n",
      "Investment in Mutual Fund          10155 non-null float64\n",
      "Investment Tax Saving Bond         10155 non-null float64\n",
      "Home Loan                          10155 non-null float64\n",
      "Online Purchase Amount             10155 non-null float64\n",
      "Investment in Commudity            10155 non-null float64\n",
      "Investment in Equity               10155 non-null float64\n",
      "Investment in Derivative           10155 non-null float64\n",
      "Portfolio Balance                  10155 non-null float64\n",
      "y                                  10155 non-null int32\n",
      "ab_10                              10155 non-null uint8\n",
      "ab_11                              10155 non-null uint8\n",
      "ab_13                              10155 non-null uint8\n",
      "ab_17                              10155 non-null uint8\n",
      "ab_9                               10155 non-null uint8\n",
      "st_partner                         10155 non-null int32\n",
      "st_singleNm                        10155 non-null int32\n",
      "st_divSep                          10155 non-null int32\n",
      "st_Wido                            10155 non-null int32\n",
      "oc_10                              10155 non-null uint8\n",
      "oc_11                              10155 non-null uint8\n",
      "oc_12                              10155 non-null uint8\n",
      "ocp_11                             10155 non-null int64\n",
      "ocp_12                             10155 non-null int64\n",
      "hs_own                             10155 non-null int32\n",
      "hs_RentCouncil                     10155 non-null int32\n",
      "hs_RentPvt                         10155 non-null int32\n",
      "hs_Parent                          10155 non-null int32\n",
      "gender_f                           10155 non-null int32\n",
      "semp_yes                           10155 non-null int32\n",
      "semp_part_yes                      10155 non-null int32\n",
      "fi                                 10155 non-null float64\n",
      "dtypes: float64(16), int32(12), int64(5), uint8(8)\n",
      "memory usage: 2.2 MB\n"
     ]
    }
   ],
   "source": [
    "bd.info()"
   ]
  },
  {
   "cell_type": "code",
   "execution_count": 54,
   "metadata": {
    "ExecuteTime": {
     "end_time": "2019-03-24T10:25:45.903232Z",
     "start_time": "2019-03-24T10:25:45.879217Z"
    },
    "scrolled": true
   },
   "outputs": [
    {
     "data": {
      "text/plain": [
       "REF_NO                             0\n",
       "children                           0\n",
       "year_last_moved                    0\n",
       "Average Credit Card Transaction    0\n",
       "Balance Transfer                   0\n",
       "Term Deposit                       0\n",
       "Life Insurance                     0\n",
       "Medical Insurance                  0\n",
       "Average A/C Balance                0\n",
       "Personal Loan                      0\n",
       "Investment in Mutual Fund          0\n",
       "Investment Tax Saving Bond         0\n",
       "Home Loan                          0\n",
       "Online Purchase Amount             0\n",
       "Investment in Commudity            0\n",
       "Investment in Equity               0\n",
       "Investment in Derivative           0\n",
       "Portfolio Balance                  0\n",
       "y                                  0\n",
       "ab_10                              0\n",
       "ab_11                              0\n",
       "ab_13                              0\n",
       "ab_17                              0\n",
       "ab_9                               0\n",
       "st_partner                         0\n",
       "st_singleNm                        0\n",
       "st_divSep                          0\n",
       "st_Wido                            0\n",
       "oc_10                              0\n",
       "oc_11                              0\n",
       "oc_12                              0\n",
       "ocp_11                             0\n",
       "ocp_12                             0\n",
       "hs_own                             0\n",
       "hs_RentCouncil                     0\n",
       "hs_RentPvt                         0\n",
       "hs_Parent                          0\n",
       "gender_f                           0\n",
       "semp_yes                           0\n",
       "semp_part_yes                      0\n",
       "fi                                 0\n",
       "dtype: int64"
      ]
     },
     "execution_count": 54,
     "metadata": {},
     "output_type": "execute_result"
    }
   ],
   "source": [
    "bd.isnull().sum()"
   ]
  },
  {
   "cell_type": "code",
   "execution_count": 55,
   "metadata": {
    "ExecuteTime": {
     "end_time": "2019-03-24T10:45:19.303443Z",
     "start_time": "2019-03-24T10:45:19.153345Z"
    },
    "collapsed": true
   },
   "outputs": [],
   "source": [
    "#bd.dropna(axis=0,inplace=True)\n",
    "bd_train, bd_test = train_test_split(bd, test_size = 0.2,random_state=2)"
   ]
  },
  {
   "cell_type": "code",
   "execution_count": 56,
   "metadata": {
    "ExecuteTime": {
     "end_time": "2019-03-24T10:45:46.770625Z",
     "start_time": "2019-03-24T10:45:46.756609Z"
    },
    "collapsed": true
   },
   "outputs": [],
   "source": [
    "x_train=bd_train.drop([\"y\",\"REF_NO\"],1)\n",
    "y_train=bd_train[\"y\"]\n",
    "x_test=bd_test.drop([\"y\",\"REF_NO\"],1)\n",
    "y_test=bd_test[\"y\"]"
   ]
  },
  {
   "cell_type": "code",
   "execution_count": 57,
   "metadata": {
    "ExecuteTime": {
     "end_time": "2019-03-24T10:45:53.117042Z",
     "start_time": "2019-03-24T10:45:53.066007Z"
    }
   },
   "outputs": [
    {
     "data": {
      "text/html": [
       "<div>\n",
       "<style scoped>\n",
       "    .dataframe tbody tr th:only-of-type {\n",
       "        vertical-align: middle;\n",
       "    }\n",
       "\n",
       "    .dataframe tbody tr th {\n",
       "        vertical-align: top;\n",
       "    }\n",
       "\n",
       "    .dataframe thead th {\n",
       "        text-align: right;\n",
       "    }\n",
       "</style>\n",
       "<table border=\"1\" class=\"dataframe\">\n",
       "  <thead>\n",
       "    <tr style=\"text-align: right;\">\n",
       "      <th>col_0</th>\n",
       "      <th>N</th>\n",
       "    </tr>\n",
       "    <tr>\n",
       "      <th>y</th>\n",
       "      <th></th>\n",
       "    </tr>\n",
       "  </thead>\n",
       "  <tbody>\n",
       "    <tr>\n",
       "      <th>0</th>\n",
       "      <td>0.88971</td>\n",
       "    </tr>\n",
       "    <tr>\n",
       "      <th>1</th>\n",
       "      <td>0.11029</td>\n",
       "    </tr>\n",
       "  </tbody>\n",
       "</table>\n",
       "</div>"
      ],
      "text/plain": [
       "col_0        N\n",
       "y             \n",
       "0      0.88971\n",
       "1      0.11029"
      ]
     },
     "execution_count": 57,
     "metadata": {},
     "output_type": "execute_result"
    }
   ],
   "source": [
    "pd.crosstab(y_test, columns='N', normalize=True)"
   ]
  },
  {
   "cell_type": "code",
   "execution_count": 58,
   "metadata": {
    "ExecuteTime": {
     "end_time": "2019-03-24T10:45:54.143751Z",
     "start_time": "2019-03-24T10:45:54.102726Z"
    }
   },
   "outputs": [
    {
     "data": {
      "text/html": [
       "<div>\n",
       "<style scoped>\n",
       "    .dataframe tbody tr th:only-of-type {\n",
       "        vertical-align: middle;\n",
       "    }\n",
       "\n",
       "    .dataframe tbody tr th {\n",
       "        vertical-align: top;\n",
       "    }\n",
       "\n",
       "    .dataframe thead th {\n",
       "        text-align: right;\n",
       "    }\n",
       "</style>\n",
       "<table border=\"1\" class=\"dataframe\">\n",
       "  <thead>\n",
       "    <tr style=\"text-align: right;\">\n",
       "      <th>col_0</th>\n",
       "      <th>N</th>\n",
       "    </tr>\n",
       "    <tr>\n",
       "      <th>y</th>\n",
       "      <th></th>\n",
       "    </tr>\n",
       "  </thead>\n",
       "  <tbody>\n",
       "    <tr>\n",
       "      <th>0</th>\n",
       "      <td>0.893895</td>\n",
       "    </tr>\n",
       "    <tr>\n",
       "      <th>1</th>\n",
       "      <td>0.106105</td>\n",
       "    </tr>\n",
       "  </tbody>\n",
       "</table>\n",
       "</div>"
      ],
      "text/plain": [
       "col_0         N\n",
       "y              \n",
       "0      0.893895\n",
       "1      0.106105"
      ]
     },
     "execution_count": 58,
     "metadata": {},
     "output_type": "execute_result"
    }
   ],
   "source": [
    "pd.crosstab(y_train, columns='N', normalize=True)"
   ]
  },
  {
   "cell_type": "code",
   "execution_count": 59,
   "metadata": {
    "ExecuteTime": {
     "end_time": "2019-03-24T10:46:42.591129Z",
     "start_time": "2019-03-24T10:46:42.584125Z"
    },
    "collapsed": true
   },
   "outputs": [],
   "source": [
    "logr=LogisticRegression(penalty=\"l1\",class_weight=\"balanced\",random_state=2)"
   ]
  },
  {
   "cell_type": "code",
   "execution_count": 60,
   "metadata": {
    "ExecuteTime": {
     "end_time": "2019-03-24T10:46:58.780490Z",
     "start_time": "2019-03-24T10:46:57.378557Z"
    }
   },
   "outputs": [
    {
     "data": {
      "text/plain": [
       "LogisticRegression(C=1.0, class_weight='balanced', dual=False,\n",
       "          fit_intercept=True, intercept_scaling=1, max_iter=100,\n",
       "          multi_class='ovr', n_jobs=1, penalty='l1', random_state=2,\n",
       "          solver='liblinear', tol=0.0001, verbose=0, warm_start=False)"
      ]
     },
     "execution_count": 60,
     "metadata": {},
     "output_type": "execute_result"
    }
   ],
   "source": [
    "logr.fit(x_train,y_train)"
   ]
  },
  {
   "cell_type": "code",
   "execution_count": 72,
   "metadata": {
    "ExecuteTime": {
     "end_time": "2019-03-24T10:49:52.942501Z",
     "start_time": "2019-03-24T10:49:52.923488Z"
    }
   },
   "outputs": [
    {
     "data": {
      "text/plain": [
       "[('children', 0.050059722600136164),\n",
       " ('year_last_moved', 6.2493245282194051e-05),\n",
       " ('Average Credit Card Transaction', 0.021522803803976882),\n",
       " ('Balance Transfer', -0.00683561926476744),\n",
       " ('Term Deposit', -0.020402649374118991),\n",
       " ('Life Insurance', 0.011754250278967818),\n",
       " ('Medical Insurance', -0.012823144832634852),\n",
       " ('Average A/C Balance', -0.004530335725094029),\n",
       " ('Personal Loan', -0.034025292274581495),\n",
       " ('Investment in Mutual Fund', -0.0026865122367877694),\n",
       " ('Investment Tax Saving Bond', 0.088365557915074819),\n",
       " ('Home Loan', -0.080138824967718153),\n",
       " ('Online Purchase Amount', 0.054932213741778917),\n",
       " ('Investment in Commudity', 0.0080863710517619491),\n",
       " ('Investment in Equity', 0.0072150045975166678),\n",
       " ('Investment in Derivative', 0.0084509367831513641),\n",
       " ('Portfolio Balance', -0.00011935283641419788),\n",
       " ('ab_10', 0.0),\n",
       " ('ab_11', -0.24898153937320278),\n",
       " ('ab_13', -0.097421897752742959),\n",
       " ('ab_17', 0.49041785665354992),\n",
       " ('ab_9', -0.092356635002152521),\n",
       " ('st_partner', 0.0),\n",
       " ('st_singleNm', -0.008045746003183786),\n",
       " ('st_divSep', -0.10012401479316339),\n",
       " ('st_Wido', -0.49740838774058516),\n",
       " ('oc_10', -0.088498333192550099),\n",
       " ('oc_11', 0.14627527857133241),\n",
       " ('oc_12', 0.1094310383259518),\n",
       " ('ocp_11', -0.013290970697192124),\n",
       " ('ocp_12', 0.02462461928952871),\n",
       " ('hs_own', 0.0),\n",
       " ('hs_RentCouncil', -0.15282931213868506),\n",
       " ('hs_RentPvt', 0.0),\n",
       " ('hs_Parent', -0.95947755089980025),\n",
       " ('gender_f', -0.28326721924317755),\n",
       " ('semp_yes', 0.075346830318557531),\n",
       " ('semp_part_yes', 0.22115712095128237),\n",
       " ('fi', 0.0041330710442749911)]"
      ]
     },
     "execution_count": 72,
     "metadata": {},
     "output_type": "execute_result"
    }
   ],
   "source": [
    "list(zip(x_train.columns,logr.coef_[0]))"
   ]
  },
  {
   "cell_type": "code",
   "execution_count": 75,
   "metadata": {
    "ExecuteTime": {
     "end_time": "2019-03-24T10:54:02.214846Z",
     "start_time": "2019-03-24T10:54:02.202838Z"
    }
   },
   "outputs": [
    {
     "data": {
      "text/plain": [
       "array([-2.59420117])"
      ]
     },
     "execution_count": 75,
     "metadata": {},
     "output_type": "execute_result"
    }
   ],
   "source": [
    "logr.intercept_"
   ]
  },
  {
   "cell_type": "code",
   "execution_count": 80,
   "metadata": {
    "ExecuteTime": {
     "end_time": "2019-03-24T10:58:36.839830Z",
     "start_time": "2019-03-24T10:58:36.759778Z"
    }
   },
   "outputs": [
    {
     "data": {
      "text/plain": [
       "0.89820835639180963"
      ]
     },
     "execution_count": 80,
     "metadata": {},
     "output_type": "execute_result"
    }
   ],
   "source": [
    "# score model performance on the test data\n",
    "roc_auc_score(y_test,logr.predict(x_test))"
   ]
  },
  {
   "cell_type": "markdown",
   "metadata": {},
   "source": [
    "To arrive at the eventual 1,0 prediction , we need to find some way [some cutoff ] to convert predicted probabilites into two classes. Lets first get the probabilities out."
   ]
  },
  {
   "cell_type": "code",
   "execution_count": 81,
   "metadata": {
    "ExecuteTime": {
     "end_time": "2019-03-24T10:59:41.918007Z",
     "start_time": "2019-03-24T10:59:41.905999Z"
    }
   },
   "outputs": [
    {
     "data": {
      "text/plain": [
       "array([[  9.60108018e-01,   3.98919822e-02],\n",
       "       [  9.60251245e-01,   3.97487553e-02],\n",
       "       [  9.85573821e-01,   1.44261787e-02],\n",
       "       ..., \n",
       "       [  8.70176233e-01,   1.29823767e-01],\n",
       "       [  8.57643110e-01,   1.42356890e-01],\n",
       "       [  6.15304319e-08,   9.99999938e-01]])"
      ]
     },
     "execution_count": 81,
     "metadata": {},
     "output_type": "execute_result"
    }
   ],
   "source": [
    "logr.predict_proba(x_train)"
   ]
  },
  {
   "cell_type": "code",
   "execution_count": 83,
   "metadata": {
    "ExecuteTime": {
     "end_time": "2019-03-24T11:00:53.664926Z",
     "start_time": "2019-03-24T11:00:53.645916Z"
    },
    "collapsed": true
   },
   "outputs": [],
   "source": [
    "prob_score=pd.Series(list(zip(*logr.predict_proba(x_train)))[1])"
   ]
  },
  {
   "cell_type": "code",
   "execution_count": 84,
   "metadata": {
    "ExecuteTime": {
     "end_time": "2019-03-24T11:00:54.601550Z",
     "start_time": "2019-03-24T11:00:54.588542Z"
    },
    "scrolled": true
   },
   "outputs": [
    {
     "data": {
      "text/plain": [
       "0       0.039892\n",
       "1       0.039749\n",
       "2       0.014426\n",
       "3       0.316042\n",
       "4       0.039819\n",
       "5       0.192097\n",
       "6       0.027130\n",
       "7       0.021143\n",
       "8       0.003828\n",
       "9       1.000000\n",
       "10      0.188904\n",
       "11      0.021951\n",
       "12      0.019005\n",
       "13      0.031588\n",
       "14      0.022181\n",
       "15      0.001281\n",
       "16      0.000076\n",
       "17      0.149224\n",
       "18      0.017280\n",
       "19      0.061680\n",
       "20      0.000875\n",
       "21      0.292859\n",
       "22      0.683799\n",
       "23      0.018922\n",
       "24      0.047804\n",
       "25      0.040386\n",
       "26      0.155531\n",
       "27      0.932833\n",
       "28      0.055093\n",
       "29      0.000249\n",
       "          ...   \n",
       "8094    0.060695\n",
       "8095    0.084933\n",
       "8096    0.994735\n",
       "8097    0.973805\n",
       "8098    0.999796\n",
       "8099    0.038169\n",
       "8100    0.203926\n",
       "8101    0.072487\n",
       "8102    0.999999\n",
       "8103    0.112841\n",
       "8104    0.236771\n",
       "8105    0.094227\n",
       "8106    0.085044\n",
       "8107    0.245482\n",
       "8108    0.999996\n",
       "8109    0.076544\n",
       "8110    0.150053\n",
       "8111    0.072799\n",
       "8112    0.035287\n",
       "8113    0.007083\n",
       "8114    0.271755\n",
       "8115    0.122255\n",
       "8116    0.395864\n",
       "8117    0.002761\n",
       "8118    0.112451\n",
       "8119    0.005910\n",
       "8120    0.002943\n",
       "8121    0.129824\n",
       "8122    0.142357\n",
       "8123    1.000000\n",
       "Length: 8124, dtype: float64"
      ]
     },
     "execution_count": 84,
     "metadata": {},
     "output_type": "execute_result"
    }
   ],
   "source": [
    "prob_score"
   ]
  },
  {
   "cell_type": "code",
   "execution_count": 89,
   "metadata": {
    "ExecuteTime": {
     "end_time": "2019-03-24T11:05:28.677372Z",
     "start_time": "2019-03-24T11:05:28.512262Z"
    }
   },
   "outputs": [
    {
     "name": "stdout",
     "output_type": "stream",
     "text": [
      "Precision -  0.5513819985825655\n",
      "Recall -  0.9025522041763341\n",
      "Accuracy -  0.9117429837518464\n"
     ]
    }
   ],
   "source": [
    "predicted=pd.Series([0]*len(y_train))\n",
    "predicted[prob_score>0.5]=1\n",
    "df=pd.DataFrame(list(zip(y_train,predicted)),columns=[\"Actual\",\"predicted\"])\n",
    "\n",
    "TP=len(df[(df[\"Actual\"]==1) &(df[\"predicted\"]==1) ])\n",
    "FP=len(df[(df[\"Actual\"]==0) &(df[\"predicted\"]==1) ])\n",
    "FN=len(df[(df[\"Actual\"]==1) &(df[\"predicted\"]==0) ])\n",
    "TN=len(df[(df[\"Actual\"]==0) &(df[\"predicted\"]==0) ])\n",
    "P=TP+FN\n",
    "N=TN+FP\n",
    "\n",
    "Precision=TP/(TP+FP)\n",
    "Recall=TP/P\n",
    "Accuracy=(TP+TN)/(P+N)\n",
    "\n",
    "print('Precision - ', Precision)\n",
    "print('Recall - ', Recall)\n",
    "print('Accuracy - ', Accuracy)"
   ]
  },
  {
   "cell_type": "markdown",
   "metadata": {},
   "source": [
    "On these scores , we will consider many cutoffs between 0 to 1"
   ]
  },
  {
   "cell_type": "code",
   "execution_count": 85,
   "metadata": {
    "ExecuteTime": {
     "end_time": "2019-03-24T11:02:06.951358Z",
     "start_time": "2019-03-24T11:02:06.935348Z"
    }
   },
   "outputs": [
    {
     "data": {
      "text/plain": [
       "array([ 0.        ,  0.01010101,  0.02020202,  0.03030303,  0.04040404,\n",
       "        0.05050505,  0.06060606,  0.07070707,  0.08080808,  0.09090909,\n",
       "        0.1010101 ,  0.11111111,  0.12121212,  0.13131313,  0.14141414,\n",
       "        0.15151515,  0.16161616,  0.17171717,  0.18181818,  0.19191919,\n",
       "        0.2020202 ,  0.21212121,  0.22222222,  0.23232323,  0.24242424,\n",
       "        0.25252525,  0.26262626,  0.27272727,  0.28282828,  0.29292929,\n",
       "        0.3030303 ,  0.31313131,  0.32323232,  0.33333333,  0.34343434,\n",
       "        0.35353535,  0.36363636,  0.37373737,  0.38383838,  0.39393939,\n",
       "        0.4040404 ,  0.41414141,  0.42424242,  0.43434343,  0.44444444,\n",
       "        0.45454545,  0.46464646,  0.47474747,  0.48484848,  0.49494949,\n",
       "        0.50505051,  0.51515152,  0.52525253,  0.53535354,  0.54545455,\n",
       "        0.55555556,  0.56565657,  0.57575758,  0.58585859,  0.5959596 ,\n",
       "        0.60606061,  0.61616162,  0.62626263,  0.63636364,  0.64646465,\n",
       "        0.65656566,  0.66666667,  0.67676768,  0.68686869,  0.6969697 ,\n",
       "        0.70707071,  0.71717172,  0.72727273,  0.73737374,  0.74747475,\n",
       "        0.75757576,  0.76767677,  0.77777778,  0.78787879,  0.7979798 ,\n",
       "        0.80808081,  0.81818182,  0.82828283,  0.83838384,  0.84848485,\n",
       "        0.85858586,  0.86868687,  0.87878788,  0.88888889,  0.8989899 ,\n",
       "        0.90909091,  0.91919192,  0.92929293,  0.93939394,  0.94949495,\n",
       "        0.95959596,  0.96969697,  0.97979798,  0.98989899,  1.        ])"
      ]
     },
     "execution_count": 85,
     "metadata": {},
     "output_type": "execute_result"
    }
   ],
   "source": [
    "cutoffs=np.linspace(0,1,100)\n",
    "cutoffs"
   ]
  },
  {
   "cell_type": "markdown",
   "metadata": {},
   "source": [
    "For each of these cutoff , we are going to look at TP,FP,TN,FN values and caluclate KS. Then we'll chose the best cutoff as the one having highest KS."
   ]
  },
  {
   "cell_type": "code",
   "execution_count": 90,
   "metadata": {
    "ExecuteTime": {
     "end_time": "2019-03-24T11:20:34.465565Z",
     "start_time": "2019-03-24T11:20:30.772107Z"
    },
    "collapsed": true
   },
   "outputs": [],
   "source": [
    "KS_cut=[]\n",
    "for cutoff in cutoffs:\n",
    "    predicted=pd.Series([0]*len(y_train))\n",
    "    predicted[prob_score>cutoff]=1\n",
    "    df=pd.DataFrame(list(zip(y_train,predicted)),columns=[\"real\",\"predicted\"])\n",
    "    TP=len(df[(df[\"real\"]==1) &(df[\"predicted\"]==1) ])\n",
    "    FP=len(df[(df[\"real\"]==0) &(df[\"predicted\"]==1) ])\n",
    "    TN=len(df[(df[\"real\"]==0) &(df[\"predicted\"]==0) ])\n",
    "    FN=len(df[(df[\"real\"]==1) &(df[\"predicted\"]==0) ])\n",
    "    P=TP+FN\n",
    "    N=TN+FP\n",
    "    KS=(TP/P)-(FP/N)\n",
    "    KS_cut.append(KS)\n",
    "\n",
    "cutoff_data=pd.DataFrame(list(zip(cutoffs,KS_cut)),columns=[\"cutoff\",\"KS\"])\n",
    "\n",
    "KS_cutoff=cutoff_data[cutoff_data[\"KS\"]==cutoff_data[\"KS\"].max()][\"cutoff\"]"
   ]
  },
  {
   "cell_type": "code",
   "execution_count": 91,
   "metadata": {
    "ExecuteTime": {
     "end_time": "2019-03-24T11:20:36.067741Z",
     "start_time": "2019-03-24T11:20:36.012703Z"
    },
    "scrolled": true
   },
   "outputs": [
    {
     "data": {
      "text/html": [
       "<div>\n",
       "<style scoped>\n",
       "    .dataframe tbody tr th:only-of-type {\n",
       "        vertical-align: middle;\n",
       "    }\n",
       "\n",
       "    .dataframe tbody tr th {\n",
       "        vertical-align: top;\n",
       "    }\n",
       "\n",
       "    .dataframe thead th {\n",
       "        text-align: right;\n",
       "    }\n",
       "</style>\n",
       "<table border=\"1\" class=\"dataframe\">\n",
       "  <thead>\n",
       "    <tr style=\"text-align: right;\">\n",
       "      <th></th>\n",
       "      <th>cutoff</th>\n",
       "      <th>KS</th>\n",
       "    </tr>\n",
       "  </thead>\n",
       "  <tbody>\n",
       "    <tr>\n",
       "      <th>0</th>\n",
       "      <td>0.000000</td>\n",
       "      <td>0.000000</td>\n",
       "    </tr>\n",
       "    <tr>\n",
       "      <th>1</th>\n",
       "      <td>0.010101</td>\n",
       "      <td>0.119351</td>\n",
       "    </tr>\n",
       "    <tr>\n",
       "      <th>2</th>\n",
       "      <td>0.020202</td>\n",
       "      <td>0.184092</td>\n",
       "    </tr>\n",
       "    <tr>\n",
       "      <th>3</th>\n",
       "      <td>0.030303</td>\n",
       "      <td>0.247515</td>\n",
       "    </tr>\n",
       "    <tr>\n",
       "      <th>4</th>\n",
       "      <td>0.040404</td>\n",
       "      <td>0.304682</td>\n",
       "    </tr>\n",
       "    <tr>\n",
       "      <th>5</th>\n",
       "      <td>0.050505</td>\n",
       "      <td>0.364132</td>\n",
       "    </tr>\n",
       "    <tr>\n",
       "      <th>6</th>\n",
       "      <td>0.060606</td>\n",
       "      <td>0.435463</td>\n",
       "    </tr>\n",
       "    <tr>\n",
       "      <th>7</th>\n",
       "      <td>0.070707</td>\n",
       "      <td>0.492413</td>\n",
       "    </tr>\n",
       "    <tr>\n",
       "      <th>8</th>\n",
       "      <td>0.080808</td>\n",
       "      <td>0.539391</td>\n",
       "    </tr>\n",
       "    <tr>\n",
       "      <th>9</th>\n",
       "      <td>0.090909</td>\n",
       "      <td>0.569314</td>\n",
       "    </tr>\n",
       "    <tr>\n",
       "      <th>10</th>\n",
       "      <td>0.101010</td>\n",
       "      <td>0.601833</td>\n",
       "    </tr>\n",
       "    <tr>\n",
       "      <th>11</th>\n",
       "      <td>0.111111</td>\n",
       "      <td>0.629235</td>\n",
       "    </tr>\n",
       "    <tr>\n",
       "      <th>12</th>\n",
       "      <td>0.121212</td>\n",
       "      <td>0.650108</td>\n",
       "    </tr>\n",
       "    <tr>\n",
       "      <th>13</th>\n",
       "      <td>0.131313</td>\n",
       "      <td>0.669466</td>\n",
       "    </tr>\n",
       "    <tr>\n",
       "      <th>14</th>\n",
       "      <td>0.141414</td>\n",
       "      <td>0.687780</td>\n",
       "    </tr>\n",
       "    <tr>\n",
       "      <th>15</th>\n",
       "      <td>0.151515</td>\n",
       "      <td>0.700883</td>\n",
       "    </tr>\n",
       "    <tr>\n",
       "      <th>16</th>\n",
       "      <td>0.161616</td>\n",
       "      <td>0.713080</td>\n",
       "    </tr>\n",
       "    <tr>\n",
       "      <th>17</th>\n",
       "      <td>0.171717</td>\n",
       "      <td>0.721087</td>\n",
       "    </tr>\n",
       "    <tr>\n",
       "      <th>18</th>\n",
       "      <td>0.181818</td>\n",
       "      <td>0.729370</td>\n",
       "    </tr>\n",
       "    <tr>\n",
       "      <th>19</th>\n",
       "      <td>0.191919</td>\n",
       "      <td>0.741764</td>\n",
       "    </tr>\n",
       "    <tr>\n",
       "      <th>20</th>\n",
       "      <td>0.202020</td>\n",
       "      <td>0.746959</td>\n",
       "    </tr>\n",
       "    <tr>\n",
       "      <th>21</th>\n",
       "      <td>0.212121</td>\n",
       "      <td>0.755162</td>\n",
       "    </tr>\n",
       "    <tr>\n",
       "      <th>22</th>\n",
       "      <td>0.222222</td>\n",
       "      <td>0.763838</td>\n",
       "    </tr>\n",
       "    <tr>\n",
       "      <th>23</th>\n",
       "      <td>0.232323</td>\n",
       "      <td>0.768678</td>\n",
       "    </tr>\n",
       "    <tr>\n",
       "      <th>24</th>\n",
       "      <td>0.242424</td>\n",
       "      <td>0.773794</td>\n",
       "    </tr>\n",
       "    <tr>\n",
       "      <th>25</th>\n",
       "      <td>0.252525</td>\n",
       "      <td>0.777316</td>\n",
       "    </tr>\n",
       "    <tr>\n",
       "      <th>26</th>\n",
       "      <td>0.262626</td>\n",
       "      <td>0.783099</td>\n",
       "    </tr>\n",
       "    <tr>\n",
       "      <th>27</th>\n",
       "      <td>0.272727</td>\n",
       "      <td>0.788411</td>\n",
       "    </tr>\n",
       "    <tr>\n",
       "      <th>28</th>\n",
       "      <td>0.282828</td>\n",
       "      <td>0.788315</td>\n",
       "    </tr>\n",
       "    <tr>\n",
       "      <th>29</th>\n",
       "      <td>0.292929</td>\n",
       "      <td>0.792467</td>\n",
       "    </tr>\n",
       "    <tr>\n",
       "      <th>...</th>\n",
       "      <td>...</td>\n",
       "      <td>...</td>\n",
       "    </tr>\n",
       "    <tr>\n",
       "      <th>70</th>\n",
       "      <td>0.707071</td>\n",
       "      <td>0.760409</td>\n",
       "    </tr>\n",
       "    <tr>\n",
       "      <th>71</th>\n",
       "      <td>0.717172</td>\n",
       "      <td>0.755573</td>\n",
       "    </tr>\n",
       "    <tr>\n",
       "      <th>72</th>\n",
       "      <td>0.727273</td>\n",
       "      <td>0.749105</td>\n",
       "    </tr>\n",
       "    <tr>\n",
       "      <th>73</th>\n",
       "      <td>0.737374</td>\n",
       "      <td>0.743521</td>\n",
       "    </tr>\n",
       "    <tr>\n",
       "      <th>74</th>\n",
       "      <td>0.747475</td>\n",
       "      <td>0.737249</td>\n",
       "    </tr>\n",
       "    <tr>\n",
       "      <th>75</th>\n",
       "      <td>0.757576</td>\n",
       "      <td>0.730368</td>\n",
       "    </tr>\n",
       "    <tr>\n",
       "      <th>76</th>\n",
       "      <td>0.767677</td>\n",
       "      <td>0.727517</td>\n",
       "    </tr>\n",
       "    <tr>\n",
       "      <th>77</th>\n",
       "      <td>0.777778</td>\n",
       "      <td>0.720223</td>\n",
       "    </tr>\n",
       "    <tr>\n",
       "      <th>78</th>\n",
       "      <td>0.787879</td>\n",
       "      <td>0.715387</td>\n",
       "    </tr>\n",
       "    <tr>\n",
       "      <th>79</th>\n",
       "      <td>0.797980</td>\n",
       "      <td>0.702567</td>\n",
       "    </tr>\n",
       "    <tr>\n",
       "      <th>80</th>\n",
       "      <td>0.808081</td>\n",
       "      <td>0.693916</td>\n",
       "    </tr>\n",
       "    <tr>\n",
       "      <th>81</th>\n",
       "      <td>0.818182</td>\n",
       "      <td>0.684577</td>\n",
       "    </tr>\n",
       "    <tr>\n",
       "      <th>82</th>\n",
       "      <td>0.828283</td>\n",
       "      <td>0.675926</td>\n",
       "    </tr>\n",
       "    <tr>\n",
       "      <th>83</th>\n",
       "      <td>0.838384</td>\n",
       "      <td>0.666666</td>\n",
       "    </tr>\n",
       "    <tr>\n",
       "      <th>84</th>\n",
       "      <td>0.848485</td>\n",
       "      <td>0.660945</td>\n",
       "    </tr>\n",
       "    <tr>\n",
       "      <th>85</th>\n",
       "      <td>0.858586</td>\n",
       "      <td>0.655362</td>\n",
       "    </tr>\n",
       "    <tr>\n",
       "      <th>86</th>\n",
       "      <td>0.868687</td>\n",
       "      <td>0.641382</td>\n",
       "    </tr>\n",
       "    <tr>\n",
       "      <th>87</th>\n",
       "      <td>0.878788</td>\n",
       "      <td>0.627816</td>\n",
       "    </tr>\n",
       "    <tr>\n",
       "      <th>88</th>\n",
       "      <td>0.888889</td>\n",
       "      <td>0.613561</td>\n",
       "    </tr>\n",
       "    <tr>\n",
       "      <th>89</th>\n",
       "      <td>0.898990</td>\n",
       "      <td>0.596101</td>\n",
       "    </tr>\n",
       "    <tr>\n",
       "      <th>90</th>\n",
       "      <td>0.909091</td>\n",
       "      <td>0.581570</td>\n",
       "    </tr>\n",
       "    <tr>\n",
       "      <th>91</th>\n",
       "      <td>0.919192</td>\n",
       "      <td>0.564386</td>\n",
       "    </tr>\n",
       "    <tr>\n",
       "      <th>92</th>\n",
       "      <td>0.929293</td>\n",
       "      <td>0.548637</td>\n",
       "    </tr>\n",
       "    <tr>\n",
       "      <th>93</th>\n",
       "      <td>0.939394</td>\n",
       "      <td>0.533026</td>\n",
       "    </tr>\n",
       "    <tr>\n",
       "      <th>94</th>\n",
       "      <td>0.949495</td>\n",
       "      <td>0.511339</td>\n",
       "    </tr>\n",
       "    <tr>\n",
       "      <th>95</th>\n",
       "      <td>0.959596</td>\n",
       "      <td>0.490065</td>\n",
       "    </tr>\n",
       "    <tr>\n",
       "      <th>96</th>\n",
       "      <td>0.969697</td>\n",
       "      <td>0.456030</td>\n",
       "    </tr>\n",
       "    <tr>\n",
       "      <th>97</th>\n",
       "      <td>0.979798</td>\n",
       "      <td>0.411554</td>\n",
       "    </tr>\n",
       "    <tr>\n",
       "      <th>98</th>\n",
       "      <td>0.989899</td>\n",
       "      <td>0.364286</td>\n",
       "    </tr>\n",
       "    <tr>\n",
       "      <th>99</th>\n",
       "      <td>1.000000</td>\n",
       "      <td>0.000000</td>\n",
       "    </tr>\n",
       "  </tbody>\n",
       "</table>\n",
       "<p>100 rows × 2 columns</p>\n",
       "</div>"
      ],
      "text/plain": [
       "      cutoff        KS\n",
       "0   0.000000  0.000000\n",
       "1   0.010101  0.119351\n",
       "2   0.020202  0.184092\n",
       "3   0.030303  0.247515\n",
       "4   0.040404  0.304682\n",
       "5   0.050505  0.364132\n",
       "6   0.060606  0.435463\n",
       "7   0.070707  0.492413\n",
       "8   0.080808  0.539391\n",
       "9   0.090909  0.569314\n",
       "10  0.101010  0.601833\n",
       "11  0.111111  0.629235\n",
       "12  0.121212  0.650108\n",
       "13  0.131313  0.669466\n",
       "14  0.141414  0.687780\n",
       "15  0.151515  0.700883\n",
       "16  0.161616  0.713080\n",
       "17  0.171717  0.721087\n",
       "18  0.181818  0.729370\n",
       "19  0.191919  0.741764\n",
       "20  0.202020  0.746959\n",
       "21  0.212121  0.755162\n",
       "22  0.222222  0.763838\n",
       "23  0.232323  0.768678\n",
       "24  0.242424  0.773794\n",
       "25  0.252525  0.777316\n",
       "26  0.262626  0.783099\n",
       "27  0.272727  0.788411\n",
       "28  0.282828  0.788315\n",
       "29  0.292929  0.792467\n",
       "..       ...       ...\n",
       "70  0.707071  0.760409\n",
       "71  0.717172  0.755573\n",
       "72  0.727273  0.749105\n",
       "73  0.737374  0.743521\n",
       "74  0.747475  0.737249\n",
       "75  0.757576  0.730368\n",
       "76  0.767677  0.727517\n",
       "77  0.777778  0.720223\n",
       "78  0.787879  0.715387\n",
       "79  0.797980  0.702567\n",
       "80  0.808081  0.693916\n",
       "81  0.818182  0.684577\n",
       "82  0.828283  0.675926\n",
       "83  0.838384  0.666666\n",
       "84  0.848485  0.660945\n",
       "85  0.858586  0.655362\n",
       "86  0.868687  0.641382\n",
       "87  0.878788  0.627816\n",
       "88  0.888889  0.613561\n",
       "89  0.898990  0.596101\n",
       "90  0.909091  0.581570\n",
       "91  0.919192  0.564386\n",
       "92  0.929293  0.548637\n",
       "93  0.939394  0.533026\n",
       "94  0.949495  0.511339\n",
       "95  0.959596  0.490065\n",
       "96  0.969697  0.456030\n",
       "97  0.979798  0.411554\n",
       "98  0.989899  0.364286\n",
       "99  1.000000  0.000000\n",
       "\n",
       "[100 rows x 2 columns]"
      ]
     },
     "execution_count": 91,
     "metadata": {},
     "output_type": "execute_result"
    }
   ],
   "source": [
    "cutoff_data"
   ]
  },
  {
   "cell_type": "code",
   "execution_count": 92,
   "metadata": {
    "ExecuteTime": {
     "end_time": "2019-03-24T11:20:44.975849Z",
     "start_time": "2019-03-24T11:20:44.962841Z"
    }
   },
   "outputs": [
    {
     "data": {
      "text/plain": [
       "40    0.40404\n",
       "Name: cutoff, dtype: float64"
      ]
     },
     "execution_count": 92,
     "metadata": {},
     "output_type": "execute_result"
    }
   ],
   "source": [
    "KS_cutoff"
   ]
  },
  {
   "cell_type": "code",
   "execution_count": 93,
   "metadata": {
    "ExecuteTime": {
     "end_time": "2019-03-24T11:20:51.457594Z",
     "start_time": "2019-03-24T11:20:51.435579Z"
    },
    "scrolled": true
   },
   "outputs": [
    {
     "data": {
      "text/html": [
       "<div>\n",
       "<style scoped>\n",
       "    .dataframe tbody tr th:only-of-type {\n",
       "        vertical-align: middle;\n",
       "    }\n",
       "\n",
       "    .dataframe tbody tr th {\n",
       "        vertical-align: top;\n",
       "    }\n",
       "\n",
       "    .dataframe thead th {\n",
       "        text-align: right;\n",
       "    }\n",
       "</style>\n",
       "<table border=\"1\" class=\"dataframe\">\n",
       "  <thead>\n",
       "    <tr style=\"text-align: right;\">\n",
       "      <th></th>\n",
       "      <th>cutoff</th>\n",
       "      <th>KS</th>\n",
       "    </tr>\n",
       "  </thead>\n",
       "  <tbody>\n",
       "    <tr>\n",
       "      <th>35</th>\n",
       "      <td>0.353535</td>\n",
       "      <td>0.807422</td>\n",
       "    </tr>\n",
       "    <tr>\n",
       "      <th>36</th>\n",
       "      <td>0.363636</td>\n",
       "      <td>0.808957</td>\n",
       "    </tr>\n",
       "    <tr>\n",
       "      <th>37</th>\n",
       "      <td>0.373737</td>\n",
       "      <td>0.810355</td>\n",
       "    </tr>\n",
       "    <tr>\n",
       "      <th>38</th>\n",
       "      <td>0.383838</td>\n",
       "      <td>0.813384</td>\n",
       "    </tr>\n",
       "    <tr>\n",
       "      <th>39</th>\n",
       "      <td>0.393939</td>\n",
       "      <td>0.816552</td>\n",
       "    </tr>\n",
       "    <tr>\n",
       "      <th>40</th>\n",
       "      <td>0.404040</td>\n",
       "      <td>0.819189</td>\n",
       "    </tr>\n",
       "    <tr>\n",
       "      <th>41</th>\n",
       "      <td>0.414141</td>\n",
       "      <td>0.816889</td>\n",
       "    </tr>\n",
       "    <tr>\n",
       "      <th>42</th>\n",
       "      <td>0.424242</td>\n",
       "      <td>0.816576</td>\n",
       "    </tr>\n",
       "    <tr>\n",
       "      <th>43</th>\n",
       "      <td>0.434343</td>\n",
       "      <td>0.817619</td>\n",
       "    </tr>\n",
       "    <tr>\n",
       "      <th>44</th>\n",
       "      <td>0.444444</td>\n",
       "      <td>0.819017</td>\n",
       "    </tr>\n",
       "    <tr>\n",
       "      <th>45</th>\n",
       "      <td>0.454545</td>\n",
       "      <td>0.818291</td>\n",
       "    </tr>\n",
       "  </tbody>\n",
       "</table>\n",
       "</div>"
      ],
      "text/plain": [
       "      cutoff        KS\n",
       "35  0.353535  0.807422\n",
       "36  0.363636  0.808957\n",
       "37  0.373737  0.810355\n",
       "38  0.383838  0.813384\n",
       "39  0.393939  0.816552\n",
       "40  0.404040  0.819189\n",
       "41  0.414141  0.816889\n",
       "42  0.424242  0.816576\n",
       "43  0.434343  0.817619\n",
       "44  0.444444  0.819017\n",
       "45  0.454545  0.818291"
      ]
     },
     "execution_count": 93,
     "metadata": {},
     "output_type": "execute_result"
    }
   ],
   "source": [
    "cutoff_data.loc[35:45]"
   ]
  },
  {
   "cell_type": "markdown",
   "metadata": {},
   "source": [
    "Now we'll see how this model with the cutoff determined here , performs on the test data."
   ]
  },
  {
   "cell_type": "code",
   "execution_count": 94,
   "metadata": {
    "ExecuteTime": {
     "end_time": "2019-03-24T11:21:33.121371Z",
     "start_time": "2019-03-24T11:21:33.036314Z"
    }
   },
   "outputs": [
    {
     "name": "stdout",
     "output_type": "stream",
     "text": [
      "confusion matrix :\n",
      " \n",
      "  predicted     0    1\n",
      "real                \n",
      "0          1624  183\n",
      "1            25  199\n"
     ]
    }
   ],
   "source": [
    "# Performance on test data\n",
    "prob_score_test=pd.Series(list(zip(*logr.predict_proba(x_test)))[1])\n",
    "\n",
    "predicted_test=pd.Series([0]*len(y_test))\n",
    "predicted_test[prob_score_test>float(KS_cutoff)]=1\n",
    "\n",
    "df_test=pd.DataFrame(list(zip(y_test,predicted_test)),columns=[\"real\",\"predicted\"])\n",
    "\n",
    "k=pd.crosstab(df_test['real'],df_test[\"predicted\"])\n",
    "print('confusion matrix :\\n \\n ',k)\n",
    "TN=k.iloc[0,0]\n",
    "TP=k.iloc[1,1]\n",
    "FP=k.iloc[0,1]\n",
    "FN=k.iloc[1,0]\n",
    "P=TP+FN\n",
    "N=TN+FP"
   ]
  },
  {
   "cell_type": "code",
   "execution_count": 95,
   "metadata": {
    "ExecuteTime": {
     "end_time": "2019-03-24T11:21:46.563664Z",
     "start_time": "2019-03-24T11:21:46.554656Z"
    }
   },
   "outputs": [
    {
     "data": {
      "text/plain": [
       "0.89356001462566215"
      ]
     },
     "execution_count": 95,
     "metadata": {},
     "output_type": "execute_result"
    }
   ],
   "source": [
    "# predicted_test\n",
    "# score model performance on the test data\n",
    "roc_auc_score(y_test,predicted_test)"
   ]
  },
  {
   "cell_type": "code",
   "execution_count": 96,
   "metadata": {
    "ExecuteTime": {
     "end_time": "2019-03-24T11:21:53.553434Z",
     "start_time": "2019-03-24T11:21:53.512407Z"
    }
   },
   "outputs": [
    {
     "data": {
      "text/plain": [
       "0.89758739537173804"
      ]
     },
     "execution_count": 96,
     "metadata": {},
     "output_type": "execute_result"
    }
   ],
   "source": [
    "# Accuracy of test\n",
    "(TP+TN)/(P+N)"
   ]
  },
  {
   "cell_type": "code",
   "execution_count": 97,
   "metadata": {
    "ExecuteTime": {
     "end_time": "2019-03-24T11:21:56.972796Z",
     "start_time": "2019-03-24T11:21:56.963790Z"
    }
   },
   "outputs": [
    {
     "data": {
      "text/plain": [
       "0.8883928571428571"
      ]
     },
     "execution_count": 97,
     "metadata": {},
     "output_type": "execute_result"
    }
   ],
   "source": [
    "# Sensitivity on test\n",
    "TP/P"
   ]
  },
  {
   "cell_type": "code",
   "execution_count": 98,
   "metadata": {
    "ExecuteTime": {
     "end_time": "2019-03-24T11:21:59.124317Z",
     "start_time": "2019-03-24T11:21:59.110308Z"
    }
   },
   "outputs": [
    {
     "data": {
      "text/plain": [
       "0.52094240837696337"
      ]
     },
     "execution_count": 98,
     "metadata": {},
     "output_type": "execute_result"
    }
   ],
   "source": [
    "# Precision\n",
    "TP/(TP+FP)"
   ]
  },
  {
   "cell_type": "code",
   "execution_count": 76,
   "metadata": {
    "ExecuteTime": {
     "end_time": "2019-03-23T11:12:41.016777Z",
     "start_time": "2019-03-23T11:12:41.006774Z"
    }
   },
   "outputs": [
    {
     "data": {
      "text/plain": [
       "0.89872717210846709"
      ]
     },
     "execution_count": 76,
     "metadata": {},
     "output_type": "execute_result"
    }
   ],
   "source": [
    "#Specificity on test\n",
    "TN/N"
   ]
  },
  {
   "cell_type": "markdown",
   "metadata": {},
   "source": [
    "Next we see how cutoff determined by F_beta score performs on test data for beta values : 0.5,1,2"
   ]
  },
  {
   "cell_type": "code",
   "execution_count": 101,
   "metadata": {
    "ExecuteTime": {
     "end_time": "2019-03-24T11:33:16.798892Z",
     "start_time": "2019-03-24T11:33:16.679814Z"
    },
    "collapsed": true
   },
   "outputs": [],
   "source": [
    "cutoffs=np.linspace(0.010,0.99,100)\n",
    "def Fbeta_perf(beta,cutoffs,y_train,prob_score):\n",
    "    FB_cut=[]\n",
    "    for cutoff in cutoffs:\n",
    "        predicted=pd.Series([0]*len(y_train))\n",
    "        predicted[prob_score>cutoff]=1\n",
    "        df=pd.DataFrame(list(zip(y_train,predicted)),columns=[\"real\",\"predicted\"])\n",
    "\n",
    "        TP=len(df[(df[\"real\"]==1) &(df[\"predicted\"]==1) ])\n",
    "        FP=len(df[(df[\"real\"]==0) &(df[\"predicted\"]==1) ])\n",
    "        FN=len(df[(df[\"real\"]==1) &(df[\"predicted\"]==0) ])\n",
    "        P=TP+FN\n",
    "        \n",
    "        \n",
    "        Precision=TP/(TP+FP)\n",
    "        Recall=TP/P\n",
    "        FB=(1+beta**2)*Precision*Recall/((beta**2)*Precision+Recall)\n",
    "        FB_cut.append(FB)\n",
    "\n",
    "    cutoff_data=pd.DataFrame(list(zip(cutoffs,FB_cut)),columns=[\"cutoff\",\"FB\"])\n",
    "\n",
    "    FB_cutoff=cutoff_data[cutoff_data[\"FB\"]==cutoff_data[\"FB\"].max()][\"cutoff\"]\n",
    "    print('Cut-off - ', float(FB_cutoff))\n",
    "    \n",
    "    prob_score_test=pd.Series(list(zip(*logr.predict_proba(x_test)))[1])\n",
    "\n",
    "    predicted_test=pd.Series([0]*len(y_test))\n",
    "    predicted_test[prob_score_test>float(FB_cutoff)]=1\n",
    "    \n",
    "\n",
    "    df_test=pd.DataFrame(list(zip(y_test,predicted_test)),columns=[\"real\",\"predicted\"])\n",
    "\n",
    "    k=pd.crosstab(df_test['real'],df_test[\"predicted\"])\n",
    "    \n",
    "    #     print('confusion matrix :\\n \\n ',k)\n",
    "    TN=k.iloc[0,0]\n",
    "    TP=k.iloc[1,1]\n",
    "    FP=k.iloc[0,1]\n",
    "    FN=k.iloc[1,0]\n",
    "    P=TP+FN\n",
    "    N=TN+FP\n",
    "    print('For beta :',beta)\n",
    "    print('Accuracy is :',(TP+TN)/(P+N))\n",
    "    print('Sensitivity is :',(TP/P))\n",
    "    print('Precision is :',(TP/(TP+FP)))\n",
    "    print('Specificity is :',(TN/N))\n",
    "    print('AUC is :',roc_auc_score(y_test,predicted_test))\n",
    "    print('\\n \\n \\n')\n",
    "    \n",
    "    return df_test, "
   ]
  },
  {
   "cell_type": "code",
   "execution_count": 102,
   "metadata": {
    "ExecuteTime": {
     "end_time": "2019-03-24T11:33:26.392278Z",
     "start_time": "2019-03-24T11:33:17.442319Z"
    },
    "scrolled": true
   },
   "outputs": [
    {
     "name": "stdout",
     "output_type": "stream",
     "text": [
      "Cut-off -  0.8712121212121212\n",
      "For beta : 0.5\n",
      "Accuracy is : 0.939931068439\n",
      "Sensitivity is : 0.625\n",
      "Precision is : 0.786516853933\n",
      "Specificity is : 0.978970669618\n",
      "AUC is : 0.801985334809\n",
      "\n",
      " \n",
      " \n",
      "\n",
      "Cut-off -  0.693030303030303\n",
      "For beta : 1\n",
      "Accuracy is : 0.932545544067\n",
      "Sensitivity is : 0.758928571429\n",
      "Precision is : 0.671936758893\n",
      "Specificity is : 0.954067515219\n",
      "AUC is : 0.856498043324\n",
      "\n",
      " \n",
      " \n",
      "\n",
      "Cut-off -  0.5742424242424242\n",
      "For beta : 2\n",
      "Accuracy is : 0.929098966027\n",
      "Sensitivity is : 0.848214285714\n",
      "Precision is : 0.633333333333\n",
      "Specificity is : 0.939125622579\n",
      "AUC is : 0.893669954147\n",
      "\n",
      " \n",
      " \n",
      "\n"
     ]
    },
    {
     "data": {
      "text/plain": [
       "(      real  predicted\n",
       " 0        0          0\n",
       " 1        0          0\n",
       " 2        0          0\n",
       " 3        0          0\n",
       " 4        0          0\n",
       " 5        0          1\n",
       " 6        0          0\n",
       " 7        0          0\n",
       " 8        1          1\n",
       " 9        0          0\n",
       " 10       0          0\n",
       " 11       0          0\n",
       " 12       0          0\n",
       " 13       0          0\n",
       " 14       0          0\n",
       " 15       0          0\n",
       " 16       1          1\n",
       " 17       0          0\n",
       " 18       0          0\n",
       " 19       0          0\n",
       " 20       0          0\n",
       " 21       0          0\n",
       " 22       0          0\n",
       " 23       0          0\n",
       " 24       0          0\n",
       " 25       0          0\n",
       " 26       0          0\n",
       " 27       0          0\n",
       " 28       0          0\n",
       " 29       1          1\n",
       " ...    ...        ...\n",
       " 2001     0          0\n",
       " 2002     0          1\n",
       " 2003     0          1\n",
       " 2004     0          1\n",
       " 2005     0          0\n",
       " 2006     0          0\n",
       " 2007     0          0\n",
       " 2008     0          0\n",
       " 2009     0          0\n",
       " 2010     0          0\n",
       " 2011     0          0\n",
       " 2012     0          0\n",
       " 2013     0          0\n",
       " 2014     0          0\n",
       " 2015     0          0\n",
       " 2016     1          1\n",
       " 2017     0          0\n",
       " 2018     0          0\n",
       " 2019     0          0\n",
       " 2020     0          0\n",
       " 2021     0          0\n",
       " 2022     0          0\n",
       " 2023     0          0\n",
       " 2024     0          0\n",
       " 2025     0          0\n",
       " 2026     0          1\n",
       " 2027     0          0\n",
       " 2028     1          1\n",
       " 2029     0          1\n",
       " 2030     0          0\n",
       " \n",
       " [2031 rows x 2 columns],)"
      ]
     },
     "execution_count": 102,
     "metadata": {},
     "output_type": "execute_result"
    }
   ],
   "source": [
    "Fbeta_perf(0.5,cutoffs,y_train,prob_score)\n",
    "Fbeta_perf(1,cutoffs,y_train,prob_score)\n",
    "Fbeta_perf(2,cutoffs,y_train,prob_score)"
   ]
  },
  {
   "cell_type": "code",
   "execution_count": 103,
   "metadata": {
    "ExecuteTime": {
     "end_time": "2019-03-24T11:33:46.064832Z",
     "start_time": "2019-03-24T11:33:42.972774Z"
    }
   },
   "outputs": [
    {
     "name": "stdout",
     "output_type": "stream",
     "text": [
      "Cut-off -  0.693030303030303\n",
      "For beta : 1\n",
      "Accuracy is : 0.932545544067\n",
      "Sensitivity is : 0.758928571429\n",
      "Precision is : 0.671936758893\n",
      "Specificity is : 0.954067515219\n",
      "AUC is : 0.856498043324\n",
      "\n",
      " \n",
      " \n",
      "\n"
     ]
    }
   ],
   "source": [
    "final_output = Fbeta_perf(1,cutoffs,y_train,prob_score)"
   ]
  },
  {
   "cell_type": "code",
   "execution_count": 104,
   "metadata": {
    "ExecuteTime": {
     "end_time": "2019-03-24T11:33:48.312329Z",
     "start_time": "2019-03-24T11:33:48.298320Z"
    },
    "scrolled": true
   },
   "outputs": [
    {
     "data": {
      "text/plain": [
       "(      real  predicted\n",
       " 0        0          0\n",
       " 1        0          0\n",
       " 2        0          0\n",
       " 3        0          0\n",
       " 4        0          0\n",
       " 5        0          1\n",
       " 6        0          0\n",
       " 7        0          0\n",
       " 8        1          1\n",
       " 9        0          0\n",
       " 10       0          0\n",
       " 11       0          0\n",
       " 12       0          0\n",
       " 13       0          0\n",
       " 14       0          0\n",
       " 15       0          0\n",
       " 16       1          1\n",
       " 17       0          0\n",
       " 18       0          0\n",
       " 19       0          0\n",
       " 20       0          0\n",
       " 21       0          0\n",
       " 22       0          0\n",
       " 23       0          0\n",
       " 24       0          0\n",
       " 25       0          0\n",
       " 26       0          0\n",
       " 27       0          0\n",
       " 28       0          0\n",
       " 29       1          1\n",
       " ...    ...        ...\n",
       " 2001     0          0\n",
       " 2002     0          0\n",
       " 2003     0          1\n",
       " 2004     0          1\n",
       " 2005     0          0\n",
       " 2006     0          0\n",
       " 2007     0          0\n",
       " 2008     0          0\n",
       " 2009     0          0\n",
       " 2010     0          0\n",
       " 2011     0          0\n",
       " 2012     0          0\n",
       " 2013     0          0\n",
       " 2014     0          0\n",
       " 2015     0          0\n",
       " 2016     1          0\n",
       " 2017     0          0\n",
       " 2018     0          0\n",
       " 2019     0          0\n",
       " 2020     0          0\n",
       " 2021     0          0\n",
       " 2022     0          0\n",
       " 2023     0          0\n",
       " 2024     0          0\n",
       " 2025     0          0\n",
       " 2026     0          1\n",
       " 2027     0          0\n",
       " 2028     1          1\n",
       " 2029     0          1\n",
       " 2030     0          0\n",
       " \n",
       " [2031 rows x 2 columns],)"
      ]
     },
     "execution_count": 104,
     "metadata": {},
     "output_type": "execute_result"
    }
   ],
   "source": [
    "final_output"
   ]
  },
  {
   "cell_type": "code",
   "execution_count": null,
   "metadata": {
    "collapsed": true
   },
   "outputs": [],
   "source": []
  },
  {
   "cell_type": "markdown",
   "metadata": {},
   "source": [
    "You can see that low beta < 1 favors Specificity where as beta > 1 favors sensitivity"
   ]
  },
  {
   "cell_type": "code",
   "execution_count": null,
   "metadata": {
    "collapsed": true
   },
   "outputs": [],
   "source": []
  },
  {
   "cell_type": "code",
   "execution_count": null,
   "metadata": {
    "collapsed": true
   },
   "outputs": [],
   "source": []
  },
  {
   "cell_type": "code",
   "execution_count": null,
   "metadata": {
    "collapsed": true
   },
   "outputs": [],
   "source": []
  },
  {
   "cell_type": "markdown",
   "metadata": {},
   "source": [
    "We'll conclude our discussion here. Please do the practice exercises . If you face any issue we'll discuss that either in class or QA forum on LMS.\n",
    "\n",
    "Prepared By : Lalit Sachan (lalit.sachan@edvancer.in)\n",
    "\n",
    "In case of any doubts or errata alert; please take to QA forum for discussion.\n",
    "\n",
    "Doubts will be discussed in live class sessions too. [This doesnt apply for self paced students]"
   ]
  }
 ],
 "metadata": {
  "anaconda-cloud": {},
  "kernelspec": {
   "display_name": "Python 3",
   "language": "python",
   "name": "python3"
  },
  "language_info": {
   "codemirror_mode": {
    "name": "ipython",
    "version": 3
   },
   "file_extension": ".py",
   "mimetype": "text/x-python",
   "name": "python",
   "nbconvert_exporter": "python",
   "pygments_lexer": "ipython3",
   "version": "3.7.3"
  },
  "toc": {
   "base_numbering": 1,
   "nav_menu": {},
   "number_sections": true,
   "sideBar": true,
   "skip_h1_title": false,
   "title_cell": "Table of Contents",
   "title_sidebar": "Contents",
   "toc_cell": false,
   "toc_position": {},
   "toc_section_display": true,
   "toc_window_display": false
  }
 },
 "nbformat": 4,
 "nbformat_minor": 1
}
