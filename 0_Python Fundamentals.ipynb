{
 "cells": [
  {
   "cell_type": "markdown",
   "metadata": {},
   "source": [
    "# Introduction to Python"
   ]
  },
  {
   "cell_type": "code",
   "execution_count": 1,
   "metadata": {
    "ExecuteTime": {
     "end_time": "2019-02-10T09:50:47.907463Z",
     "start_time": "2019-02-10T09:50:47.898456Z"
    }
   },
   "outputs": [
    {
     "data": {
      "text/plain": [
       "6"
      ]
     },
     "execution_count": 1,
     "metadata": {},
     "output_type": "execute_result"
    }
   ],
   "source": [
    "x=6\n",
    "y=\"data science\"\n",
    "x\n",
    "\n",
    "# Any text followed by '#' is not conisdered python code. These are called comments\n",
    "# shortcut for commenting is : select the line(s) which you want to comment and then use Ctrl+/\n",
    "# short cut for executing your code is shift+enter\n"
   ]
  },
  {
   "cell_type": "code",
   "execution_count": 96,
   "metadata": {
    "ExecuteTime": {
     "end_time": "2019-02-10T09:49:45.307758Z",
     "start_time": "2019-02-10T09:49:45.288745Z"
    }
   },
   "outputs": [
    {
     "data": {
      "text/plain": [
       "range(0, 8)"
      ]
     },
     "execution_count": 96,
     "metadata": {},
     "output_type": "execute_result"
    }
   ],
   "source": [
    "x\n"
   ]
  },
  {
   "cell_type": "code",
   "execution_count": 3,
   "metadata": {
    "ExecuteTime": {
     "end_time": "2019-02-10T09:50:07.800740Z",
     "start_time": "2019-02-10T09:50:07.792736Z"
    }
   },
   "outputs": [
    {
     "data": {
      "text/plain": [
       "'data science'"
      ]
     },
     "execution_count": 3,
     "metadata": {},
     "output_type": "execute_result"
    }
   ],
   "source": [
    "y"
   ]
  },
  {
   "cell_type": "code",
   "execution_count": 98,
   "metadata": {
    "ExecuteTime": {
     "end_time": "2019-02-10T10:05:33.613612Z",
     "start_time": "2019-02-10T10:05:33.493532Z"
    }
   },
   "outputs": [
    {
     "data": {
      "text/plain": [
       "4"
      ]
     },
     "execution_count": 98,
     "metadata": {},
     "output_type": "execute_result"
    }
   ],
   "source": [
    "X=4\n",
    "X"
   ]
  },
  {
   "cell_type": "code",
   "execution_count": null,
   "metadata": {
    "ExecuteTime": {
     "end_time": "2019-02-10T10:05:57.928170Z",
     "start_time": "2019-02-10T10:05:57.924169Z"
    }
   },
   "outputs": [],
   "source": [
    "X=11\n",
    "X"
   ]
  },
  {
   "cell_type": "code",
   "execution_count": null,
   "metadata": {
    "ExecuteTime": {
     "end_time": "2019-02-10T10:06:05.016580Z",
     "start_time": "2019-02-10T10:06:05.008574Z"
    }
   },
   "outputs": [],
   "source": [
    "x"
   ]
  },
  {
   "cell_type": "code",
   "execution_count": null,
   "metadata": {
    "ExecuteTime": {
     "end_time": "2019-02-10T10:06:09.068248Z",
     "start_time": "2019-02-10T10:06:09.057239Z"
    }
   },
   "outputs": [],
   "source": [
    "X"
   ]
  },
  {
   "cell_type": "markdown",
   "metadata": {},
   "source": [
    "\n",
    "### Variable Naming\n",
    "\n",
    "\n",
    "You can pretty much chose any name as a variable name, however there are few rules that you'd need to follow\n",
    "\n",
    "\n",
    "* Variable names can not have spaces in between.\n",
    "* They can not contain any special character except underscore [i.e. _ ]\n",
    "* Variable names can not start with a number , however you can have numbers anywhere else in the variable name\n",
    "\n",
    "\n",
    "In addition to these rules there are few good practices when you are naming your variables. Google python style guide  recommends following way of naming variables based on what type of variables they are.\n",
    "\n",
    "\n",
    "module_name, package_name, ClassName, method_name, ExceptionName, function_name, \n",
    "GLOBAL_CONSTANT_NAME, global_var_name, instance_var_name, \n",
    "function_parameter_name, local_var_name\n",
    "\n",
    "\n",
    "*Note: Its not mandatory to use underscore with long variable names , just that it makes your variable name easily readable.*\n",
    "\n",
    "Lets see an example below , you decide yourself which variable name is more readable."
   ]
  },
  {
   "cell_type": "code",
   "execution_count": null,
   "metadata": {
    "ExecuteTime": {
     "end_time": "2019-02-10T10:08:54.219793Z",
     "start_time": "2019-02-10T10:08:54.212790Z"
    }
   },
   "outputs": [],
   "source": [
    "my_obj = 5"
   ]
  },
  {
   "cell_type": "markdown",
   "metadata": {
    "ExecuteTime": {
     "end_time": "2019-02-10T10:09:31.317776Z",
     "start_time": "2019-02-10T10:09:31.309771Z"
    },
    "collapsed": true
   },
   "source": [
    "my_obj4 = 5\n"
   ]
  },
  {
   "cell_type": "code",
   "execution_count": null,
   "metadata": {
    "ExecuteTime": {
     "end_time": "2019-02-10T10:14:37.296834Z",
     "start_time": "2019-02-10T10:14:37.288829Z"
    }
   },
   "outputs": [],
   "source": [
    "isthisareadablename=3"
   ]
  },
  {
   "cell_type": "code",
   "execution_count": null,
   "metadata": {
    "ExecuteTime": {
     "end_time": "2019-02-10T10:14:37.296834Z",
     "start_time": "2019-02-10T10:14:37.288829Z"
    }
   },
   "outputs": [],
   "source": [
    "_or_this_is_more_readable_despite_being_longer=4\n",
    "v=3"
   ]
  },
  {
   "cell_type": "code",
   "execution_count": 5,
   "metadata": {
    "ExecuteTime": {
     "end_time": "2019-02-10T10:14:37.296834Z",
     "start_time": "2019-02-10T10:14:37.288829Z"
    }
   },
   "outputs": [],
   "source": [
    "# to break cells in two : ctrl shift -"
   ]
  },
  {
   "cell_type": "code",
   "execution_count": 6,
   "metadata": {
    "ExecuteTime": {
     "end_time": "2019-02-10T10:15:08.762599Z",
     "start_time": "2019-02-10T10:15:08.755594Z"
    }
   },
   "outputs": [],
   "source": [
    "_or_this_is_more_readable_despite_being_longer=4"
   ]
  },
  {
   "cell_type": "markdown",
   "metadata": {},
   "source": [
    "**Reserved Words:**\n",
    "\n",
    "\n",
    "['False', 'None', 'True', 'and', 'as', 'assert', 'break', 'class', 'continue', 'def', 'del', 'elif', 'else', 'except', 'finally', 'for', 'from', 'global', 'if', 'import', 'in', 'is', 'lambda', 'nonlocal', 'not', 'or', 'pass', 'raise', 'return', 'try', 'while', 'with', 'yield']\n",
    "\n"
   ]
  },
  {
   "cell_type": "code",
   "execution_count": 7,
   "metadata": {
    "ExecuteTime": {
     "end_time": "2019-02-10T10:16:05.664057Z",
     "start_time": "2019-02-10T10:16:05.651051Z"
    }
   },
   "outputs": [
    {
     "ename": "SyntaxError",
     "evalue": "invalid syntax (<ipython-input-7-4afdef3c6ee6>, line 1)",
     "output_type": "error",
     "traceback": [
      "\u001b[1;36m  File \u001b[1;32m\"<ipython-input-7-4afdef3c6ee6>\"\u001b[1;36m, line \u001b[1;32m1\u001b[0m\n\u001b[1;33m    from=4\u001b[0m\n\u001b[1;37m        ^\u001b[0m\n\u001b[1;31mSyntaxError\u001b[0m\u001b[1;31m:\u001b[0m invalid syntax\n"
     ]
    }
   ],
   "source": [
    "from=4"
   ]
  },
  {
   "cell_type": "code",
   "execution_count": 100,
   "metadata": {
    "ExecuteTime": {
     "end_time": "2019-02-10T10:18:09.654970Z",
     "start_time": "2019-02-10T10:18:09.650967Z"
    }
   },
   "outputs": [
    {
     "data": {
      "text/plain": [
       "4"
      ]
     },
     "execution_count": 100,
     "metadata": {},
     "output_type": "execute_result"
    }
   ],
   "source": [
    "From=4\n",
    "From"
   ]
  },
  {
   "cell_type": "markdown",
   "metadata": {},
   "source": [
    "\n",
    "### variable types\n",
    "\n"
   ]
  },
  {
   "cell_type": "code",
   "execution_count": 104,
   "metadata": {
    "ExecuteTime": {
     "end_time": "2019-02-10T10:21:12.602601Z",
     "start_time": "2019-02-10T10:21:12.594596Z"
    }
   },
   "outputs": [
    {
     "data": {
      "text/plain": [
       "range(0, 8)"
      ]
     },
     "execution_count": 104,
     "metadata": {},
     "output_type": "execute_result"
    }
   ],
   "source": [
    "x"
   ]
  },
  {
   "cell_type": "code",
   "execution_count": 103,
   "metadata": {
    "ExecuteTime": {
     "end_time": "2019-02-10T10:21:16.579470Z",
     "start_time": "2019-02-10T10:21:16.565461Z"
    }
   },
   "outputs": [
    {
     "data": {
      "text/plain": [
       "range"
      ]
     },
     "execution_count": 103,
     "metadata": {},
     "output_type": "execute_result"
    }
   ],
   "source": [
    "type(x)"
   ]
  },
  {
   "cell_type": "code",
   "execution_count": 10,
   "metadata": {
    "ExecuteTime": {
     "end_time": "2019-02-10T10:21:35.287251Z",
     "start_time": "2019-02-10T10:21:35.281247Z"
    }
   },
   "outputs": [
    {
     "data": {
      "text/plain": [
       "'data science'"
      ]
     },
     "execution_count": 10,
     "metadata": {},
     "output_type": "execute_result"
    }
   ],
   "source": [
    "y"
   ]
  },
  {
   "cell_type": "code",
   "execution_count": 105,
   "metadata": {
    "ExecuteTime": {
     "end_time": "2019-02-10T10:21:37.570898Z",
     "start_time": "2019-02-10T10:21:37.564895Z"
    }
   },
   "outputs": [
    {
     "data": {
      "text/plain": [
       "int"
      ]
     },
     "execution_count": 105,
     "metadata": {},
     "output_type": "execute_result"
    }
   ],
   "source": [
    "type(y)"
   ]
  },
  {
   "cell_type": "code",
   "execution_count": 12,
   "metadata": {
    "ExecuteTime": {
     "end_time": "2019-02-10T10:21:48.697704Z",
     "start_time": "2019-02-10T10:21:48.690701Z"
    }
   },
   "outputs": [
    {
     "data": {
      "text/plain": [
       "'sachin'"
      ]
     },
     "execution_count": 12,
     "metadata": {},
     "output_type": "execute_result"
    }
   ],
   "source": [
    "x=\"sachin\"\n",
    "x='sachin'\n",
    "x"
   ]
  },
  {
   "cell_type": "markdown",
   "metadata": {},
   "source": [
    "Note: when assigning a string/char value to a variable it doesn't matter whether you use single quotes [''] or double quotes [\"\"]\n",
    "\n"
   ]
  },
  {
   "cell_type": "code",
   "execution_count": 106,
   "metadata": {
    "ExecuteTime": {
     "end_time": "2019-02-10T10:23:26.028186Z",
     "start_time": "2019-02-10T10:23:26.020180Z"
    }
   },
   "outputs": [
    {
     "data": {
      "text/plain": [
       "str"
      ]
     },
     "execution_count": 106,
     "metadata": {},
     "output_type": "execute_result"
    }
   ],
   "source": [
    "x=\"5\"\n",
    "type(x)"
   ]
  },
  {
   "cell_type": "code",
   "execution_count": 107,
   "metadata": {
    "ExecuteTime": {
     "end_time": "2019-02-10T10:24:17.277852Z",
     "start_time": "2019-02-10T10:24:17.262836Z"
    }
   },
   "outputs": [
    {
     "ename": "TypeError",
     "evalue": "can only concatenate str (not \"int\") to str",
     "output_type": "error",
     "traceback": [
      "\u001b[1;31m---------------------------------------------------------------------------\u001b[0m",
      "\u001b[1;31mTypeError\u001b[0m                                 Traceback (most recent call last)",
      "\u001b[1;32m<ipython-input-107-56c530d9a4bc>\u001b[0m in \u001b[0;36m<module>\u001b[1;34m\u001b[0m\n\u001b[1;32m----> 1\u001b[1;33m \u001b[0mx\u001b[0m\u001b[1;33m+\u001b[0m\u001b[1;36m2\u001b[0m\u001b[1;33m\u001b[0m\u001b[1;33m\u001b[0m\u001b[0m\n\u001b[0m",
      "\u001b[1;31mTypeError\u001b[0m: can only concatenate str (not \"int\") to str"
     ]
    }
   ],
   "source": [
    "x+2"
   ]
  },
  {
   "cell_type": "code",
   "execution_count": 108,
   "metadata": {
    "ExecuteTime": {
     "end_time": "2019-02-10T10:24:50.959578Z",
     "start_time": "2019-02-10T10:24:50.951572Z"
    }
   },
   "outputs": [
    {
     "data": {
      "text/plain": [
       "7"
      ]
     },
     "execution_count": 108,
     "metadata": {},
     "output_type": "execute_result"
    }
   ],
   "source": [
    "int(x)+2"
   ]
  },
  {
   "cell_type": "code",
   "execution_count": 109,
   "metadata": {
    "ExecuteTime": {
     "end_time": "2019-02-10T10:25:10.471879Z",
     "start_time": "2019-02-10T10:25:10.464874Z"
    }
   },
   "outputs": [],
   "source": [
    "x = int(x)"
   ]
  },
  {
   "cell_type": "code",
   "execution_count": 110,
   "metadata": {
    "ExecuteTime": {
     "end_time": "2019-02-10T10:25:51.409544Z",
     "start_time": "2019-02-10T10:25:51.402541Z"
    }
   },
   "outputs": [
    {
     "data": {
      "text/plain": [
       "str"
      ]
     },
     "execution_count": 110,
     "metadata": {},
     "output_type": "execute_result"
    }
   ],
   "source": [
    "x=\"abcd\"\n",
    "type(x)"
   ]
  },
  {
   "cell_type": "code",
   "execution_count": null,
   "metadata": {
    "ExecuteTime": {
     "end_time": "2019-02-10T10:26:07.430136Z",
     "start_time": "2019-02-10T10:26:07.418127Z"
    }
   },
   "outputs": [],
   "source": [
    "int(x)"
   ]
  },
  {
   "cell_type": "code",
   "execution_count": 112,
   "metadata": {
    "ExecuteTime": {
     "end_time": "2019-02-10T10:27:50.264446Z",
     "start_time": "2019-02-10T10:27:50.251437Z"
    }
   },
   "outputs": [
    {
     "data": {
      "text/plain": [
       "42"
      ]
     },
     "execution_count": 112,
     "metadata": {},
     "output_type": "execute_result"
    }
   ],
   "source": [
    "x=\"42\"\n",
    "int(x)"
   ]
  },
  {
   "cell_type": "code",
   "execution_count": 113,
   "metadata": {
    "ExecuteTime": {
     "end_time": "2019-02-10T10:27:53.224904Z",
     "start_time": "2019-02-10T10:27:53.202890Z"
    }
   },
   "outputs": [
    {
     "name": "stdout",
     "output_type": "stream",
     "text": [
      "42\n"
     ]
    },
    {
     "data": {
      "text/plain": [
       "str"
      ]
     },
     "execution_count": 113,
     "metadata": {},
     "output_type": "execute_result"
    }
   ],
   "source": [
    "print(x)\n",
    "type(x)"
   ]
  },
  {
   "cell_type": "code",
   "execution_count": 114,
   "metadata": {
    "ExecuteTime": {
     "end_time": "2019-02-10T10:28:10.444423Z",
     "start_time": "2019-02-10T10:28:10.429413Z"
    }
   },
   "outputs": [
    {
     "data": {
      "text/plain": [
       "int"
      ]
     },
     "execution_count": 114,
     "metadata": {},
     "output_type": "execute_result"
    }
   ],
   "source": [
    "x=int(x)\n",
    "type(x)"
   ]
  },
  {
   "cell_type": "code",
   "execution_count": null,
   "metadata": {},
   "outputs": [],
   "source": []
  },
  {
   "cell_type": "markdown",
   "metadata": {},
   "source": [
    "### Numeric Operations \n",
    "\n",
    "for simple algebaric operations , usual symbols work. Below are some examples."
   ]
  },
  {
   "cell_type": "code",
   "execution_count": 115,
   "metadata": {
    "ExecuteTime": {
     "end_time": "2019-02-10T10:50:34.117961Z",
     "start_time": "2019-02-10T10:50:34.108955Z"
    }
   },
   "outputs": [
    {
     "data": {
      "text/plain": [
       "21.22"
      ]
     },
     "execution_count": 115,
     "metadata": {},
     "output_type": "execute_result"
    }
   ],
   "source": [
    "x=1.22\n",
    "y=20\n",
    "x+y"
   ]
  },
  {
   "cell_type": "code",
   "execution_count": 116,
   "metadata": {
    "ExecuteTime": {
     "end_time": "2019-02-10T10:50:36.965878Z",
     "start_time": "2019-02-10T10:50:36.958873Z"
    }
   },
   "outputs": [
    {
     "data": {
      "text/plain": [
       "-18.78"
      ]
     },
     "execution_count": 116,
     "metadata": {},
     "output_type": "execute_result"
    }
   ],
   "source": [
    "x-y"
   ]
  },
  {
   "cell_type": "code",
   "execution_count": 117,
   "metadata": {
    "ExecuteTime": {
     "end_time": "2019-02-10T10:50:39.530197Z",
     "start_time": "2019-02-10T10:50:39.523192Z"
    }
   },
   "outputs": [
    {
     "data": {
      "text/plain": [
       "24.4"
      ]
     },
     "execution_count": 117,
     "metadata": {},
     "output_type": "execute_result"
    }
   ],
   "source": [
    "x*y"
   ]
  },
  {
   "cell_type": "code",
   "execution_count": 118,
   "metadata": {
    "ExecuteTime": {
     "end_time": "2019-02-10T10:50:43.552622Z",
     "start_time": "2019-02-10T10:50:43.543615Z"
    }
   },
   "outputs": [
    {
     "data": {
      "text/plain": [
       "0.061"
      ]
     },
     "execution_count": 118,
     "metadata": {},
     "output_type": "execute_result"
    }
   ],
   "source": [
    "x/y"
   ]
  },
  {
   "cell_type": "markdown",
   "metadata": {},
   "source": [
    "you can do multiple operations separated by comma"
   ]
  },
  {
   "cell_type": "code",
   "execution_count": 119,
   "metadata": {
    "ExecuteTime": {
     "end_time": "2019-02-10T10:51:22.045118Z",
     "start_time": "2019-02-10T10:51:22.037114Z"
    }
   },
   "outputs": [
    {
     "data": {
      "text/plain": [
       "(3.2199999999999998, 23, 21.22, 68.00731157600202)"
      ]
     },
     "execution_count": 119,
     "metadata": {},
     "output_type": "execute_result"
    }
   ],
   "source": [
    "x+2,y+3,x+y,x**(x+y)"
   ]
  },
  {
   "cell_type": "code",
   "execution_count": 16,
   "metadata": {},
   "outputs": [],
   "source": [
    "# x^y : this is not same x**y "
   ]
  },
  {
   "cell_type": "markdown",
   "metadata": {},
   "source": [
    "you need to use double asterisks for exponents as shown below"
   ]
  },
  {
   "cell_type": "code",
   "execution_count": 120,
   "metadata": {
    "ExecuteTime": {
     "end_time": "2019-02-10T10:52:17.784670Z",
     "start_time": "2019-02-10T10:52:17.774663Z"
    }
   },
   "outputs": [
    {
     "data": {
      "text/plain": [
       "8"
      ]
     },
     "execution_count": 120,
     "metadata": {},
     "output_type": "execute_result"
    }
   ],
   "source": [
    "x=2\n",
    "y=3\n",
    "x**y"
   ]
  },
  {
   "cell_type": "code",
   "execution_count": 128,
   "metadata": {
    "ExecuteTime": {
     "end_time": "2019-02-10T10:52:23.490639Z",
     "start_time": "2019-02-10T10:52:23.481639Z"
    }
   },
   "outputs": [
    {
     "data": {
      "text/plain": [
       "49"
      ]
     },
     "execution_count": 128,
     "metadata": {},
     "output_type": "execute_result"
    }
   ],
   "source": [
    "7^14\n",
    "60^13"
   ]
  },
  {
   "cell_type": "code",
   "execution_count": 19,
   "metadata": {
    "ExecuteTime": {
     "end_time": "2019-02-10T10:53:10.662520Z",
     "start_time": "2019-02-10T10:53:10.654514Z"
    }
   },
   "outputs": [
    {
     "data": {
      "text/plain": [
       "23.5"
      ]
     },
     "execution_count": 19,
     "metadata": {},
     "output_type": "execute_result"
    }
   ],
   "source": [
    "z=(x+y)**x - y/x\n",
    "z"
   ]
  },
  {
   "cell_type": "code",
   "execution_count": 20,
   "metadata": {
    "ExecuteTime": {
     "end_time": "2019-02-10T10:53:18.003727Z",
     "start_time": "2019-02-10T10:53:17.998722Z"
    }
   },
   "outputs": [],
   "source": [
    "a,b,c,d=x+2,y+3,x+y,x**(x+y)"
   ]
  },
  {
   "cell_type": "code",
   "execution_count": 21,
   "metadata": {},
   "outputs": [],
   "source": [
    "a=x+2\n",
    "b=y+3\n",
    "c=x+y\n",
    "d=x**(x+y)\n",
    "\n",
    "a,b,c,d=x+2,y+3,x+y,x**(x+y)"
   ]
  },
  {
   "cell_type": "code",
   "execution_count": 129,
   "metadata": {
    "ExecuteTime": {
     "end_time": "2019-02-10T10:54:06.490624Z",
     "start_time": "2019-02-10T10:54:06.481618Z"
    }
   },
   "outputs": [
    {
     "data": {
      "text/plain": [
       "(7, 'y to B', 'nglore', 32)"
      ]
     },
     "execution_count": 129,
     "metadata": {},
     "output_type": "execute_result"
    }
   ],
   "source": [
    "a,b,c,d"
   ]
  },
  {
   "cell_type": "code",
   "execution_count": 133,
   "metadata": {
    "ExecuteTime": {
     "end_time": "2019-02-10T10:55:46.769327Z",
     "start_time": "2019-02-10T10:55:46.755319Z"
    }
   },
   "outputs": [
    {
     "ename": "TypeError",
     "evalue": "cannot unpack non-iterable int object",
     "output_type": "error",
     "traceback": [
      "\u001b[1;31m---------------------------------------------------------------------------\u001b[0m",
      "\u001b[1;31mTypeError\u001b[0m                                 Traceback (most recent call last)",
      "\u001b[1;32m<ipython-input-133-987e2d0f4adb>\u001b[0m in \u001b[0;36m<module>\u001b[1;34m\u001b[0m\n\u001b[0;32m      1\u001b[0m \u001b[0mc\u001b[0m\u001b[1;33m=\u001b[0m\u001b[1;36m2\u001b[0m\u001b[1;33m\u001b[0m\u001b[1;33m\u001b[0m\u001b[0m\n\u001b[1;32m----> 2\u001b[1;33m \u001b[0ma\u001b[0m\u001b[1;33m,\u001b[0m\u001b[0mb\u001b[0m\u001b[1;33m,\u001b[0m\u001b[0mc\u001b[0m\u001b[1;33m=\u001b[0m\u001b[1;36m3\u001b[0m\u001b[1;33m\u001b[0m\u001b[1;33m\u001b[0m\u001b[0m\n\u001b[0m",
      "\u001b[1;31mTypeError\u001b[0m: cannot unpack non-iterable int object"
     ]
    }
   ],
   "source": [
    "c=2\n",
    "a,b,c=3"
   ]
  },
  {
   "cell_type": "markdown",
   "metadata": {},
   "source": [
    "You should either do this :"
   ]
  },
  {
   "cell_type": "code",
   "execution_count": 134,
   "metadata": {
    "ExecuteTime": {
     "end_time": "2019-02-10T10:56:05.677364Z",
     "start_time": "2019-02-10T10:56:05.669357Z"
    }
   },
   "outputs": [
    {
     "data": {
      "text/plain": [
       "(2, 2, 2)"
      ]
     },
     "execution_count": 134,
     "metadata": {},
     "output_type": "execute_result"
    }
   ],
   "source": [
    "a,b,c=2,2,2\n",
    "a,b,c"
   ]
  },
  {
   "cell_type": "markdown",
   "metadata": {},
   "source": [
    "Or this :"
   ]
  },
  {
   "cell_type": "code",
   "execution_count": 135,
   "metadata": {},
   "outputs": [
    {
     "data": {
      "text/plain": [
       "(2, 2, 2)"
      ]
     },
     "execution_count": 135,
     "metadata": {},
     "output_type": "execute_result"
    }
   ],
   "source": [
    "a,b,c=[2,2,2]\n",
    "a,b,c"
   ]
  },
  {
   "cell_type": "markdown",
   "metadata": {},
   "source": [
    "Or this:"
   ]
  },
  {
   "cell_type": "code",
   "execution_count": 138,
   "metadata": {
    "ExecuteTime": {
     "end_time": "2019-02-10T10:59:06.294438Z",
     "start_time": "2019-02-10T10:59:06.285432Z"
    }
   },
   "outputs": [
    {
     "data": {
      "text/plain": [
       "(2, 2, 2, 2)"
      ]
     },
     "execution_count": 138,
     "metadata": {},
     "output_type": "execute_result"
    }
   ],
   "source": [
    "a,b,c=[2]*3\n",
    "a,b,c,x"
   ]
  },
  {
   "cell_type": "code",
   "execution_count": 139,
   "metadata": {
    "ExecuteTime": {
     "end_time": "2019-02-10T11:01:36.868098Z",
     "start_time": "2019-02-10T11:01:36.854087Z"
    }
   },
   "outputs": [
    {
     "data": {
      "text/plain": [
       "0.6931471805599453"
      ]
     },
     "execution_count": 139,
     "metadata": {},
     "output_type": "execute_result"
    }
   ],
   "source": [
    "import math\n",
    "math.log(x)"
   ]
  },
  {
   "cell_type": "code",
   "execution_count": 140,
   "metadata": {
    "ExecuteTime": {
     "end_time": "2019-02-10T11:02:48.661900Z",
     "start_time": "2019-02-10T11:02:48.653896Z"
    }
   },
   "outputs": [
    {
     "data": {
      "text/plain": [
       "0.9092974268256817"
      ]
     },
     "execution_count": 140,
     "metadata": {},
     "output_type": "execute_result"
    }
   ],
   "source": [
    "import math as m\n",
    "m.sin(x)"
   ]
  },
  {
   "cell_type": "code",
   "execution_count": 143,
   "metadata": {},
   "outputs": [
    {
     "name": "stdout",
     "output_type": "stream",
     "text": [
      "Requirement already satisfied: pandas in c:\\programdata\\anaconda3\\lib\\site-packages (1.0.1)\n",
      "Requirement already satisfied: python-dateutil>=2.6.1 in c:\\programdata\\anaconda3\\lib\\site-packages (from pandas) (2.8.1)\n",
      "Requirement already satisfied: numpy>=1.13.3 in c:\\programdata\\anaconda3\\lib\\site-packages (from pandas) (1.18.1)\n",
      "Requirement already satisfied: pytz>=2017.2 in c:\\programdata\\anaconda3\\lib\\site-packages (from pandas) (2019.3)\n",
      "Requirement already satisfied: six>=1.5 in c:\\programdata\\anaconda3\\lib\\site-packages (from python-dateutil>=2.6.1->pandas) (1.14.0)\n",
      "Note: you may need to restart the kernel to use updated packages.\n"
     ]
    }
   ],
   "source": [
    "pip install pandas"
   ]
  },
  {
   "cell_type": "markdown",
   "metadata": {},
   "source": [
    "### Logical values and Operations\n"
   ]
  },
  {
   "cell_type": "code",
   "execution_count": 1,
   "metadata": {
    "ExecuteTime": {
     "end_time": "2019-02-10T11:08:11.756602Z",
     "start_time": "2019-02-10T11:08:11.752599Z"
    }
   },
   "outputs": [],
   "source": [
    "x=True\n",
    "y=False"
   ]
  },
  {
   "cell_type": "code",
   "execution_count": 2,
   "metadata": {
    "ExecuteTime": {
     "end_time": "2019-02-10T11:08:18.802483Z",
     "start_time": "2019-02-10T11:08:18.790476Z"
    }
   },
   "outputs": [
    {
     "data": {
      "text/plain": [
       "bool"
      ]
     },
     "execution_count": 2,
     "metadata": {},
     "output_type": "execute_result"
    }
   ],
   "source": [
    "type(x)"
   ]
  },
  {
   "cell_type": "code",
   "execution_count": 3,
   "metadata": {
    "ExecuteTime": {
     "end_time": "2019-02-10T11:08:21.349622Z",
     "start_time": "2019-02-10T11:08:21.343617Z"
    }
   },
   "outputs": [
    {
     "data": {
      "text/plain": [
       "bool"
      ]
     },
     "execution_count": 3,
     "metadata": {},
     "output_type": "execute_result"
    }
   ],
   "source": [
    "type(y)"
   ]
  },
  {
   "cell_type": "code",
   "execution_count": 4,
   "metadata": {
    "ExecuteTime": {
     "end_time": "2019-02-10T11:09:38.576301Z",
     "start_time": "2019-02-10T11:09:38.568295Z"
    }
   },
   "outputs": [
    {
     "data": {
      "text/plain": [
       "False"
      ]
     },
     "execution_count": 4,
     "metadata": {},
     "output_type": "execute_result"
    }
   ],
   "source": [
    "x and y"
   ]
  },
  {
   "cell_type": "code",
   "execution_count": 5,
   "metadata": {
    "ExecuteTime": {
     "end_time": "2019-02-10T11:09:56.126533Z",
     "start_time": "2019-02-10T11:09:56.119532Z"
    }
   },
   "outputs": [
    {
     "data": {
      "text/plain": [
       "False"
      ]
     },
     "execution_count": 5,
     "metadata": {},
     "output_type": "execute_result"
    }
   ],
   "source": [
    "x & y"
   ]
  },
  {
   "cell_type": "code",
   "execution_count": 6,
   "metadata": {
    "ExecuteTime": {
     "end_time": "2019-02-10T11:10:07.660632Z",
     "start_time": "2019-02-10T11:10:07.651626Z"
    }
   },
   "outputs": [
    {
     "data": {
      "text/plain": [
       "True"
      ]
     },
     "execution_count": 6,
     "metadata": {},
     "output_type": "execute_result"
    }
   ],
   "source": [
    "x or y"
   ]
  },
  {
   "cell_type": "code",
   "execution_count": 7,
   "metadata": {},
   "outputs": [
    {
     "data": {
      "text/plain": [
       "True"
      ]
     },
     "execution_count": 7,
     "metadata": {},
     "output_type": "execute_result"
    }
   ],
   "source": [
    "x | y"
   ]
  },
  {
   "cell_type": "code",
   "execution_count": 8,
   "metadata": {
    "ExecuteTime": {
     "end_time": "2019-02-10T11:10:42.856022Z",
     "start_time": "2019-02-10T11:10:42.821999Z"
    }
   },
   "outputs": [
    {
     "data": {
      "text/plain": [
       "False"
      ]
     },
     "execution_count": 8,
     "metadata": {},
     "output_type": "execute_result"
    }
   ],
   "source": [
    "not x"
   ]
  },
  {
   "cell_type": "code",
   "execution_count": 11,
   "metadata": {
    "ExecuteTime": {
     "end_time": "2019-02-10T11:11:43.307281Z",
     "start_time": "2019-02-10T11:11:43.216222Z"
    }
   },
   "outputs": [
    {
     "name": "stderr",
     "output_type": "stream",
     "text": [
      "'x' is not recognized as an internal or external command,\n",
      "operable program or batch file.\n"
     ]
    }
   ],
   "source": [
    "! (x)"
   ]
  },
  {
   "cell_type": "markdown",
   "metadata": {},
   "source": [
    "### String values and operations\n",
    "\n"
   ]
  },
  {
   "cell_type": "code",
   "execution_count": 12,
   "metadata": {
    "ExecuteTime": {
     "end_time": "2019-02-16T09:23:29.127658Z",
     "start_time": "2019-02-16T09:23:29.120656Z"
    }
   },
   "outputs": [
    {
     "data": {
      "text/plain": [
       "('Bombay', 'Banglore')"
      ]
     },
     "execution_count": 12,
     "metadata": {},
     "output_type": "execute_result"
    }
   ],
   "source": [
    "x = 'Bombay'\n",
    "y = \"Banglore\"\n",
    "x,y"
   ]
  },
  {
   "cell_type": "code",
   "execution_count": 13,
   "metadata": {
    "ExecuteTime": {
     "end_time": "2019-02-10T11:12:17.782630Z",
     "start_time": "2019-02-10T11:12:17.774623Z"
    }
   },
   "outputs": [
    {
     "data": {
      "text/plain": [
       "(6, 8)"
      ]
     },
     "execution_count": 13,
     "metadata": {},
     "output_type": "execute_result"
    }
   ],
   "source": [
    "len(x),len(y)"
   ]
  },
  {
   "cell_type": "code",
   "execution_count": 14,
   "metadata": {
    "ExecuteTime": {
     "end_time": "2019-02-10T11:13:38.820879Z",
     "start_time": "2019-02-10T11:13:38.811872Z"
    }
   },
   "outputs": [
    {
     "data": {
      "text/plain": [
       "'BombayBanglore'"
      ]
     },
     "execution_count": 14,
     "metadata": {},
     "output_type": "execute_result"
    }
   ],
   "source": [
    "x+y"
   ]
  },
  {
   "cell_type": "code",
   "execution_count": 15,
   "metadata": {
    "ExecuteTime": {
     "end_time": "2019-02-10T11:14:21.746359Z",
     "start_time": "2019-02-10T11:14:21.735353Z"
    }
   },
   "outputs": [
    {
     "data": {
      "text/plain": [
       "'Bombay fnbnvBanglore'"
      ]
     },
     "execution_count": 15,
     "metadata": {},
     "output_type": "execute_result"
    }
   ],
   "source": [
    "x+\" \"+\"fnbnv\"+y"
   ]
  },
  {
   "cell_type": "code",
   "execution_count": 16,
   "metadata": {
    "ExecuteTime": {
     "end_time": "2019-02-16T09:23:32.391759Z",
     "start_time": "2019-02-16T09:23:32.380753Z"
    }
   },
   "outputs": [
    {
     "data": {
      "text/plain": [
       "'Bombay to Banglore'"
      ]
     },
     "execution_count": 16,
     "metadata": {},
     "output_type": "execute_result"
    }
   ],
   "source": [
    "z=x+\" to \"+y\n",
    "z"
   ]
  },
  {
   "cell_type": "code",
   "execution_count": 17,
   "metadata": {
    "ExecuteTime": {
     "end_time": "2019-02-10T11:15:41.277842Z",
     "start_time": "2019-02-10T11:15:41.270837Z"
    }
   },
   "outputs": [
    {
     "data": {
      "text/plain": [
       "'BOMBAY TO BANGLORE'"
      ]
     },
     "execution_count": 17,
     "metadata": {},
     "output_type": "execute_result"
    }
   ],
   "source": [
    "z.upper()"
   ]
  },
  {
   "cell_type": "code",
   "execution_count": 18,
   "metadata": {
    "ExecuteTime": {
     "end_time": "2019-02-10T11:15:46.620000Z",
     "start_time": "2019-02-10T11:15:46.612996Z"
    }
   },
   "outputs": [
    {
     "data": {
      "text/plain": [
       "'bombay to banglore'"
      ]
     },
     "execution_count": 18,
     "metadata": {},
     "output_type": "execute_result"
    }
   ],
   "source": [
    "z.lower()"
   ]
  },
  {
   "cell_type": "code",
   "execution_count": 19,
   "metadata": {
    "ExecuteTime": {
     "end_time": "2019-02-10T11:15:49.875433Z",
     "start_time": "2019-02-10T11:15:49.867427Z"
    }
   },
   "outputs": [
    {
     "data": {
      "text/plain": [
       "'Bombay to banglore'"
      ]
     },
     "execution_count": 19,
     "metadata": {},
     "output_type": "execute_result"
    }
   ],
   "source": [
    "z.capitalize()"
   ]
  },
  {
   "cell_type": "code",
   "execution_count": 20,
   "metadata": {
    "ExecuteTime": {
     "end_time": "2019-02-10T11:15:58.066093Z",
     "start_time": "2019-02-10T11:15:58.052082Z"
    }
   },
   "outputs": [
    {
     "data": {
      "text/plain": [
       "18"
      ]
     },
     "execution_count": 20,
     "metadata": {},
     "output_type": "execute_result"
    }
   ],
   "source": [
    "len(z)"
   ]
  },
  {
   "cell_type": "code",
   "execution_count": 21,
   "metadata": {
    "ExecuteTime": {
     "end_time": "2019-02-10T11:17:37.795146Z",
     "start_time": "2019-02-10T11:17:37.787139Z"
    }
   },
   "outputs": [
    {
     "data": {
      "text/plain": [
       "'  Bombay to Banglore'"
      ]
     },
     "execution_count": 21,
     "metadata": {},
     "output_type": "execute_result"
    }
   ],
   "source": [
    "z.rjust(20)\n",
    "# 20 is string length after padding with space"
   ]
  },
  {
   "cell_type": "code",
   "execution_count": 22,
   "metadata": {
    "ExecuteTime": {
     "end_time": "2019-02-10T11:17:06.771362Z",
     "start_time": "2019-02-10T11:17:06.762356Z"
    }
   },
   "outputs": [
    {
     "data": {
      "text/plain": [
       "'Bombay to Banglore  '"
      ]
     },
     "execution_count": 22,
     "metadata": {},
     "output_type": "execute_result"
    }
   ],
   "source": [
    "z.ljust(20)"
   ]
  },
  {
   "cell_type": "code",
   "execution_count": 23,
   "metadata": {
    "ExecuteTime": {
     "end_time": "2019-02-10T11:17:24.280394Z",
     "start_time": "2019-02-10T11:17:24.273388Z"
    }
   },
   "outputs": [
    {
     "data": {
      "text/plain": [
       "'  Bombay to Banglore '"
      ]
     },
     "execution_count": 23,
     "metadata": {},
     "output_type": "execute_result"
    }
   ],
   "source": [
    "z.center(21)"
   ]
  },
  {
   "cell_type": "code",
   "execution_count": 24,
   "metadata": {
    "ExecuteTime": {
     "end_time": "2019-02-10T11:17:47.613183Z",
     "start_time": "2019-02-10T11:17:47.606177Z"
    }
   },
   "outputs": [
    {
     "data": {
      "text/plain": [
       "'Bombay to Banglore'"
      ]
     },
     "execution_count": 24,
     "metadata": {},
     "output_type": "execute_result"
    }
   ],
   "source": [
    "z"
   ]
  },
  {
   "cell_type": "code",
   "execution_count": 25,
   "metadata": {
    "ExecuteTime": {
     "end_time": "2019-02-10T11:22:45.388935Z",
     "start_time": "2019-02-10T11:22:45.380930Z"
    }
   },
   "outputs": [
    {
     "data": {
      "text/plain": [
       "'   Bombay to Banglore    '"
      ]
     },
     "execution_count": 25,
     "metadata": {},
     "output_type": "execute_result"
    }
   ],
   "source": [
    "z=\"   \"+z+\"    \"\n",
    "z"
   ]
  },
  {
   "cell_type": "code",
   "execution_count": 26,
   "metadata": {
    "ExecuteTime": {
     "end_time": "2019-02-10T11:18:46.004249Z",
     "start_time": "2019-02-10T11:18:45.997247Z"
    }
   },
   "outputs": [
    {
     "data": {
      "text/plain": [
       "'Bombay to Banglore    '"
      ]
     },
     "execution_count": 26,
     "metadata": {},
     "output_type": "execute_result"
    }
   ],
   "source": [
    "z.lstrip()"
   ]
  },
  {
   "cell_type": "code",
   "execution_count": 27,
   "metadata": {
    "ExecuteTime": {
     "end_time": "2019-02-10T11:18:56.801530Z",
     "start_time": "2019-02-10T11:18:56.794526Z"
    }
   },
   "outputs": [
    {
     "data": {
      "text/plain": [
       "'   Bombay to Banglore'"
      ]
     },
     "execution_count": 27,
     "metadata": {},
     "output_type": "execute_result"
    }
   ],
   "source": [
    "z.rstrip()"
   ]
  },
  {
   "cell_type": "code",
   "execution_count": 28,
   "metadata": {
    "ExecuteTime": {
     "end_time": "2019-02-10T11:19:04.072999Z",
     "start_time": "2019-02-10T11:19:04.061992Z"
    }
   },
   "outputs": [
    {
     "data": {
      "text/plain": [
       "'Bombay to Banglore'"
      ]
     },
     "execution_count": 28,
     "metadata": {},
     "output_type": "execute_result"
    }
   ],
   "source": [
    "z.strip()"
   ]
  },
  {
   "cell_type": "code",
   "execution_count": 29,
   "metadata": {
    "ExecuteTime": {
     "end_time": "2019-02-10T11:19:14.101178Z",
     "start_time": "2019-02-10T11:19:14.095176Z"
    }
   },
   "outputs": [
    {
     "data": {
      "text/plain": [
       "'   Bombay to Banglore    '"
      ]
     },
     "execution_count": 29,
     "metadata": {},
     "output_type": "execute_result"
    }
   ],
   "source": [
    "z"
   ]
  },
  {
   "cell_type": "code",
   "execution_count": 30,
   "metadata": {
    "ExecuteTime": {
     "end_time": "2019-02-10T11:22:54.419950Z",
     "start_time": "2019-02-10T11:22:54.408943Z"
    }
   },
   "outputs": [
    {
     "name": "stdout",
     "output_type": "stream",
     "text": [
      "   Bombay to Banglore    \n"
     ]
    },
    {
     "data": {
      "text/plain": [
       "'   $#@ombay to $#@anglore    '"
      ]
     },
     "execution_count": 30,
     "metadata": {},
     "output_type": "execute_result"
    }
   ],
   "source": [
    "print(z)\n",
    "z.replace(\"B\",\"$#@\")"
   ]
  },
  {
   "cell_type": "code",
   "execution_count": 31,
   "metadata": {
    "ExecuteTime": {
     "end_time": "2019-02-10T11:28:04.773638Z",
     "start_time": "2019-02-10T11:28:04.763632Z"
    }
   },
   "outputs": [
    {
     "data": {
      "text/plain": [
       "[' ',\n",
       " ' ',\n",
       " ' ',\n",
       " 'B',\n",
       " 'o',\n",
       " 'm',\n",
       " 'b',\n",
       " 'a',\n",
       " 'y',\n",
       " ' ',\n",
       " 't',\n",
       " 'o',\n",
       " ' ',\n",
       " 'B',\n",
       " 'a',\n",
       " 'n',\n",
       " 'g',\n",
       " 'l',\n",
       " 'o',\n",
       " 'r',\n",
       " 'e',\n",
       " ' ',\n",
       " ' ',\n",
       " ' ',\n",
       " ' ']"
      ]
     },
     "execution_count": 31,
     "metadata": {},
     "output_type": "execute_result"
    }
   ],
   "source": [
    "list(z)"
   ]
  },
  {
   "cell_type": "code",
   "execution_count": 32,
   "metadata": {},
   "outputs": [],
   "source": [
    "x=5\n",
    "y=x"
   ]
  },
  {
   "cell_type": "code",
   "execution_count": 33,
   "metadata": {},
   "outputs": [],
   "source": [
    "## can i remove all white spaces . find out if a function like compress is there in python\n",
    "## how to use lists , join and split to remove all spaces in a string in python"
   ]
  },
  {
   "cell_type": "code",
   "execution_count": 34,
   "metadata": {
    "ExecuteTime": {
     "end_time": "2019-02-10T11:29:29.229448Z",
     "start_time": "2019-02-10T11:29:29.217439Z"
    }
   },
   "outputs": [
    {
     "name": "stdout",
     "output_type": "stream",
     "text": [
      "   Bombay to Banglore    \n"
     ]
    },
    {
     "data": {
      "text/plain": [
       "'Bombay to Banglore'"
      ]
     },
     "execution_count": 34,
     "metadata": {},
     "output_type": "execute_result"
    }
   ],
   "source": [
    "print(z)\n",
    "z=z.strip()\n",
    "z"
   ]
  },
  {
   "cell_type": "code",
   "execution_count": null,
   "metadata": {},
   "outputs": [],
   "source": []
  },
  {
   "cell_type": "code",
   "execution_count": 35,
   "metadata": {
    "ExecuteTime": {
     "end_time": "2019-02-10T11:29:44.286934Z",
     "start_time": "2019-02-10T11:29:44.280929Z"
    }
   },
   "outputs": [
    {
     "name": "stdout",
     "output_type": "stream",
     "text": [
      "Bombay to Banglore\n"
     ]
    }
   ],
   "source": [
    "print(z)\n",
    "k=z.split(\"a\")"
   ]
  },
  {
   "cell_type": "code",
   "execution_count": 36,
   "metadata": {
    "ExecuteTime": {
     "end_time": "2019-02-10T11:21:51.787498Z",
     "start_time": "2019-02-10T11:21:51.780493Z"
    }
   },
   "outputs": [
    {
     "data": {
      "text/plain": [
       "'Bombay to Banglore'"
      ]
     },
     "execution_count": 36,
     "metadata": {},
     "output_type": "execute_result"
    }
   ],
   "source": [
    "z"
   ]
  },
  {
   "cell_type": "code",
   "execution_count": 37,
   "metadata": {
    "ExecuteTime": {
     "end_time": "2019-02-10T11:29:44.572123Z",
     "start_time": "2019-02-10T11:29:44.565119Z"
    }
   },
   "outputs": [
    {
     "name": "stdout",
     "output_type": "stream",
     "text": [
      "['Bomb', 'y to B', 'nglore']\n"
     ]
    }
   ],
   "source": [
    "print(k)"
   ]
  },
  {
   "cell_type": "code",
   "execution_count": 38,
   "metadata": {
    "ExecuteTime": {
     "end_time": "2019-02-10T11:30:55.923760Z",
     "start_time": "2019-02-10T11:30:55.917758Z"
    }
   },
   "outputs": [
    {
     "name": "stdout",
     "output_type": "stream",
     "text": [
      "<class 'list'>\n"
     ]
    }
   ],
   "source": [
    "print(type(k))"
   ]
  },
  {
   "cell_type": "code",
   "execution_count": 42,
   "metadata": {
    "ExecuteTime": {
     "end_time": "2019-02-10T11:33:35.453922Z",
     "start_time": "2019-02-10T11:33:35.448919Z"
    }
   },
   "outputs": [
    {
     "name": "stdout",
     "output_type": "stream",
     "text": [
      "Bomb y to B ['Bomb', 'y to B', 'nglore']\n"
     ]
    }
   ],
   "source": [
    "c=k\n",
    "print (a,b,c)"
   ]
  },
  {
   "cell_type": "code",
   "execution_count": 43,
   "metadata": {
    "ExecuteTime": {
     "end_time": "2019-02-10T11:33:36.398223Z",
     "start_time": "2019-02-10T11:33:36.382211Z"
    }
   },
   "outputs": [
    {
     "data": {
      "text/plain": [
       "'y to B'"
      ]
     },
     "execution_count": 43,
     "metadata": {},
     "output_type": "execute_result"
    }
   ],
   "source": [
    "b"
   ]
  },
  {
   "cell_type": "markdown",
   "metadata": {},
   "source": [
    "function split, splits a string at given separator . Result of this is a list [ which we will learn about in some time]"
   ]
  },
  {
   "cell_type": "markdown",
   "metadata": {},
   "source": [
    "## Subsetting a string with indices\n",
    "\n",
    "For extracting a part of the string, we don’t need a special function. We can simple indexing using square brackets “[]”. While using this indexing , we need to keep few things in mind\n",
    "\n",
    "* counting starts with 0. first character gets counted as zero\n",
    "* [a:b] , means starting at ath position and extracting until (b-1)th position \n",
    "* [a:] , means starting at ath position till end\n",
    "* [:a], means starting at the beginning until (a-1)th position\n",
    "\n",
    "negative sign with indices mean counting from right instead of natural left.\n",
    "\n",
    "* [:-a], means starting at the beginning and going up til ath position from end. counting from end also starts with 0.\n",
    "* [-a:], means starting at (a-1)th character from the end and going up till last character.\n",
    "* [a:-b], means starting at ath character at the beginning and going till bth position from end\n",
    "* [-a:-b], means starting at (a+1)th character from the end and going up till bth position from end\n",
    "\n",
    "Lets see these in action"
   ]
  },
  {
   "cell_type": "code",
   "execution_count": 44,
   "metadata": {
    "ExecuteTime": {
     "end_time": "2019-02-16T09:07:35.494333Z",
     "start_time": "2019-02-16T09:07:35.471316Z"
    }
   },
   "outputs": [
    {
     "name": "stdout",
     "output_type": "stream",
     "text": [
      "abcde\n"
     ]
    }
   ],
   "source": [
    "z='abcde'\n",
    "print(z)"
   ]
  },
  {
   "cell_type": "code",
   "execution_count": 45,
   "metadata": {
    "ExecuteTime": {
     "end_time": "2019-02-16T09:09:03.024028Z",
     "start_time": "2019-02-16T09:09:03.015025Z"
    }
   },
   "outputs": [
    {
     "name": "stdout",
     "output_type": "stream",
     "text": [
      "abcde\n",
      "cde\n",
      "ab\n",
      "cd\n"
     ]
    }
   ],
   "source": [
    "print(z)\n",
    "print(z[2:])\n",
    "print(z[:2])\n",
    "print(z[2:4])"
   ]
  },
  {
   "cell_type": "code",
   "execution_count": 46,
   "metadata": {},
   "outputs": [
    {
     "ename": "NameError",
     "evalue": "name 'de' is not defined",
     "output_type": "error",
     "traceback": [
      "\u001b[1;31m---------------------------------------------------------------------------\u001b[0m",
      "\u001b[1;31mNameError\u001b[0m                                 Traceback (most recent call last)",
      "\u001b[1;32m<ipython-input-46-29e11c011ae3>\u001b[0m in \u001b[0;36m<module>\u001b[1;34m\u001b[0m\n\u001b[1;32m----> 1\u001b[1;33m \u001b[0mde\u001b[0m\u001b[1;33m\u001b[0m\u001b[1;33m\u001b[0m\u001b[0m\n\u001b[0m\u001b[0;32m      2\u001b[0m \u001b[0mabc\u001b[0m\u001b[1;33m,\u001b[0m \u001b[0mab\u001b[0m\u001b[1;33m\u001b[0m\u001b[1;33m\u001b[0m\u001b[0m\n\u001b[0;32m      3\u001b[0m \u001b[0mbc\u001b[0m\u001b[1;33m,\u001b[0m \u001b[0mcd\u001b[0m\u001b[1;33m\u001b[0m\u001b[1;33m\u001b[0m\u001b[0m\n",
      "\u001b[1;31mNameError\u001b[0m: name 'de' is not defined"
     ]
    }
   ],
   "source": [
    "abcde\n",
    "cde\n"
   ]
  },
  {
   "cell_type": "code",
   "execution_count": 48,
   "metadata": {
    "ExecuteTime": {
     "end_time": "2019-02-16T09:12:34.604790Z",
     "start_time": "2019-02-16T09:12:34.595784Z"
    }
   },
   "outputs": [
    {
     "name": "stdout",
     "output_type": "stream",
     "text": [
      "abcde\n",
      "de\n",
      "abc\n",
      "bcd\n"
     ]
    }
   ],
   "source": [
    "print(z)\n",
    "print(z[-2:])\n",
    "print(z[:-2])\n",
    "print(z[-4:-1])"
   ]
  },
  {
   "cell_type": "code",
   "execution_count": 49,
   "metadata": {
    "ExecuteTime": {
     "end_time": "2019-02-16T09:21:53.851825Z",
     "start_time": "2019-02-16T09:21:53.846822Z"
    }
   },
   "outputs": [],
   "source": [
    "x='somethingtosay'"
   ]
  },
  {
   "cell_type": "code",
   "execution_count": 50,
   "metadata": {
    "ExecuteTime": {
     "end_time": "2019-02-16T09:22:25.323009Z",
     "start_time": "2019-02-16T09:22:25.314004Z"
    }
   },
   "outputs": [
    {
     "name": "stdout",
     "output_type": "stream",
     "text": [
      "abcde\n"
     ]
    },
    {
     "data": {
      "text/plain": [
       "'cde'"
      ]
     },
     "execution_count": 50,
     "metadata": {},
     "output_type": "execute_result"
    }
   ],
   "source": [
    "print(z)\n",
    "z[2:10]"
   ]
  },
  {
   "cell_type": "code",
   "execution_count": 51,
   "metadata": {
    "ExecuteTime": {
     "end_time": "2019-02-11T22:01:51.172876Z",
     "start_time": "2019-02-11T22:01:51.160875Z"
    }
   },
   "outputs": [
    {
     "name": "stdout",
     "output_type": "stream",
     "text": [
      "abcde\n"
     ]
    },
    {
     "data": {
      "text/plain": [
       "'de'"
      ]
     },
     "execution_count": 51,
     "metadata": {},
     "output_type": "execute_result"
    }
   ],
   "source": [
    "print(z)\n",
    "z[3:]"
   ]
  },
  {
   "cell_type": "code",
   "execution_count": 52,
   "metadata": {
    "ExecuteTime": {
     "end_time": "2019-02-11T22:01:51.436883Z",
     "start_time": "2019-02-11T22:01:51.424886Z"
    }
   },
   "outputs": [
    {
     "name": "stdout",
     "output_type": "stream",
     "text": [
      "abcde\n"
     ]
    },
    {
     "data": {
      "text/plain": [
       "'abc'"
      ]
     },
     "execution_count": 52,
     "metadata": {},
     "output_type": "execute_result"
    }
   ],
   "source": [
    "print(z)\n",
    "z[:3]"
   ]
  },
  {
   "cell_type": "code",
   "execution_count": 53,
   "metadata": {
    "ExecuteTime": {
     "end_time": "2019-02-11T22:02:08.537835Z",
     "start_time": "2019-02-11T22:02:08.525835Z"
    }
   },
   "outputs": [
    {
     "name": "stdout",
     "output_type": "stream",
     "text": [
      "abcde\n"
     ]
    },
    {
     "data": {
      "text/plain": [
       "'ab'"
      ]
     },
     "execution_count": 53,
     "metadata": {},
     "output_type": "execute_result"
    }
   ],
   "source": [
    "print(z)\n",
    "z[:-3]"
   ]
  },
  {
   "cell_type": "code",
   "execution_count": 54,
   "metadata": {
    "ExecuteTime": {
     "end_time": "2019-02-11T22:02:08.809844Z",
     "start_time": "2019-02-11T22:02:08.797843Z"
    }
   },
   "outputs": [
    {
     "name": "stdout",
     "output_type": "stream",
     "text": [
      "abcde\n"
     ]
    },
    {
     "data": {
      "text/plain": [
       "'cde'"
      ]
     },
     "execution_count": 54,
     "metadata": {},
     "output_type": "execute_result"
    }
   ],
   "source": [
    "print(z)\n",
    "z[-3:]"
   ]
  },
  {
   "cell_type": "markdown",
   "metadata": {},
   "source": [
    "* [:-a], means starting at the beginning and going up til ath position from end. counting from end also starts with 0.\n",
    "* [-a:], means starting at (a-1)th character from the end and going up till last character."
   ]
  },
  {
   "cell_type": "code",
   "execution_count": 55,
   "metadata": {
    "ExecuteTime": {
     "end_time": "2019-02-11T22:03:20.735695Z",
     "start_time": "2019-02-11T22:03:20.727694Z"
    }
   },
   "outputs": [
    {
     "name": "stdout",
     "output_type": "stream",
     "text": [
      "abcde\n"
     ]
    },
    {
     "data": {
      "text/plain": [
       "''"
      ]
     },
     "execution_count": 55,
     "metadata": {},
     "output_type": "execute_result"
    }
   ],
   "source": [
    "print(z)\n",
    "z[3:-3]"
   ]
  },
  {
   "cell_type": "code",
   "execution_count": 56,
   "metadata": {
    "ExecuteTime": {
     "end_time": "2019-02-11T22:03:33.260096Z",
     "start_time": "2019-02-11T22:03:33.248095Z"
    }
   },
   "outputs": [
    {
     "name": "stdout",
     "output_type": "stream",
     "text": [
      "abcde\n"
     ]
    },
    {
     "data": {
      "text/plain": [
       "'abc'"
      ]
     },
     "execution_count": 56,
     "metadata": {},
     "output_type": "execute_result"
    }
   ],
   "source": [
    "print(z)\n",
    "z[-6:-2]"
   ]
  },
  {
   "cell_type": "markdown",
   "metadata": {},
   "source": [
    "Other useful functions that we will explore for string operations : count , find & split.\n",
    "\n",
    "\n",
    "functions that i want you to explore on your own further are family of function for checking whether a particular piece of string belongs to a certain type or not. Here are those functions :\n",
    "\n",
    "```\n",
    "Ex: Find out what following functions do : isalnum,isalpha,isdigit,islower,isupper. Discuss this on Q&A forum , if you face any issue in figuring out what these functions do.\n",
    "```"
   ]
  },
  {
   "cell_type": "code",
   "execution_count": null,
   "metadata": {
    "ExecuteTime": {
     "end_time": "2019-02-16T09:23:44.630504Z",
     "start_time": "2019-02-16T09:23:44.623501Z"
    }
   },
   "outputs": [],
   "source": [
    "z"
   ]
  },
  {
   "cell_type": "code",
   "execution_count": 57,
   "metadata": {
    "ExecuteTime": {
     "end_time": "2019-02-16T09:24:02.861222Z",
     "start_time": "2019-02-16T09:24:02.853215Z"
    }
   },
   "outputs": [
    {
     "name": "stdout",
     "output_type": "stream",
     "text": [
      "abcde\n"
     ]
    },
    {
     "data": {
      "text/plain": [
       "0"
      ]
     },
     "execution_count": 57,
     "metadata": {},
     "output_type": "execute_result"
    }
   ],
   "source": [
    "print(z)\n",
    "z.count(\"B\")"
   ]
  },
  {
   "cell_type": "markdown",
   "metadata": {},
   "source": [
    "Did you notice that the count function is case sensitive. \"b\" is not considered. \n",
    "\n",
    "```\n",
    "Ex : Is there an option within function count using which we can make the count case insensitive.\n",
    "\n",
    "```"
   ]
  },
  {
   "cell_type": "code",
   "execution_count": 59,
   "metadata": {
    "ExecuteTime": {
     "end_time": "2019-02-16T09:24:33.346178Z",
     "start_time": "2019-02-16T09:24:33.336173Z"
    }
   },
   "outputs": [
    {
     "name": "stdout",
     "output_type": "stream",
     "text": [
      "abcde\n"
     ]
    },
    {
     "data": {
      "text/plain": [
       "1"
      ]
     },
     "execution_count": 59,
     "metadata": {},
     "output_type": "execute_result"
    }
   ],
   "source": [
    "print(z)\n",
    "z.count(\"a\")"
   ]
  },
  {
   "cell_type": "markdown",
   "metadata": {},
   "source": [
    "```\n",
    "Ex : find out how can we change search range for function find\n",
    "\n",
    "```"
   ]
  },
  {
   "cell_type": "markdown",
   "metadata": {},
   "source": [
    "### Writing Conditions\n",
    "\n",
    "\n",
    "\n",
    "* checking equality : \"==\"\n",
    "* in-equality : \"!=\"\n",
    "* greater than : \">\"\n",
    "* less than : \"<\"\n",
    "* greater than or equal to : \">=\"\n",
    "* less than or equal to : \"<=\""
   ]
  },
  {
   "cell_type": "code",
   "execution_count": 60,
   "metadata": {
    "ExecuteTime": {
     "end_time": "2019-02-16T09:29:19.861416Z",
     "start_time": "2019-02-16T09:29:19.854413Z"
    }
   },
   "outputs": [
    {
     "data": {
      "text/plain": [
       "False"
      ]
     },
     "execution_count": 60,
     "metadata": {},
     "output_type": "execute_result"
    }
   ],
   "source": [
    "x=34\n",
    "y=32\n",
    "\n",
    "x==y"
   ]
  },
  {
   "cell_type": "code",
   "execution_count": 61,
   "metadata": {
    "ExecuteTime": {
     "end_time": "2019-02-16T09:29:34.507841Z",
     "start_time": "2019-02-16T09:29:34.501837Z"
    }
   },
   "outputs": [
    {
     "data": {
      "text/plain": [
       "True"
      ]
     },
     "execution_count": 61,
     "metadata": {},
     "output_type": "execute_result"
    }
   ],
   "source": [
    "x!=y"
   ]
  },
  {
   "cell_type": "code",
   "execution_count": 62,
   "metadata": {
    "ExecuteTime": {
     "end_time": "2019-02-16T09:29:38.315284Z",
     "start_time": "2019-02-16T09:29:38.308279Z"
    }
   },
   "outputs": [
    {
     "data": {
      "text/plain": [
       "True"
      ]
     },
     "execution_count": 62,
     "metadata": {},
     "output_type": "execute_result"
    }
   ],
   "source": [
    "x>y"
   ]
  },
  {
   "cell_type": "code",
   "execution_count": 63,
   "metadata": {
    "ExecuteTime": {
     "end_time": "2019-02-16T09:29:42.246205Z",
     "start_time": "2019-02-16T09:29:42.239202Z"
    }
   },
   "outputs": [
    {
     "data": {
      "text/plain": [
       "False"
      ]
     },
     "execution_count": 63,
     "metadata": {},
     "output_type": "execute_result"
    }
   ],
   "source": [
    "x<y"
   ]
  },
  {
   "cell_type": "code",
   "execution_count": 64,
   "metadata": {
    "ExecuteTime": {
     "end_time": "2019-02-16T09:29:46.131918Z",
     "start_time": "2019-02-16T09:29:46.121912Z"
    }
   },
   "outputs": [
    {
     "data": {
      "text/plain": [
       "True"
      ]
     },
     "execution_count": 64,
     "metadata": {},
     "output_type": "execute_result"
    }
   ],
   "source": [
    "x>=y"
   ]
  },
  {
   "cell_type": "code",
   "execution_count": 65,
   "metadata": {
    "ExecuteTime": {
     "end_time": "2019-02-16T09:29:48.301325Z",
     "start_time": "2019-02-16T09:29:48.294322Z"
    }
   },
   "outputs": [
    {
     "data": {
      "text/plain": [
       "False"
      ]
     },
     "execution_count": 65,
     "metadata": {},
     "output_type": "execute_result"
    }
   ],
   "source": [
    "x<=y"
   ]
  },
  {
   "cell_type": "code",
   "execution_count": 66,
   "metadata": {
    "ExecuteTime": {
     "end_time": "2019-02-16T09:33:24.111861Z",
     "start_time": "2019-02-16T09:33:24.100853Z"
    }
   },
   "outputs": [
    {
     "data": {
      "text/plain": [
       "True"
      ]
     },
     "execution_count": 66,
     "metadata": {},
     "output_type": "execute_result"
    }
   ],
   "source": [
    "x=\"as\"\n",
    "y=\"assignment\"\n",
    "\n",
    "x in y"
   ]
  },
  {
   "cell_type": "code",
   "execution_count": 67,
   "metadata": {
    "ExecuteTime": {
     "end_time": "2019-02-16T09:31:11.451123Z",
     "start_time": "2019-02-16T09:31:11.440118Z"
    }
   },
   "outputs": [
    {
     "data": {
      "text/plain": [
       "False"
      ]
     },
     "execution_count": 67,
     "metadata": {},
     "output_type": "execute_result"
    }
   ],
   "source": [
    "x not in y"
   ]
  },
  {
   "cell_type": "code",
   "execution_count": null,
   "metadata": {
    "ExecuteTime": {
     "end_time": "2019-02-16T08:43:43.140263Z",
     "start_time": "2019-02-16T08:43:43.135258Z"
    }
   },
   "outputs": [],
   "source": [
    "# x > y"
   ]
  },
  {
   "cell_type": "code",
   "execution_count": null,
   "metadata": {
    "ExecuteTime": {
     "end_time": "2019-02-16T08:43:44.155961Z",
     "start_time": "2019-02-16T08:43:44.151958Z"
    }
   },
   "outputs": [],
   "source": [
    "# x=\"B\"\n",
    "# y=\"Aaajsa\"\n",
    "# x>y"
   ]
  },
  {
   "cell_type": "markdown",
   "metadata": {},
   "source": [
    "### Lists\n"
   ]
  },
  {
   "cell_type": "code",
   "execution_count": 68,
   "metadata": {
    "ExecuteTime": {
     "end_time": "2019-02-17T09:09:22.680310Z",
     "start_time": "2019-02-17T09:09:22.628276Z"
    }
   },
   "outputs": [
    {
     "data": {
      "text/plain": [
       "[1, 2, 3, 70, -10, 0, 99, 'a', 'b', 'c']"
      ]
     },
     "execution_count": 68,
     "metadata": {},
     "output_type": "execute_result"
    }
   ],
   "source": [
    "x = [1,2,3,70,-10,0,99,\"a\",\"b\",\"c\"]\n",
    "x"
   ]
  },
  {
   "cell_type": "markdown",
   "metadata": {},
   "source": [
    "selection and slicing works pretty much like strings we saw earlier here also counting starts from 0. Lets look at few examples for the same.\n"
   ]
  },
  {
   "cell_type": "code",
   "execution_count": 69,
   "metadata": {
    "ExecuteTime": {
     "end_time": "2019-02-17T09:09:28.902668Z",
     "start_time": "2019-02-17T09:09:28.895664Z"
    }
   },
   "outputs": [
    {
     "data": {
      "text/plain": [
       "list"
      ]
     },
     "execution_count": 69,
     "metadata": {},
     "output_type": "execute_result"
    }
   ],
   "source": [
    "type(x)"
   ]
  },
  {
   "cell_type": "code",
   "execution_count": 70,
   "metadata": {
    "ExecuteTime": {
     "end_time": "2019-02-16T08:48:09.130007Z",
     "start_time": "2019-02-16T08:48:09.019934Z"
    }
   },
   "outputs": [
    {
     "data": {
      "text/plain": [
       "[1, 2, 3, 70, -10, 0, 99, 'a', 'b', 'c']"
      ]
     },
     "execution_count": 70,
     "metadata": {},
     "output_type": "execute_result"
    }
   ],
   "source": [
    "x"
   ]
  },
  {
   "cell_type": "code",
   "execution_count": 71,
   "metadata": {
    "ExecuteTime": {
     "end_time": "2019-02-17T09:10:48.320054Z",
     "start_time": "2019-02-17T09:10:48.295037Z"
    }
   },
   "outputs": [
    {
     "name": "stdout",
     "output_type": "stream",
     "text": [
      "[1, 2, 3, 70, -10, 0, 99, 'a', 'b', 'c']\n"
     ]
    },
    {
     "data": {
      "text/plain": [
       "[70, -10, 0, 99]"
      ]
     },
     "execution_count": 71,
     "metadata": {},
     "output_type": "execute_result"
    }
   ],
   "source": [
    "print(x)\n",
    "x[3:7]"
   ]
  },
  {
   "cell_type": "code",
   "execution_count": 72,
   "metadata": {
    "ExecuteTime": {
     "end_time": "2019-02-17T09:11:52.450246Z",
     "start_time": "2019-02-17T09:11:52.439241Z"
    }
   },
   "outputs": [
    {
     "name": "stdout",
     "output_type": "stream",
     "text": [
      "[1, 2, 3, 70, -10, 0, 99, 'a', 'b', 'c']\n"
     ]
    },
    {
     "data": {
      "text/plain": [
       "[70, -10, 0, 99, 'a', 'b', 'c']"
      ]
     },
     "execution_count": 72,
     "metadata": {},
     "output_type": "execute_result"
    }
   ],
   "source": [
    "print(x)\n",
    "x[3:]"
   ]
  },
  {
   "cell_type": "code",
   "execution_count": 73,
   "metadata": {
    "ExecuteTime": {
     "end_time": "2019-02-17T09:12:34.876551Z",
     "start_time": "2019-02-17T09:12:34.866547Z"
    }
   },
   "outputs": [
    {
     "name": "stdout",
     "output_type": "stream",
     "text": [
      "[1, 2, 3, 70, -10, 0, 99, 'a', 'b', 'c']\n"
     ]
    },
    {
     "data": {
      "text/plain": [
       "[1, 2, 3]"
      ]
     },
     "execution_count": 73,
     "metadata": {},
     "output_type": "execute_result"
    }
   ],
   "source": [
    "print(x)\n",
    "x[:3]"
   ]
  },
  {
   "cell_type": "code",
   "execution_count": 74,
   "metadata": {
    "ExecuteTime": {
     "end_time": "2019-02-17T09:14:49.821923Z",
     "start_time": "2019-02-17T09:14:49.810916Z"
    }
   },
   "outputs": [
    {
     "name": "stdout",
     "output_type": "stream",
     "text": [
      "[1, 2, 3, 70, -10, 0, 99, 'a', 'b', 'c']\n"
     ]
    },
    {
     "data": {
      "text/plain": [
       "[70, -10, 0, 99]"
      ]
     },
     "execution_count": 74,
     "metadata": {},
     "output_type": "execute_result"
    }
   ],
   "source": [
    "print(x)\n",
    "x[3:-3]"
   ]
  },
  {
   "cell_type": "code",
   "execution_count": 75,
   "metadata": {
    "ExecuteTime": {
     "end_time": "2019-02-17T09:15:48.607767Z",
     "start_time": "2019-02-17T09:15:48.598763Z"
    }
   },
   "outputs": [
    {
     "name": "stdout",
     "output_type": "stream",
     "text": [
      "[1, 2, 3, 70, -10, 0, 99, 'a', 'b', 'c']\n"
     ]
    },
    {
     "data": {
      "text/plain": [
       "[2, 70, 0]"
      ]
     },
     "execution_count": 75,
     "metadata": {},
     "output_type": "execute_result"
    }
   ],
   "source": [
    "print(x)\n",
    "x[1:-3:2] # third argument here is step"
   ]
  },
  {
   "cell_type": "code",
   "execution_count": 76,
   "metadata": {
    "ExecuteTime": {
     "end_time": "2019-02-17T09:17:50.351701Z",
     "start_time": "2019-02-17T09:17:50.341696Z"
    }
   },
   "outputs": [
    {
     "name": "stdout",
     "output_type": "stream",
     "text": [
      "[1, 2, 3, 70, -10, 0, 99, 'a', 'b', 'c']\n"
     ]
    },
    {
     "data": {
      "text/plain": [
       "[2, 70, 0, 'a', 'c']"
      ]
     },
     "execution_count": 76,
     "metadata": {},
     "output_type": "execute_result"
    }
   ],
   "source": [
    "print(x)\n",
    "x[1::2]"
   ]
  },
  {
   "cell_type": "code",
   "execution_count": 77,
   "metadata": {
    "ExecuteTime": {
     "end_time": "2019-02-17T09:20:15.599704Z",
     "start_time": "2019-02-17T09:20:15.591699Z"
    }
   },
   "outputs": [
    {
     "data": {
      "text/plain": [
       "[70, 0]"
      ]
     },
     "execution_count": 77,
     "metadata": {},
     "output_type": "execute_result"
    }
   ],
   "source": [
    "x[3:7:2]"
   ]
  },
  {
   "cell_type": "markdown",
   "metadata": {},
   "source": [
    "while accessing the elements with position , we can do replacement/substitution of the values too. Here is how:"
   ]
  },
  {
   "cell_type": "code",
   "execution_count": null,
   "metadata": {
    "ExecuteTime": {
     "end_time": "2019-02-17T09:20:57.734475Z",
     "start_time": "2019-02-17T09:20:57.723468Z"
    }
   },
   "outputs": [],
   "source": [
    "print(x)\n",
    "\n",
    "x[2]"
   ]
  },
  {
   "cell_type": "code",
   "execution_count": 78,
   "metadata": {
    "ExecuteTime": {
     "end_time": "2019-02-17T09:21:42.706919Z",
     "start_time": "2019-02-17T09:21:42.698914Z"
    }
   },
   "outputs": [
    {
     "data": {
      "text/plain": [
       "[1, 2, '!!!', 70, -10, 0, 99, 'a', 'b', 'c']"
      ]
     },
     "execution_count": 78,
     "metadata": {},
     "output_type": "execute_result"
    }
   ],
   "source": [
    "x[2]=\"!!!\"\n",
    "x"
   ]
  },
  {
   "cell_type": "markdown",
   "metadata": {},
   "source": [
    "In case multiple assignment, value is then treated as a list with each char as individual element"
   ]
  },
  {
   "cell_type": "code",
   "execution_count": 79,
   "metadata": {
    "ExecuteTime": {
     "end_time": "2019-02-17T09:25:20.389492Z",
     "start_time": "2019-02-17T09:25:20.378484Z"
    }
   },
   "outputs": [
    {
     "name": "stdout",
     "output_type": "stream",
     "text": [
      "[1, 2, '!!!', 70, -10, 0, 99, 'a', 'b', 'c']\n",
      "[1, 2, 'bipin', -10, 0, 99, 'a', 'b', 'c']\n"
     ]
    }
   ],
   "source": [
    "print(x)\n",
    "x[2:4]=[\"bipin\"]\n",
    "print(x)"
   ]
  },
  {
   "cell_type": "markdown",
   "metadata": {},
   "source": [
    "For a string to be treated as a single word instead of a char list you need to wrap it in a list as shown below"
   ]
  },
  {
   "cell_type": "code",
   "execution_count": null,
   "metadata": {
    "ExecuteTime": {
     "end_time": "2019-02-17T09:29:40.331281Z",
     "start_time": "2019-02-17T09:29:40.321276Z"
    }
   },
   "outputs": [],
   "source": [
    "x=[23,45,67,2,5]\n",
    "\n",
    "x[2:4]"
   ]
  },
  {
   "cell_type": "code",
   "execution_count": null,
   "metadata": {
    "ExecuteTime": {
     "end_time": "2019-02-16T08:48:11.161019Z",
     "start_time": "2019-02-16T08:48:11.154015Z"
    }
   },
   "outputs": [],
   "source": [
    "print(x)\n",
    "x[2:4]=[\"bipin\"]\n",
    "print(x)"
   ]
  },
  {
   "cell_type": "code",
   "execution_count": 80,
   "metadata": {
    "ExecuteTime": {
     "end_time": "2019-02-17T09:30:06.926192Z",
     "start_time": "2019-02-17T09:30:06.917186Z"
    }
   },
   "outputs": [
    {
     "name": "stdout",
     "output_type": "stream",
     "text": [
      "[1, 2, 'bipin', -10, 0, 99, 'a', 'b', 'c']\n",
      "[1, 2, 'bipin', -10, 0, 99, 'a', 'b', 'c', 'new']\n"
     ]
    }
   ],
   "source": [
    "print(x)\n",
    "x.append(\"new\")\n",
    "print(x)"
   ]
  },
  {
   "cell_type": "code",
   "execution_count": 81,
   "metadata": {
    "ExecuteTime": {
     "end_time": "2019-02-17T09:30:34.341238Z",
     "start_time": "2019-02-17T09:30:34.334231Z"
    }
   },
   "outputs": [
    {
     "name": "stdout",
     "output_type": "stream",
     "text": [
      "[1, 2, 'bipin', -10, 0, 99, 'a', 'b', 'c', 'new']\n",
      "[1, 2, 'bipin', -10, 0, 99, 'a', 'b', 'c', 'new', [1, 2, 3]]\n"
     ]
    }
   ],
   "source": [
    "print(x)\n",
    "x.append([1,2,3])\n",
    "print(x)"
   ]
  },
  {
   "cell_type": "code",
   "execution_count": 82,
   "metadata": {
    "ExecuteTime": {
     "end_time": "2019-02-17T09:34:07.030030Z",
     "start_time": "2019-02-17T09:34:07.023028Z"
    }
   },
   "outputs": [
    {
     "data": {
      "text/plain": [
       "'a'"
      ]
     },
     "execution_count": 82,
     "metadata": {},
     "output_type": "execute_result"
    }
   ],
   "source": [
    "x[6]"
   ]
  },
  {
   "cell_type": "code",
   "execution_count": 83,
   "metadata": {
    "ExecuteTime": {
     "end_time": "2019-02-17T09:34:40.690703Z",
     "start_time": "2019-02-17T09:34:40.683697Z"
    }
   },
   "outputs": [
    {
     "name": "stdout",
     "output_type": "stream",
     "text": [
      "[1, 2, 'bipin', -10, 0, 99, 'a', 'b', 'c', 'new', [1, 2, 3]]\n",
      "[1, 2, 'bipin', -10, 0, 99, 'a', 'b', 'c', 'new', [1, 2, 3], 1, 2, 3]\n"
     ]
    }
   ],
   "source": [
    "print(x)\n",
    "x.extend([1,2,3])\n",
    "print(x)"
   ]
  },
  {
   "cell_type": "code",
   "execution_count": 84,
   "metadata": {
    "ExecuteTime": {
     "end_time": "2019-02-17T09:36:17.992837Z",
     "start_time": "2019-02-17T09:36:17.984833Z"
    }
   },
   "outputs": [
    {
     "data": {
      "text/plain": [
       "list"
      ]
     },
     "execution_count": 84,
     "metadata": {},
     "output_type": "execute_result"
    }
   ],
   "source": [
    "type(x)"
   ]
  },
  {
   "cell_type": "code",
   "execution_count": 85,
   "metadata": {
    "ExecuteTime": {
     "end_time": "2019-02-17T09:36:29.155723Z",
     "start_time": "2019-02-17T09:36:29.145720Z"
    }
   },
   "outputs": [
    {
     "name": "stdout",
     "output_type": "stream",
     "text": [
      "[1, 2, 'bipin', -10, 0, 99, 'a', 'b', 'c', 'new', [1, 2, 3], 1, 2, 3]\n",
      "[1, 2, 'another', 'bipin', -10, 0, 99, 'a', 'b', 'c', 'new', [1, 2, 3], 1, 2, 3]\n"
     ]
    }
   ],
   "source": [
    "print(x)\n",
    "x.insert(2,\"another\")\n",
    "print(x)"
   ]
  },
  {
   "cell_type": "code",
   "execution_count": 86,
   "metadata": {
    "ExecuteTime": {
     "end_time": "2019-02-17T09:38:33.967024Z",
     "start_time": "2019-02-17T09:38:33.960019Z"
    }
   },
   "outputs": [
    {
     "name": "stdout",
     "output_type": "stream",
     "text": [
      "[1, 2, 'another', 'bipin', -10, 0, 99, 'a', 'b', 'c', 'new', [1, 2, 3], 1, 2, 3]\n",
      "[1, 2, 'another', 'bipin', -10, 0, 99, 'a', 'b', 'c', 'new', [1, 2, 3], 1, 2, 3, 3, 4, 5]\n"
     ]
    }
   ],
   "source": [
    "print(x)\n",
    "x=x+[3,4,5]\n",
    "print(x)"
   ]
  },
  {
   "cell_type": "code",
   "execution_count": 87,
   "metadata": {
    "ExecuteTime": {
     "end_time": "2019-02-17T09:39:25.087029Z",
     "start_time": "2019-02-17T09:39:25.079022Z"
    }
   },
   "outputs": [
    {
     "name": "stdout",
     "output_type": "stream",
     "text": [
      "[1, 2, 'another', 'bipin', -10, 0, 99, 'a', 'b', 'c', 'new', [1, 2, 3], 1, 2, 3, 3, 4, 5]\n",
      "[1, 2, 'another', 'bipin', -10, 0, 99, 'a', 'b', 'c', 'new', [1, 2, 3], 1, 2, 3, 3, 4]\n"
     ]
    }
   ],
   "source": [
    "print(x)\n",
    "x.pop()\n",
    "\n",
    "print(x)"
   ]
  },
  {
   "cell_type": "code",
   "execution_count": 99,
   "metadata": {
    "ExecuteTime": {
     "end_time": "2019-02-17T09:42:18.423827Z",
     "start_time": "2019-02-17T09:42:18.416821Z"
    }
   },
   "outputs": [
    {
     "name": "stdout",
     "output_type": "stream",
     "text": [
      "[1, -10, 0, 'a', 'b', 'c', 'new', [1, 2, 3], 1, 3, 3, 4]\n",
      "[1, -10, 0, 'b', 'c', 'new', [1, 2, 3], 1, 3, 3, 4]\n"
     ]
    }
   ],
   "source": [
    "print(x)\n",
    "x.pop(3)\n",
    "print(x)"
   ]
  },
  {
   "cell_type": "code",
   "execution_count": 89,
   "metadata": {
    "ExecuteTime": {
     "end_time": "2019-02-16T08:48:33.798717Z",
     "start_time": "2019-02-16T08:48:33.791710Z"
    }
   },
   "outputs": [
    {
     "data": {
      "text/plain": [
       "[1, 2, 'another', -10, 0, 99, 'a', 'b', 'c', 'new', [1, 2, 3], 1, 2, 3, 3, 4]"
      ]
     },
     "execution_count": 89,
     "metadata": {},
     "output_type": "execute_result"
    }
   ],
   "source": [
    "x"
   ]
  },
  {
   "cell_type": "code",
   "execution_count": 90,
   "metadata": {
    "ExecuteTime": {
     "end_time": "2019-02-17T09:43:01.801466Z",
     "start_time": "2019-02-17T09:43:01.792458Z"
    }
   },
   "outputs": [
    {
     "name": "stdout",
     "output_type": "stream",
     "text": [
      "[1, 2, 'another', -10, 0, 99, 'a', 'b', 'c', 'new', [1, 2, 3], 1, 2, 3, 3, 4]\n",
      "[1, 2, -10, 0, 99, 'a', 'b', 'c', 'new', [1, 2, 3], 1, 2, 3, 3, 4]\n"
     ]
    }
   ],
   "source": [
    "print(x)\n",
    "x.remove(\"another\")\n",
    "print(x)"
   ]
  },
  {
   "cell_type": "code",
   "execution_count": 94,
   "metadata": {},
   "outputs": [
    {
     "name": "stdout",
     "output_type": "stream",
     "text": [
      "[1, -10, 0, 99, 'a', 'b', 'c', 'new', [1, 2, 3], 1, 3, 3, 4]\n"
     ]
    },
    {
     "ename": "ValueError",
     "evalue": "list.remove(x): x not in list",
     "output_type": "error",
     "traceback": [
      "\u001b[1;31m---------------------------------------------------------------------------\u001b[0m",
      "\u001b[1;31mValueError\u001b[0m                                Traceback (most recent call last)",
      "\u001b[1;32m<ipython-input-94-f51d193e8836>\u001b[0m in \u001b[0;36m<module>\u001b[1;34m\u001b[0m\n\u001b[0;32m      1\u001b[0m \u001b[0mprint\u001b[0m\u001b[1;33m(\u001b[0m\u001b[0mx\u001b[0m\u001b[1;33m)\u001b[0m\u001b[1;33m\u001b[0m\u001b[1;33m\u001b[0m\u001b[0m\n\u001b[1;32m----> 2\u001b[1;33m \u001b[0mx\u001b[0m\u001b[1;33m.\u001b[0m\u001b[0mremove\u001b[0m\u001b[1;33m(\u001b[0m\u001b[1;36m2\u001b[0m\u001b[1;33m)\u001b[0m\u001b[1;33m\u001b[0m\u001b[1;33m\u001b[0m\u001b[0m\n\u001b[0m\u001b[0;32m      3\u001b[0m \u001b[0mprint\u001b[0m\u001b[1;33m(\u001b[0m\u001b[0mx\u001b[0m\u001b[1;33m)\u001b[0m\u001b[1;33m\u001b[0m\u001b[1;33m\u001b[0m\u001b[0m\n\u001b[0;32m      4\u001b[0m \u001b[0mget_ipython\u001b[0m\u001b[1;33m(\u001b[0m\u001b[1;33m)\u001b[0m\u001b[1;33m.\u001b[0m\u001b[0mrun_line_magic\u001b[0m\u001b[1;33m(\u001b[0m\u001b[1;34m'pinfo'\u001b[0m\u001b[1;33m,\u001b[0m \u001b[1;34m'remove'\u001b[0m\u001b[1;33m)\u001b[0m\u001b[1;33m\u001b[0m\u001b[1;33m\u001b[0m\u001b[0m\n",
      "\u001b[1;31mValueError\u001b[0m: list.remove(x): x not in list"
     ]
    }
   ],
   "source": [
    "print(x)\n",
    "x.remove(2)\n",
    "print(x)\n",
    "remove?\n"
   ]
  },
  {
   "cell_type": "code",
   "execution_count": null,
   "metadata": {
    "ExecuteTime": {
     "end_time": "2019-02-11T22:25:20.771623Z",
     "start_time": "2019-02-11T22:25:19.572541Z"
    }
   },
   "outputs": [],
   "source": [
    "x.remove(\"another\")"
   ]
  },
  {
   "cell_type": "code",
   "execution_count": 61,
   "metadata": {
    "ExecuteTime": {
     "end_time": "2019-02-17T09:43:44.788330Z",
     "start_time": "2019-02-17T09:43:44.780325Z"
    }
   },
   "outputs": [
    {
     "name": "stdout",
     "output_type": "stream",
     "text": [
      "5\n"
     ]
    },
    {
     "ename": "AttributeError",
     "evalue": "'int' object has no attribute 'remove'",
     "output_type": "error",
     "traceback": [
      "\u001b[1;31m---------------------------------------------------------------------------\u001b[0m",
      "\u001b[1;31mAttributeError\u001b[0m                            Traceback (most recent call last)",
      "\u001b[1;32m<ipython-input-61-274906f1224c>\u001b[0m in \u001b[0;36m<module>\u001b[1;34m\u001b[0m\n\u001b[0;32m      1\u001b[0m \u001b[0mprint\u001b[0m\u001b[1;33m(\u001b[0m\u001b[0mx\u001b[0m\u001b[1;33m)\u001b[0m\u001b[1;33m\u001b[0m\u001b[1;33m\u001b[0m\u001b[0m\n\u001b[1;32m----> 2\u001b[1;33m \u001b[0mx\u001b[0m\u001b[1;33m.\u001b[0m\u001b[0mremove\u001b[0m\u001b[1;33m(\u001b[0m\u001b[1;36m3\u001b[0m\u001b[1;33m)\u001b[0m\u001b[1;33m\u001b[0m\u001b[1;33m\u001b[0m\u001b[0m\n\u001b[0m\u001b[0;32m      3\u001b[0m \u001b[0mprint\u001b[0m\u001b[1;33m(\u001b[0m\u001b[0mx\u001b[0m\u001b[1;33m)\u001b[0m\u001b[1;33m\u001b[0m\u001b[1;33m\u001b[0m\u001b[0m\n",
      "\u001b[1;31mAttributeError\u001b[0m: 'int' object has no attribute 'remove'"
     ]
    }
   ],
   "source": [
    "print(x)\n",
    "x.remove(3)\n",
    "print(x)"
   ]
  },
  {
   "cell_type": "code",
   "execution_count": 96,
   "metadata": {
    "ExecuteTime": {
     "end_time": "2019-02-17T09:45:10.623361Z",
     "start_time": "2019-02-17T09:45:10.616355Z"
    }
   },
   "outputs": [
    {
     "ename": "SyntaxError",
     "evalue": "invalid syntax (<ipython-input-96-e2f53fda0817>, line 2)",
     "output_type": "error",
     "traceback": [
      "\u001b[1;36m  File \u001b[1;32m\"<ipython-input-96-e2f53fda0817>\"\u001b[1;36m, line \u001b[1;32m2\u001b[0m\n\u001b[1;33m    x.pop(2:5)\u001b[0m\n\u001b[1;37m           ^\u001b[0m\n\u001b[1;31mSyntaxError\u001b[0m\u001b[1;31m:\u001b[0m invalid syntax\n"
     ]
    }
   ],
   "source": [
    "print(x)\n",
    "x.pop(2:5)\n",
    "print(x)"
   ]
  },
  {
   "cell_type": "markdown",
   "metadata": {},
   "source": [
    "```\n",
    "Ex: what if there are multiple occurences of the value which you are trying to remove. Is there a way to remove multiple values at once or a value at a specific position?\n",
    "```"
   ]
  },
  {
   "cell_type": "code",
   "execution_count": 100,
   "metadata": {
    "ExecuteTime": {
     "end_time": "2019-02-11T22:26:15.930688Z",
     "start_time": "2019-02-11T22:26:15.918686Z"
    }
   },
   "outputs": [
    {
     "name": "stdout",
     "output_type": "stream",
     "text": [
      "[25, 16, 9, 4, 1, 0, 1, 4, 9, 16]\n"
     ]
    }
   ],
   "source": [
    " x=[(a-5)**2 for a in range(10)]\n",
    "print(x)"
   ]
  },
  {
   "cell_type": "code",
   "execution_count": 63,
   "metadata": {
    "ExecuteTime": {
     "end_time": "2019-02-17T09:47:39.525473Z",
     "start_time": "2019-02-17T09:47:39.521471Z"
    }
   },
   "outputs": [],
   "source": [
    "x = [23, 45, 67, 2, 5]"
   ]
  },
  {
   "cell_type": "code",
   "execution_count": 101,
   "metadata": {
    "ExecuteTime": {
     "end_time": "2019-02-17T09:47:43.320900Z",
     "start_time": "2019-02-17T09:47:43.313896Z"
    }
   },
   "outputs": [
    {
     "name": "stdout",
     "output_type": "stream",
     "text": [
      "[25, 16, 9, 4, 1, 0, 1, 4, 9, 16]\n",
      "[0, 1, 1, 4, 4, 9, 9, 16, 16, 25]\n"
     ]
    }
   ],
   "source": [
    "print(x)\n",
    "x.sort() # sorts in place\n",
    "print(x)\n",
    "# how to sort in descending manner "
   ]
  },
  {
   "cell_type": "code",
   "execution_count": 102,
   "metadata": {
    "ExecuteTime": {
     "end_time": "2019-02-17T09:47:57.920440Z",
     "start_time": "2019-02-17T09:47:57.910432Z"
    }
   },
   "outputs": [
    {
     "name": "stdout",
     "output_type": "stream",
     "text": [
      "[25, 16, 16, 9, 9, 4, 4, 1, 1, 0]\n"
     ]
    }
   ],
   "source": [
    "x.reverse() # reverses in place\n",
    "print(x)"
   ]
  },
  {
   "cell_type": "code",
   "execution_count": 105,
   "metadata": {
    "ExecuteTime": {
     "end_time": "2019-02-17T09:49:55.607712Z",
     "start_time": "2019-02-17T09:49:55.602708Z"
    }
   },
   "outputs": [
    {
     "name": "stdout",
     "output_type": "stream",
     "text": [
      "Object `pop` not found.\n"
     ]
    }
   ],
   "source": [
    "?pop"
   ]
  },
  {
   "cell_type": "markdown",
   "metadata": {},
   "source": [
    "### For Loops\n",
    "\n"
   ]
  },
  {
   "cell_type": "code",
   "execution_count": 108,
   "metadata": {
    "ExecuteTime": {
     "end_time": "2019-02-17T09:52:40.041933Z",
     "start_time": "2019-02-17T09:52:40.032927Z"
    }
   },
   "outputs": [
    {
     "name": "stdout",
     "output_type": "stream",
     "text": [
      "<class 'list'>\n"
     ]
    }
   ],
   "source": [
    "cities = [\"delhi\",\"Banglore\",\"mumbai\",\"pune\"]\n",
    "t=type(cities)\n",
    "print(t)"
   ]
  },
  {
   "cell_type": "code",
   "execution_count": 68,
   "metadata": {
    "ExecuteTime": {
     "end_time": "2019-02-17T09:52:45.132717Z",
     "start_time": "2019-02-17T09:52:45.122711Z"
    }
   },
   "outputs": [
    {
     "data": {
      "text/plain": [
       "['delhi', 'Banglore', 'mumbai', 'pune']"
      ]
     },
     "execution_count": 68,
     "metadata": {},
     "output_type": "execute_result"
    }
   ],
   "source": [
    "cities"
   ]
  },
  {
   "cell_type": "code",
   "execution_count": 109,
   "metadata": {
    "ExecuteTime": {
     "end_time": "2019-02-17T09:54:12.874457Z",
     "start_time": "2019-02-17T09:54:12.865454Z"
    }
   },
   "outputs": [
    {
     "name": "stdout",
     "output_type": "stream",
     "text": [
      "5\n",
      "8\n",
      "6\n",
      "4\n"
     ]
    }
   ],
   "source": [
    "print(len(cities[0]))\n",
    "print(len(cities[1]))\n",
    "print(len(cities[2]))\n",
    "print(len(cities[3]))"
   ]
  },
  {
   "cell_type": "code",
   "execution_count": 110,
   "metadata": {
    "ExecuteTime": {
     "end_time": "2019-02-17T09:56:12.418616Z",
     "start_time": "2019-02-17T09:56:12.411614Z"
    }
   },
   "outputs": [
    {
     "name": "stdout",
     "output_type": "stream",
     "text": [
      "0\n",
      "1\n",
      "2\n",
      "3\n"
     ]
    }
   ],
   "source": [
    "for i in range(4):\n",
    "    print(i)"
   ]
  },
  {
   "cell_type": "code",
   "execution_count": 111,
   "metadata": {
    "ExecuteTime": {
     "end_time": "2019-02-17T09:58:04.831938Z",
     "start_time": "2019-02-17T09:58:04.820931Z"
    }
   },
   "outputs": [
    {
     "name": "stdout",
     "output_type": "stream",
     "text": [
      "5\n",
      "8\n",
      "6\n",
      "4\n"
     ]
    }
   ],
   "source": [
    "for i in range(4):\n",
    "    print(len(cities[i]))"
   ]
  },
  {
   "cell_type": "code",
   "execution_count": 112,
   "metadata": {
    "ExecuteTime": {
     "end_time": "2019-02-17T09:59:13.531184Z",
     "start_time": "2019-02-17T09:59:13.521179Z"
    }
   },
   "outputs": [
    {
     "name": "stdout",
     "output_type": "stream",
     "text": [
      "5\n",
      "8\n",
      "6\n",
      "4\n"
     ]
    }
   ],
   "source": [
    "for i in range(len(cities)):\n",
    "    print(len(cities[i]))"
   ]
  },
  {
   "cell_type": "code",
   "execution_count": 114,
   "metadata": {
    "ExecuteTime": {
     "end_time": "2019-02-17T10:03:45.709711Z",
     "start_time": "2019-02-17T10:03:45.700706Z"
    }
   },
   "outputs": [
    {
     "name": "stdout",
     "output_type": "stream",
     "text": [
      "5\n",
      "7\n",
      "9\n",
      "11\n",
      "13\n",
      "15\n"
     ]
    }
   ],
   "source": [
    "for i in range(5, 16,2):\n",
    "#     j = i+1\n",
    "    print(i)"
   ]
  },
  {
   "cell_type": "markdown",
   "metadata": {},
   "source": [
    "Couple of things to discuss here .\n",
    "\n",
    "* iterator doesnt have to be named \"i\" , it can be anything.\n",
    "* Value list doesnt have to be a list of coninuous number sequence, It can be a number list [numbers in any order], character list or something else too\n",
    "* iterator value need not be used inside the loop\n",
    "\n",
    "lets look at another way of writing that for loop that we just saw:"
   ]
  },
  {
   "cell_type": "code",
   "execution_count": 74,
   "metadata": {
    "ExecuteTime": {
     "end_time": "2019-02-17T10:04:35.225735Z",
     "start_time": "2019-02-17T10:04:35.215723Z"
    }
   },
   "outputs": [
    {
     "data": {
      "text/plain": [
       "['delhi', 'Banglore', 'mumbai', 'pune']"
      ]
     },
     "execution_count": 74,
     "metadata": {},
     "output_type": "execute_result"
    }
   ],
   "source": [
    "cities"
   ]
  },
  {
   "cell_type": "code",
   "execution_count": 115,
   "metadata": {
    "ExecuteTime": {
     "end_time": "2019-02-17T10:08:42.531179Z",
     "start_time": "2019-02-17T10:08:42.522174Z"
    }
   },
   "outputs": [
    {
     "name": "stdout",
     "output_type": "stream",
     "text": [
      "delhi\n",
      "Banglore\n",
      "mumbai\n",
      "pune\n"
     ]
    }
   ],
   "source": [
    "for city in cities:\n",
    "#     print(\"hello\")\n",
    "    print(city)\n",
    "\n"
   ]
  },
  {
   "cell_type": "markdown",
   "metadata": {},
   "source": [
    "*Note: print used to work without parenthesis in previous versions of python. You might find many examples online like that.*"
   ]
  },
  {
   "cell_type": "code",
   "execution_count": 116,
   "metadata": {},
   "outputs": [
    {
     "data": {
      "text/plain": [
       "8"
      ]
     },
     "execution_count": 116,
     "metadata": {},
     "output_type": "execute_result"
    }
   ],
   "source": [
    "x=3\n",
    "y=5\n",
    "x+y"
   ]
  },
  {
   "cell_type": "markdown",
   "metadata": {},
   "source": [
    "### List Comprehensions with For Loops\n"
   ]
  },
  {
   "cell_type": "code",
   "execution_count": 118,
   "metadata": {
    "ExecuteTime": {
     "end_time": "2019-02-17T10:34:10.819456Z",
     "start_time": "2019-02-17T10:34:10.811450Z"
    }
   },
   "outputs": [
    {
     "name": "stdout",
     "output_type": "stream",
     "text": [
      "range(0, 8)\n"
     ]
    }
   ],
   "source": [
    "x=range(8)\n",
    "print(x)"
   ]
  },
  {
   "cell_type": "markdown",
   "metadata": {},
   "source": [
    " From this we want to exract remainder for each value of x when that gets divided by 2.\n",
    "\n",
    "operator `%` calculates remainder. a%2 will caclulate remiander when a is dvivided by 2."
   ]
  },
  {
   "cell_type": "code",
   "execution_count": 78,
   "metadata": {
    "ExecuteTime": {
     "end_time": "2019-02-17T10:35:36.132123Z",
     "start_time": "2019-02-17T10:35:36.125116Z"
    }
   },
   "outputs": [
    {
     "data": {
      "text/plain": [
       "0"
      ]
     },
     "execution_count": 78,
     "metadata": {},
     "output_type": "execute_result"
    }
   ],
   "source": [
    "100%2"
   ]
  },
  {
   "cell_type": "code",
   "execution_count": 119,
   "metadata": {
    "ExecuteTime": {
     "end_time": "2019-02-17T10:36:53.761738Z",
     "start_time": "2019-02-17T10:36:53.753734Z"
    }
   },
   "outputs": [
    {
     "data": {
      "text/plain": [
       "[]"
      ]
     },
     "execution_count": 119,
     "metadata": {},
     "output_type": "execute_result"
    }
   ],
   "source": [
    "x_mod_2=[]\n",
    "x_mod_2"
   ]
  },
  {
   "cell_type": "code",
   "execution_count": 120,
   "metadata": {
    "ExecuteTime": {
     "end_time": "2019-02-17T10:35:45.119700Z",
     "start_time": "2019-02-17T10:35:45.105691Z"
    }
   },
   "outputs": [
    {
     "data": {
      "text/plain": [
       "[0, 1, 0, 1, 0, 1, 0, 1]"
      ]
     },
     "execution_count": 120,
     "metadata": {},
     "output_type": "execute_result"
    }
   ],
   "source": [
    "x=range(8)\n",
    "\n",
    "x_mod_2=[]\n",
    "\n",
    "for a in x:\n",
    "    x_mod_2.append(a%2)\n",
    "\n",
    "x_mod_2"
   ]
  },
  {
   "cell_type": "code",
   "execution_count": 121,
   "metadata": {
    "ExecuteTime": {
     "end_time": "2019-02-17T10:39:11.210800Z",
     "start_time": "2019-02-17T10:39:11.190785Z"
    }
   },
   "outputs": [
    {
     "data": {
      "text/plain": [
       "[0, 1, 0, 1, 0, 1, 0, 1]"
      ]
     },
     "execution_count": 121,
     "metadata": {},
     "output_type": "execute_result"
    }
   ],
   "source": [
    "x_mod_2=[a%2 for a in x]\n",
    "x_mod_2"
   ]
  },
  {
   "cell_type": "code",
   "execution_count": 123,
   "metadata": {
    "ExecuteTime": {
     "end_time": "2019-02-11T22:30:23.379452Z",
     "start_time": "2019-02-11T22:30:23.363829Z"
    }
   },
   "outputs": [
    {
     "name": "stdout",
     "output_type": "stream",
     "text": [
      "range(0, 8)\n"
     ]
    },
    {
     "data": {
      "text/plain": [
       "range"
      ]
     },
     "execution_count": 123,
     "metadata": {},
     "output_type": "execute_result"
    }
   ],
   "source": [
    "print(x)\n",
    "type(x)"
   ]
  },
  {
   "cell_type": "code",
   "execution_count": 124,
   "metadata": {
    "ExecuteTime": {
     "end_time": "2019-02-17T10:44:38.966427Z",
     "start_time": "2019-02-17T10:44:38.958421Z"
    }
   },
   "outputs": [],
   "source": [
    "import math"
   ]
  },
  {
   "cell_type": "code",
   "execution_count": 125,
   "metadata": {
    "ExecuteTime": {
     "end_time": "2019-02-17T10:48:32.257601Z",
     "start_time": "2019-02-17T10:48:32.250595Z"
    }
   },
   "outputs": [
    {
     "data": {
      "text/plain": [
       "range(0, 8)"
      ]
     },
     "execution_count": 125,
     "metadata": {},
     "output_type": "execute_result"
    }
   ],
   "source": [
    "x"
   ]
  },
  {
   "cell_type": "code",
   "execution_count": 130,
   "metadata": {
    "ExecuteTime": {
     "end_time": "2019-02-17T10:44:40.295756Z",
     "start_time": "2019-02-17T10:44:40.288752Z"
    }
   },
   "outputs": [
    {
     "name": "stdout",
     "output_type": "stream",
     "text": [
      "[0.0, 1.0986122886681098, 1.6094379124341003, 1.9459101490553132]\n",
      "0.0\n"
     ]
    }
   ],
   "source": [
    "x_ls2=[math.log(a) for a in x if a%2 !=0]\n",
    "\n",
    "print(x_ls2)\n",
    "\n",
    "#a=math.log(0)\n",
    "b=math.log(1)\n",
    "print(b)"
   ]
  },
  {
   "cell_type": "markdown",
   "metadata": {},
   "source": [
    "### Writing your own functions in python\n",
    "\n"
   ]
  },
  {
   "cell_type": "code",
   "execution_count": 146,
   "metadata": {},
   "outputs": [
    {
     "name": "stdout",
     "output_type": "stream",
     "text": [
      "0\n"
     ]
    }
   ],
   "source": [
    "def temp():\n",
    "    x=0\n",
    "    if x==0:\n",
    "        print(x)\n",
    "            \n",
    "temp()       "
   ]
  },
  {
   "cell_type": "code",
   "execution_count": 140,
   "metadata": {
    "ExecuteTime": {
     "end_time": "2019-02-17T10:56:58.432220Z",
     "start_time": "2019-02-17T10:56:58.424214Z"
    }
   },
   "outputs": [],
   "source": [
    "# writing a function in python\n",
    "\n",
    "def my_func(x):\n",
    "    if x%2!=0:\n",
    "        return(math.log(x))\n",
    "    else:\n",
    "        return(x)"
   ]
  },
  {
   "cell_type": "code",
   "execution_count": 141,
   "metadata": {
    "ExecuteTime": {
     "end_time": "2019-02-17T10:58:24.530474Z",
     "start_time": "2019-02-17T10:58:24.523469Z"
    }
   },
   "outputs": [
    {
     "data": {
      "text/plain": [
       "2.9444389791664403"
      ]
     },
     "execution_count": 141,
     "metadata": {},
     "output_type": "execute_result"
    }
   ],
   "source": [
    "my_func(19)"
   ]
  },
  {
   "cell_type": "code",
   "execution_count": 147,
   "metadata": {
    "ExecuteTime": {
     "end_time": "2019-02-17T10:58:43.008913Z",
     "start_time": "2019-02-17T10:58:43.000908Z"
    }
   },
   "outputs": [
    {
     "data": {
      "text/plain": [
       "20"
      ]
     },
     "execution_count": 147,
     "metadata": {},
     "output_type": "execute_result"
    }
   ],
   "source": [
    "my_func(20)"
   ]
  },
  {
   "cell_type": "code",
   "execution_count": 148,
   "metadata": {},
   "outputs": [
    {
     "data": {
      "text/plain": [
       "range(0, 8)"
      ]
     },
     "execution_count": 148,
     "metadata": {},
     "output_type": "execute_result"
    }
   ],
   "source": [
    "x"
   ]
  },
  {
   "cell_type": "code",
   "execution_count": 149,
   "metadata": {
    "ExecuteTime": {
     "end_time": "2019-02-17T10:59:01.109798Z",
     "start_time": "2019-02-17T10:59:01.100791Z"
    }
   },
   "outputs": [
    {
     "data": {
      "text/plain": [
       "[0, 0.0, 2, 1.0986122886681098, 4, 1.6094379124341003, 6, 1.9459101490553132]"
      ]
     },
     "execution_count": 149,
     "metadata": {},
     "output_type": "execute_result"
    }
   ],
   "source": [
    "x_ls3=[my_func(a) for a in x]\n",
    "x_ls3"
   ]
  },
  {
   "cell_type": "code",
   "execution_count": 151,
   "metadata": {
    "ExecuteTime": {
     "end_time": "2019-02-17T11:02:00.312655Z",
     "start_time": "2019-02-17T11:02:00.307653Z"
    }
   },
   "outputs": [],
   "source": [
    "def mysum(x=10,y=10):\n",
    "    return(2*x+3*y)"
   ]
  },
  {
   "cell_type": "code",
   "execution_count": 152,
   "metadata": {
    "ExecuteTime": {
     "end_time": "2019-02-17T11:02:01.739828Z",
     "start_time": "2019-02-17T11:02:01.732823Z"
    }
   },
   "outputs": [
    {
     "data": {
      "text/plain": [
       "13"
      ]
     },
     "execution_count": 152,
     "metadata": {},
     "output_type": "execute_result"
    }
   ],
   "source": [
    "mysum(2,3)"
   ]
  },
  {
   "cell_type": "code",
   "execution_count": null,
   "metadata": {
    "ExecuteTime": {
     "end_time": "2019-02-17T11:02:02.467243Z",
     "start_time": "2019-02-17T11:02:02.455232Z"
    }
   },
   "outputs": [],
   "source": [
    "mysum(2)"
   ]
  },
  {
   "cell_type": "code",
   "execution_count": null,
   "metadata": {
    "ExecuteTime": {
     "end_time": "2019-02-17T11:02:02.673378Z",
     "start_time": "2019-02-17T11:02:02.666374Z"
    }
   },
   "outputs": [],
   "source": [
    "mysum()"
   ]
  },
  {
   "cell_type": "code",
   "execution_count": null,
   "metadata": {
    "ExecuteTime": {
     "end_time": "2019-02-17T11:02:55.098761Z",
     "start_time": "2019-02-17T11:02:55.090756Z"
    }
   },
   "outputs": [],
   "source": [
    "mysum(,2)"
   ]
  },
  {
   "cell_type": "code",
   "execution_count": null,
   "metadata": {},
   "outputs": [],
   "source": [
    "mysum(y=4)"
   ]
  },
  {
   "cell_type": "code",
   "execution_count": 153,
   "metadata": {},
   "outputs": [
    {
     "name": "stdout",
     "output_type": "stream",
     "text": [
      "-10\n"
     ]
    },
    {
     "data": {
      "text/plain": [
       "302"
      ]
     },
     "execution_count": 153,
     "metadata": {},
     "output_type": "execute_result"
    }
   ],
   "source": [
    "print(mysum(y=-10))\n",
    "mysum(y=100,x=1)"
   ]
  },
  {
   "cell_type": "markdown",
   "metadata": {},
   "source": [
    "### Dictionaries\n",
    "\n"
   ]
  },
  {
   "cell_type": "code",
   "execution_count": 155,
   "metadata": {
    "ExecuteTime": {
     "end_time": "2019-02-17T11:22:47.148675Z",
     "start_time": "2019-02-17T11:22:47.142671Z"
    }
   },
   "outputs": [],
   "source": [
    "d= {\"actor\":\"nasir\",\"animal\":\"dog\",\"earth\":1,\"list\":[1,2,3]}"
   ]
  },
  {
   "cell_type": "code",
   "execution_count": 156,
   "metadata": {
    "ExecuteTime": {
     "end_time": "2019-02-17T11:22:50.755638Z",
     "start_time": "2019-02-17T11:22:50.746632Z"
    }
   },
   "outputs": [
    {
     "data": {
      "text/plain": [
       "{'actor': 'nasir', 'animal': 'dog', 'earth': 1, 'list': [1, 2, 3]}"
      ]
     },
     "execution_count": 156,
     "metadata": {},
     "output_type": "execute_result"
    }
   ],
   "source": [
    "d"
   ]
  },
  {
   "cell_type": "code",
   "execution_count": null,
   "metadata": {},
   "outputs": [],
   "source": []
  },
  {
   "cell_type": "code",
   "execution_count": 157,
   "metadata": {
    "ExecuteTime": {
     "end_time": "2019-02-17T11:14:39.376656Z",
     "start_time": "2019-02-17T11:14:39.369651Z"
    }
   },
   "outputs": [
    {
     "data": {
      "text/plain": [
       "dict_keys(['actor', 'animal', 'earth', 'list'])"
      ]
     },
     "execution_count": 157,
     "metadata": {},
     "output_type": "execute_result"
    }
   ],
   "source": [
    "d.keys()"
   ]
  },
  {
   "cell_type": "code",
   "execution_count": 158,
   "metadata": {
    "ExecuteTime": {
     "end_time": "2019-02-17T11:15:08.443019Z",
     "start_time": "2019-02-17T11:15:08.434012Z"
    }
   },
   "outputs": [
    {
     "data": {
      "text/plain": [
       "dict_values(['nasir', 'dog', 1, [1, 2, 3]])"
      ]
     },
     "execution_count": 158,
     "metadata": {},
     "output_type": "execute_result"
    }
   ],
   "source": [
    "d.values()"
   ]
  },
  {
   "cell_type": "code",
   "execution_count": 159,
   "metadata": {
    "ExecuteTime": {
     "end_time": "2019-02-17T11:15:32.411774Z",
     "start_time": "2019-02-17T11:15:32.399766Z"
    }
   },
   "outputs": [
    {
     "data": {
      "text/plain": [
       "'dog'"
      ]
     },
     "execution_count": 159,
     "metadata": {},
     "output_type": "execute_result"
    }
   ],
   "source": [
    "d[\"animal\"]"
   ]
  },
  {
   "cell_type": "code",
   "execution_count": 160,
   "metadata": {
    "ExecuteTime": {
     "end_time": "2019-02-17T11:15:54.807780Z",
     "start_time": "2019-02-17T11:15:54.792770Z"
    }
   },
   "outputs": [
    {
     "ename": "KeyError",
     "evalue": "'fish'",
     "output_type": "error",
     "traceback": [
      "\u001b[1;31m---------------------------------------------------------------------------\u001b[0m",
      "\u001b[1;31mKeyError\u001b[0m                                  Traceback (most recent call last)",
      "\u001b[1;32m<ipython-input-160-d94f5d85b629>\u001b[0m in \u001b[0;36m<module>\u001b[1;34m\u001b[0m\n\u001b[1;32m----> 1\u001b[1;33m \u001b[0md\u001b[0m\u001b[1;33m[\u001b[0m\u001b[1;34m'fish'\u001b[0m\u001b[1;33m]\u001b[0m\u001b[1;33m\u001b[0m\u001b[1;33m\u001b[0m\u001b[0m\n\u001b[0m",
      "\u001b[1;31mKeyError\u001b[0m: 'fish'"
     ]
    }
   ],
   "source": [
    "d['fish']"
   ]
  },
  {
   "cell_type": "code",
   "execution_count": 161,
   "metadata": {
    "ExecuteTime": {
     "end_time": "2019-02-17T11:16:28.846658Z",
     "start_time": "2019-02-17T11:16:28.840656Z"
    }
   },
   "outputs": [
    {
     "name": "stdout",
     "output_type": "stream",
     "text": [
      "{'actor': 'nasir', 'animal': 'dog', 'earth': 1, 'list': [1, 2, 3], 'module': 'intro'}\n"
     ]
    }
   ],
   "source": [
    "# add new key value pair\n",
    "d['module']=\"intro\"\n",
    "print(d)"
   ]
  },
  {
   "cell_type": "code",
   "execution_count": 162,
   "metadata": {
    "ExecuteTime": {
     "end_time": "2019-02-17T11:16:52.475544Z",
     "start_time": "2019-02-17T11:16:52.469542Z"
    }
   },
   "outputs": [
    {
     "name": "stdout",
     "output_type": "stream",
     "text": [
      "{'animal': 'dog', 'earth': 1, 'list': [1, 2, 3], 'module': 'intro'}\n"
     ]
    }
   ],
   "source": [
    "# removing a key value pair\n",
    "del d['actor']\n",
    "print(d)"
   ]
  },
  {
   "cell_type": "code",
   "execution_count": 163,
   "metadata": {
    "ExecuteTime": {
     "end_time": "2019-02-17T11:20:32.901271Z",
     "start_time": "2019-02-17T11:20:32.894265Z"
    }
   },
   "outputs": [
    {
     "data": {
      "text/plain": [
       "'dog'"
      ]
     },
     "execution_count": 163,
     "metadata": {},
     "output_type": "execute_result"
    }
   ],
   "source": [
    "d['animal']"
   ]
  },
  {
   "cell_type": "code",
   "execution_count": 164,
   "metadata": {
    "ExecuteTime": {
     "end_time": "2019-02-17T11:20:03.585700Z",
     "start_time": "2019-02-17T11:20:03.577695Z"
    }
   },
   "outputs": [
    {
     "data": {
      "text/plain": [
       "{'animal': '', 'earth': 1, 'list': [1, 2, 3], 'module': 'intro'}"
      ]
     },
     "execution_count": 164,
     "metadata": {},
     "output_type": "execute_result"
    }
   ],
   "source": [
    "d[\"animal\"] = \"\"\n",
    "d"
   ]
  },
  {
   "cell_type": "code",
   "execution_count": 165,
   "metadata": {
    "ExecuteTime": {
     "end_time": "2019-02-17T11:25:01.717041Z",
     "start_time": "2019-02-17T11:25:01.708033Z"
    }
   },
   "outputs": [
    {
     "data": {
      "text/plain": [
       "{'animal': '', 'earth': 1, 'list': [1, 2, 3], 'module': 'intro'}"
      ]
     },
     "execution_count": 165,
     "metadata": {},
     "output_type": "execute_result"
    }
   ],
   "source": [
    "d"
   ]
  },
  {
   "cell_type": "code",
   "execution_count": 166,
   "metadata": {
    "ExecuteTime": {
     "end_time": "2019-02-17T11:24:49.463347Z",
     "start_time": "2019-02-17T11:24:49.455342Z"
    }
   },
   "outputs": [
    {
     "name": "stdout",
     "output_type": "stream",
     "text": [
      "value for key:animal  is :\n",
      "value for key:earth  is :1\n",
      "value for key:list  is :[1, 2, 3]\n",
      "value for key:module  is :intro\n"
     ]
    }
   ],
   "source": [
    "# element access in loop\n",
    "for elem in d:\n",
    "    print('value for key:%s ' %(elem) ,'is :%s' %(d[elem]))"
   ]
  },
  {
   "cell_type": "code",
   "execution_count": 167,
   "metadata": {
    "ExecuteTime": {
     "end_time": "2019-02-17T11:27:13.112187Z",
     "start_time": "2019-02-17T11:27:13.105183Z"
    }
   },
   "outputs": [
    {
     "data": {
      "text/plain": [
       "dict_items([('animal', ''), ('earth', 1), ('list', [1, 2, 3]), ('module', 'intro')])"
      ]
     },
     "execution_count": 167,
     "metadata": {},
     "output_type": "execute_result"
    }
   ],
   "source": [
    "d.items()"
   ]
  },
  {
   "cell_type": "code",
   "execution_count": 168,
   "metadata": {
    "ExecuteTime": {
     "end_time": "2019-02-17T11:28:02.656223Z",
     "start_time": "2019-02-17T11:28:02.649220Z"
    }
   },
   "outputs": [
    {
     "name": "stdout",
     "output_type": "stream",
     "text": [
      "value for key:animal is \n",
      "value for key:earth is 1\n",
      "value for key:list is [1, 2, 3]\n",
      "value for key:module is intro\n"
     ]
    }
   ],
   "source": [
    "for a,b in d.items():\n",
    "\tprint('value for key:%s is %s' %(a,b))"
   ]
  },
  {
   "cell_type": "markdown",
   "metadata": {},
   "source": [
    "### Sets\n"
   ]
  },
  {
   "cell_type": "code",
   "execution_count": 169,
   "metadata": {
    "ExecuteTime": {
     "end_time": "2019-02-17T11:30:51.785883Z",
     "start_time": "2019-02-17T11:30:51.777878Z"
    }
   },
   "outputs": [
    {
     "data": {
      "text/plain": [
       "{'cat', 'dog'}"
      ]
     },
     "execution_count": 169,
     "metadata": {},
     "output_type": "execute_result"
    }
   ],
   "source": [
    "animals = {'cat', 'dog'}\n",
    "animals"
   ]
  },
  {
   "cell_type": "code",
   "execution_count": 170,
   "metadata": {
    "ExecuteTime": {
     "end_time": "2019-02-17T11:32:34.106484Z",
     "start_time": "2019-02-17T11:32:34.099479Z"
    }
   },
   "outputs": [
    {
     "data": {
      "text/plain": [
       "True"
      ]
     },
     "execution_count": 170,
     "metadata": {},
     "output_type": "execute_result"
    }
   ],
   "source": [
    "'cat' in animals"
   ]
  },
  {
   "cell_type": "code",
   "execution_count": 171,
   "metadata": {
    "ExecuteTime": {
     "end_time": "2019-02-17T11:32:39.453549Z",
     "start_time": "2019-02-17T11:32:39.446544Z"
    }
   },
   "outputs": [
    {
     "data": {
      "text/plain": [
       "False"
      ]
     },
     "execution_count": 171,
     "metadata": {},
     "output_type": "execute_result"
    }
   ],
   "source": [
    "'fish' in animals"
   ]
  },
  {
   "cell_type": "code",
   "execution_count": 172,
   "metadata": {
    "ExecuteTime": {
     "end_time": "2019-02-17T11:32:44.764355Z",
     "start_time": "2019-02-17T11:32:44.758350Z"
    }
   },
   "outputs": [
    {
     "name": "stdout",
     "output_type": "stream",
     "text": [
      "{'dog', 'cat', 'fish'}\n"
     ]
    }
   ],
   "source": [
    "animals.add('fish')\n",
    "print(animals)"
   ]
  },
  {
   "cell_type": "code",
   "execution_count": 173,
   "metadata": {
    "ExecuteTime": {
     "end_time": "2019-02-17T11:33:03.537859Z",
     "start_time": "2019-02-17T11:33:03.530855Z"
    }
   },
   "outputs": [
    {
     "name": "stdout",
     "output_type": "stream",
     "text": [
      "{'dog', 'cat', 'fish'}\n"
     ]
    }
   ],
   "source": [
    "animals.add('cat')   \n",
    "print(animals)"
   ]
  },
  {
   "cell_type": "code",
   "execution_count": 174,
   "metadata": {
    "ExecuteTime": {
     "end_time": "2019-02-17T11:33:20.638427Z",
     "start_time": "2019-02-17T11:33:20.632425Z"
    }
   },
   "outputs": [
    {
     "name": "stdout",
     "output_type": "stream",
     "text": [
      "{'cow', 'dog', 'cat', 'fish'}\n"
     ]
    }
   ],
   "source": [
    "animals.add('cow')\n",
    "print(animals)"
   ]
  },
  {
   "cell_type": "code",
   "execution_count": 175,
   "metadata": {
    "ExecuteTime": {
     "end_time": "2019-02-16T08:59:42.937371Z",
     "start_time": "2019-02-16T08:59:42.931369Z"
    }
   },
   "outputs": [
    {
     "name": "stdout",
     "output_type": "stream",
     "text": [
      "{'cow', 'dog', 'fish'}\n"
     ]
    }
   ],
   "source": [
    "animals.remove('cat')\n",
    "print(animals)"
   ]
  },
  {
   "cell_type": "code",
   "execution_count": 176,
   "metadata": {
    "ExecuteTime": {
     "end_time": "2019-02-17T11:33:59.718342Z",
     "start_time": "2019-02-17T11:33:59.708331Z"
    }
   },
   "outputs": [
    {
     "name": "stdout",
     "output_type": "stream",
     "text": [
      "there\n",
      "here\n",
      "dog\n",
      "cat\n",
      "fish\n"
     ]
    }
   ],
   "source": [
    "animals = {'cat', 'dog', 'fish','here','there'}\n",
    "for animal in animals:\n",
    "\tprint(animal)"
   ]
  },
  {
   "cell_type": "code",
   "execution_count": 177,
   "metadata": {
    "ExecuteTime": {
     "end_time": "2019-02-17T11:35:20.551745Z",
     "start_time": "2019-02-17T11:35:20.545740Z"
    }
   },
   "outputs": [],
   "source": [
    "a={1,2,3,4,5,6}\n",
    "b={4,5,6,7,8,9}"
   ]
  },
  {
   "cell_type": "code",
   "execution_count": 178,
   "metadata": {
    "ExecuteTime": {
     "end_time": "2019-02-17T11:35:38.716764Z",
     "start_time": "2019-02-17T11:35:38.704755Z"
    }
   },
   "outputs": [
    {
     "data": {
      "text/plain": [
       "{1, 2, 3, 4, 5, 6, 7, 8, 9}"
      ]
     },
     "execution_count": 178,
     "metadata": {},
     "output_type": "execute_result"
    }
   ],
   "source": [
    "c=a.union(b)\n",
    "c"
   ]
  },
  {
   "cell_type": "code",
   "execution_count": 179,
   "metadata": {
    "ExecuteTime": {
     "end_time": "2019-02-17T11:35:50.110788Z",
     "start_time": "2019-02-17T11:35:50.103784Z"
    }
   },
   "outputs": [
    {
     "data": {
      "text/plain": [
       "{4, 5, 6}"
      ]
     },
     "execution_count": 179,
     "metadata": {},
     "output_type": "execute_result"
    }
   ],
   "source": [
    "a.intersection(b)"
   ]
  },
  {
   "cell_type": "code",
   "execution_count": 180,
   "metadata": {
    "ExecuteTime": {
     "end_time": "2019-02-17T11:36:37.291444Z",
     "start_time": "2019-02-17T11:36:37.284441Z"
    }
   },
   "outputs": [
    {
     "data": {
      "text/plain": [
       "False"
      ]
     },
     "execution_count": 180,
     "metadata": {},
     "output_type": "execute_result"
    }
   ],
   "source": [
    "a.issubset(b)"
   ]
  },
  {
   "cell_type": "code",
   "execution_count": 181,
   "metadata": {
    "ExecuteTime": {
     "end_time": "2019-02-17T11:37:07.304493Z",
     "start_time": "2019-02-17T11:37:07.295487Z"
    }
   },
   "outputs": [
    {
     "data": {
      "text/plain": [
       "True"
      ]
     },
     "execution_count": 181,
     "metadata": {},
     "output_type": "execute_result"
    }
   ],
   "source": [
    "a.issubset(c)"
   ]
  },
  {
   "cell_type": "code",
   "execution_count": 182,
   "metadata": {
    "ExecuteTime": {
     "end_time": "2019-02-17T11:37:28.599892Z",
     "start_time": "2019-02-17T11:37:28.591886Z"
    }
   },
   "outputs": [
    {
     "data": {
      "text/plain": [
       "True"
      ]
     },
     "execution_count": 182,
     "metadata": {},
     "output_type": "execute_result"
    }
   ],
   "source": [
    "c.issuperset(b)"
   ]
  },
  {
   "cell_type": "markdown",
   "metadata": {},
   "source": [
    "Difference between function symmetric_difference and difference is as follows:\n",
    "\n",
    "* s.difference(t) :\tnew set with elements in s but not in t\n",
    "* s.symmetric_difference(t) :  new set with elements in either s or t but not both\n",
    "\n",
    "lets see with our own examples :\n"
   ]
  },
  {
   "cell_type": "code",
   "execution_count": 183,
   "metadata": {
    "ExecuteTime": {
     "end_time": "2019-02-17T11:37:50.159715Z",
     "start_time": "2019-02-17T11:37:50.149707Z"
    }
   },
   "outputs": [
    {
     "name": "stdout",
     "output_type": "stream",
     "text": [
      "{1, 2, 3, 4, 5, 6}\n",
      "{4, 5, 6, 7, 8, 9}\n"
     ]
    },
    {
     "data": {
      "text/plain": [
       "{1, 2, 3}"
      ]
     },
     "execution_count": 183,
     "metadata": {},
     "output_type": "execute_result"
    }
   ],
   "source": [
    "print(a)\n",
    "print(b)\n",
    "a.difference(b)"
   ]
  },
  {
   "cell_type": "code",
   "execution_count": 184,
   "metadata": {
    "ExecuteTime": {
     "end_time": "2019-02-17T11:38:07.150536Z",
     "start_time": "2019-02-17T11:38:07.138529Z"
    }
   },
   "outputs": [
    {
     "data": {
      "text/plain": [
       "{7, 8, 9}"
      ]
     },
     "execution_count": 184,
     "metadata": {},
     "output_type": "execute_result"
    }
   ],
   "source": [
    "b.difference(a)"
   ]
  },
  {
   "cell_type": "code",
   "execution_count": 185,
   "metadata": {
    "ExecuteTime": {
     "end_time": "2019-02-17T11:38:23.446182Z",
     "start_time": "2019-02-17T11:38:23.426169Z"
    }
   },
   "outputs": [
    {
     "name": "stdout",
     "output_type": "stream",
     "text": [
      "{1, 2, 3, 4, 5, 6}\n",
      "{4, 5, 6, 7, 8, 9}\n"
     ]
    },
    {
     "data": {
      "text/plain": [
       "{1, 2, 3, 7, 8, 9}"
      ]
     },
     "execution_count": 185,
     "metadata": {},
     "output_type": "execute_result"
    }
   ],
   "source": [
    "print(a)\n",
    "print(b)\n",
    "a.symmetric_difference(b)"
   ]
  },
  {
   "cell_type": "markdown",
   "metadata": {},
   "source": [
    "### Tuples\n"
   ]
  },
  {
   "cell_type": "code",
   "execution_count": 186,
   "metadata": {
    "ExecuteTime": {
     "end_time": "2019-02-17T11:42:10.421804Z",
     "start_time": "2019-02-17T11:42:10.409797Z"
    }
   },
   "outputs": [
    {
     "data": {
      "text/plain": [
       "(12345, 54321, 'hello!')"
      ]
     },
     "execution_count": 186,
     "metadata": {},
     "output_type": "execute_result"
    }
   ],
   "source": [
    "t = 12345, 54321, 'hello!'\n",
    "t"
   ]
  },
  {
   "cell_type": "code",
   "execution_count": 187,
   "metadata": {
    "ExecuteTime": {
     "end_time": "2019-02-17T11:42:29.213679Z",
     "start_time": "2019-02-17T11:42:29.203672Z"
    }
   },
   "outputs": [
    {
     "data": {
      "text/plain": [
       "(12345, 54321, 'hello!')"
      ]
     },
     "execution_count": 187,
     "metadata": {},
     "output_type": "execute_result"
    }
   ],
   "source": [
    "t =( 12345, 54321, 'hello!') # same thing\n",
    "t"
   ]
  },
  {
   "cell_type": "code",
   "execution_count": 188,
   "metadata": {
    "ExecuteTime": {
     "end_time": "2019-02-17T11:42:33.194482Z",
     "start_time": "2019-02-17T11:42:33.183472Z"
    }
   },
   "outputs": [
    {
     "data": {
      "text/plain": [
       "((12345, 54321, 'hello!'), (1, 2, 3, 4, 5))"
      ]
     },
     "execution_count": 188,
     "metadata": {},
     "output_type": "execute_result"
    }
   ],
   "source": [
    "u = t, (1, 2, 3, 4, 5)\n",
    "u"
   ]
  },
  {
   "cell_type": "code",
   "execution_count": 189,
   "metadata": {
    "ExecuteTime": {
     "end_time": "2019-02-11T22:46:36.770895Z",
     "start_time": "2019-02-11T22:46:36.758888Z"
    }
   },
   "outputs": [
    {
     "data": {
      "text/plain": [
       "(12345, 54321, 'hello!')"
      ]
     },
     "execution_count": 189,
     "metadata": {},
     "output_type": "execute_result"
    }
   ],
   "source": [
    "t"
   ]
  },
  {
   "cell_type": "code",
   "execution_count": 190,
   "metadata": {
    "ExecuteTime": {
     "end_time": "2019-02-17T11:42:52.900073Z",
     "start_time": "2019-02-17T11:42:52.889068Z"
    }
   },
   "outputs": [
    {
     "ename": "IndexError",
     "evalue": "tuple index out of range",
     "output_type": "error",
     "traceback": [
      "\u001b[1;31m---------------------------------------------------------------------------\u001b[0m",
      "\u001b[1;31mIndexError\u001b[0m                                Traceback (most recent call last)",
      "\u001b[1;32m<ipython-input-190-8fb57441a1fc>\u001b[0m in \u001b[0;36m<module>\u001b[1;34m\u001b[0m\n\u001b[1;32m----> 1\u001b[1;33m \u001b[0mu\u001b[0m\u001b[1;33m[\u001b[0m\u001b[1;36m2\u001b[0m\u001b[1;33m]\u001b[0m\u001b[1;33m\u001b[0m\u001b[1;33m\u001b[0m\u001b[0m\n\u001b[0m",
      "\u001b[1;31mIndexError\u001b[0m: tuple index out of range"
     ]
    }
   ],
   "source": [
    "u[2]"
   ]
  },
  {
   "cell_type": "code",
   "execution_count": 191,
   "metadata": {
    "ExecuteTime": {
     "end_time": "2019-02-17T11:43:20.620685Z",
     "start_time": "2019-02-17T11:43:20.614681Z"
    }
   },
   "outputs": [
    {
     "data": {
      "text/plain": [
       "(1, 2, 3, 4, 5)"
      ]
     },
     "execution_count": 191,
     "metadata": {},
     "output_type": "execute_result"
    }
   ],
   "source": [
    "u[1]"
   ]
  },
  {
   "cell_type": "code",
   "execution_count": 192,
   "metadata": {
    "ExecuteTime": {
     "end_time": "2019-02-17T11:43:31.062358Z",
     "start_time": "2019-02-17T11:43:31.055354Z"
    }
   },
   "outputs": [
    {
     "data": {
      "text/plain": [
       "(12345, 54321, 'hello!')"
      ]
     },
     "execution_count": 192,
     "metadata": {},
     "output_type": "execute_result"
    }
   ],
   "source": [
    "t"
   ]
  },
  {
   "cell_type": "code",
   "execution_count": 193,
   "metadata": {
    "ExecuteTime": {
     "end_time": "2019-02-17T11:44:01.012480Z",
     "start_time": "2019-02-17T11:44:00.996468Z"
    }
   },
   "outputs": [
    {
     "ename": "TypeError",
     "evalue": "'tuple' object does not support item assignment",
     "output_type": "error",
     "traceback": [
      "\u001b[1;31m---------------------------------------------------------------------------\u001b[0m",
      "\u001b[1;31mTypeError\u001b[0m                                 Traceback (most recent call last)",
      "\u001b[1;32m<ipython-input-193-19db98c32cdb>\u001b[0m in \u001b[0;36m<module>\u001b[1;34m\u001b[0m\n\u001b[1;32m----> 1\u001b[1;33m \u001b[0mt\u001b[0m\u001b[1;33m[\u001b[0m\u001b[1;36m0\u001b[0m\u001b[1;33m]\u001b[0m\u001b[1;33m=\u001b[0m\u001b[1;36m21\u001b[0m \u001b[1;31m# you can not reassign\u001b[0m\u001b[1;33m\u001b[0m\u001b[1;33m\u001b[0m\u001b[0m\n\u001b[0m",
      "\u001b[1;31mTypeError\u001b[0m: 'tuple' object does not support item assignment"
     ]
    }
   ],
   "source": [
    "t[0]=21 # you can not reassign"
   ]
  },
  {
   "cell_type": "code",
   "execution_count": 194,
   "metadata": {
    "ExecuteTime": {
     "end_time": "2019-02-17T11:44:23.778877Z",
     "start_time": "2019-02-17T11:44:23.773873Z"
    }
   },
   "outputs": [],
   "source": [
    "v = ([1, 2, 3], [3, 2, 1])"
   ]
  },
  {
   "cell_type": "code",
   "execution_count": 195,
   "metadata": {
    "ExecuteTime": {
     "end_time": "2019-02-17T11:44:27.508157Z",
     "start_time": "2019-02-17T11:44:27.500152Z"
    }
   },
   "outputs": [
    {
     "data": {
      "text/plain": [
       "([1, 2, 3], [3, 2, 1])"
      ]
     },
     "execution_count": 195,
     "metadata": {},
     "output_type": "execute_result"
    }
   ],
   "source": [
    "v"
   ]
  },
  {
   "cell_type": "code",
   "execution_count": 196,
   "metadata": {
    "ExecuteTime": {
     "end_time": "2019-02-17T11:45:29.096087Z",
     "start_time": "2019-02-17T11:45:29.087077Z"
    }
   },
   "outputs": [
    {
     "data": {
      "text/plain": [
       "1"
      ]
     },
     "execution_count": 196,
     "metadata": {},
     "output_type": "execute_result"
    }
   ],
   "source": [
    "v[0][0]"
   ]
  },
  {
   "cell_type": "code",
   "execution_count": 197,
   "metadata": {
    "ExecuteTime": {
     "end_time": "2019-02-17T11:45:04.589462Z",
     "start_time": "2019-02-17T11:45:04.577454Z"
    }
   },
   "outputs": [
    {
     "ename": "TypeError",
     "evalue": "'tuple' object does not support item assignment",
     "output_type": "error",
     "traceback": [
      "\u001b[1;31m---------------------------------------------------------------------------\u001b[0m",
      "\u001b[1;31mTypeError\u001b[0m                                 Traceback (most recent call last)",
      "\u001b[1;32m<ipython-input-197-f6eb7eba781a>\u001b[0m in \u001b[0;36m<module>\u001b[1;34m\u001b[0m\n\u001b[1;32m----> 1\u001b[1;33m \u001b[0mv\u001b[0m\u001b[1;33m[\u001b[0m\u001b[1;36m0\u001b[0m\u001b[1;33m]\u001b[0m\u001b[1;33m=\u001b[0m\u001b[1;36m21\u001b[0m\u001b[1;33m\u001b[0m\u001b[1;33m\u001b[0m\u001b[0m\n\u001b[0m",
      "\u001b[1;31mTypeError\u001b[0m: 'tuple' object does not support item assignment"
     ]
    }
   ],
   "source": [
    "v[0]=21"
   ]
  },
  {
   "cell_type": "code",
   "execution_count": 198,
   "metadata": {
    "ExecuteTime": {
     "end_time": "2019-02-17T11:45:51.598699Z",
     "start_time": "2019-02-17T11:45:51.591693Z"
    }
   },
   "outputs": [
    {
     "name": "stdout",
     "output_type": "stream",
     "text": [
      "([1, 2, 3], [3, 2, 1])\n",
      "([21, 2, 3], [3, 2, 1])\n"
     ]
    }
   ],
   "source": [
    "print(v)\n",
    "v[0][0]=21\n",
    "print(v)"
   ]
  },
  {
   "cell_type": "code",
   "execution_count": 199,
   "metadata": {
    "ExecuteTime": {
     "end_time": "2019-02-17T11:49:24.773464Z",
     "start_time": "2019-02-17T11:49:24.763456Z"
    }
   },
   "outputs": [
    {
     "data": {
      "text/plain": [
       "[2, 5, 7, 9, 10, 15]"
      ]
     },
     "execution_count": 199,
     "metadata": {},
     "output_type": "execute_result"
    }
   ],
   "source": [
    "x=[2,5,7,9,10,15]\n",
    "x"
   ]
  },
  {
   "cell_type": "code",
   "execution_count": 200,
   "metadata": {
    "ExecuteTime": {
     "end_time": "2019-02-17T11:51:00.159979Z",
     "start_time": "2019-02-17T11:51:00.147971Z"
    }
   },
   "outputs": [
    {
     "data": {
      "text/plain": [
       "[5, 9]"
      ]
     },
     "execution_count": 200,
     "metadata": {},
     "output_type": "execute_result"
    }
   ],
   "source": [
    "x[1:-1:2]"
   ]
  },
  {
   "cell_type": "code",
   "execution_count": 201,
   "metadata": {
    "ExecuteTime": {
     "end_time": "2019-02-17T11:53:26.261609Z",
     "start_time": "2019-02-17T11:53:26.254606Z"
    }
   },
   "outputs": [
    {
     "data": {
      "text/plain": [
       "[5, 7, 9]"
      ]
     },
     "execution_count": 201,
     "metadata": {},
     "output_type": "execute_result"
    }
   ],
   "source": [
    "x[-5:-2]"
   ]
  },
  {
   "cell_type": "markdown",
   "metadata": {},
   "source": [
    "### Writing your own Classes:\n",
    "\n",
    "*Note :* you can safely skip this portion if you feel overwhelmed at any point in it. We'll not be using this in the course for quite some time.\n"
   ]
  },
  {
   "cell_type": "code",
   "execution_count": null,
   "metadata": {
    "ExecuteTime": {
     "end_time": "2019-02-23T09:36:52.371232Z",
     "start_time": "2019-02-23T09:36:52.364227Z"
    }
   },
   "outputs": [],
   "source": [
    "import math"
   ]
  },
  {
   "cell_type": "code",
   "execution_count": 202,
   "metadata": {
    "ExecuteTime": {
     "end_time": "2019-02-23T09:40:31.761984Z",
     "start_time": "2019-02-23T09:40:31.729962Z"
    }
   },
   "outputs": [],
   "source": [
    "# we start with keyword class and then give our class a name\n",
    "\n",
    "class Point(object):\n",
    "\n",
    "    def __init__(self, x, y):\n",
    "        '''Defines x and y variables'''\n",
    "        self.X = x\n",
    "        self.Y = y\n",
    "\n",
    "        # self is used as reference to internal objects that get \n",
    "        # created using values supplied from outside \n",
    "        # default function _init_ is used to create internal objects\n",
    "        # which can be accessed by other functions in the class\n",
    "\n",
    "    def length(self):\n",
    "        return(math.sqrt(self.X**2+self.Y**2))\n",
    "    \n",
    "    # all function inside a class will have access to internal objects \n",
    "    # created inside the class\n",
    "    # you can understand self to be default Point class object\n",
    "    \n",
    "    def distance(self, other):\n",
    "        dx = self.X - other.X\n",
    "        dy = self.Y - other.Y\n",
    "        return(math.sqrt(dx**2 + dy**2))\n",
    "    \n",
    "    # a function inside the class can take input multiple objects\n",
    "    # of the same class"
   ]
  },
  {
   "cell_type": "code",
   "execution_count": 204,
   "metadata": {
    "ExecuteTime": {
     "end_time": "2019-02-23T09:40:36.661269Z",
     "start_time": "2019-02-23T09:40:36.656264Z"
    }
   },
   "outputs": [],
   "source": [
    "a=Point(2,3)"
   ]
  },
  {
   "cell_type": "code",
   "execution_count": 205,
   "metadata": {
    "ExecuteTime": {
     "end_time": "2019-02-23T09:41:30.866497Z",
     "start_time": "2019-02-23T09:41:30.859492Z"
    }
   },
   "outputs": [
    {
     "data": {
      "text/plain": [
       "3"
      ]
     },
     "execution_count": 205,
     "metadata": {},
     "output_type": "execute_result"
    }
   ],
   "source": [
    "a.Y"
   ]
  },
  {
   "cell_type": "code",
   "execution_count": 206,
   "metadata": {
    "ExecuteTime": {
     "end_time": "2019-02-23T09:33:35.120256Z",
     "start_time": "2019-02-23T09:33:35.115254Z"
    }
   },
   "outputs": [],
   "source": [
    "z=Point(2,3)\n",
    "y=Point(4,10)"
   ]
  },
  {
   "cell_type": "code",
   "execution_count": 207,
   "metadata": {
    "ExecuteTime": {
     "end_time": "2019-02-23T09:24:04.502582Z",
     "start_time": "2019-02-23T09:24:04.483569Z"
    }
   },
   "outputs": [
    {
     "data": {
      "text/plain": [
       "__main__.Point"
      ]
     },
     "execution_count": 207,
     "metadata": {},
     "output_type": "execute_result"
    }
   ],
   "source": [
    "type(y)"
   ]
  },
  {
   "cell_type": "code",
   "execution_count": 208,
   "metadata": {
    "ExecuteTime": {
     "end_time": "2019-02-23T09:24:07.347560Z",
     "start_time": "2019-02-23T09:24:07.334553Z"
    }
   },
   "outputs": [
    {
     "data": {
      "text/plain": [
       "__main__.Point"
      ]
     },
     "execution_count": 208,
     "metadata": {},
     "output_type": "execute_result"
    }
   ],
   "source": [
    "type(z)"
   ]
  },
  {
   "cell_type": "code",
   "execution_count": 209,
   "metadata": {
    "ExecuteTime": {
     "end_time": "2019-02-23T09:33:42.215031Z",
     "start_time": "2019-02-23T09:33:42.208029Z"
    }
   },
   "outputs": [
    {
     "name": "stdout",
     "output_type": "stream",
     "text": [
      "2\n",
      "3\n"
     ]
    }
   ],
   "source": [
    "print(z.X)\n",
    "print(z.Y)"
   ]
  },
  {
   "cell_type": "markdown",
   "metadata": {},
   "source": [
    "you can apply function on and between objects of this class Point by using syntax *clas_name.function* . example given below"
   ]
  },
  {
   "cell_type": "code",
   "execution_count": 210,
   "metadata": {
    "ExecuteTime": {
     "end_time": "2019-02-23T09:36:57.228496Z",
     "start_time": "2019-02-23T09:36:57.219492Z"
    }
   },
   "outputs": [
    {
     "name": "stdout",
     "output_type": "stream",
     "text": [
      "10.770329614269007\n"
     ]
    }
   ],
   "source": [
    "print(Point.length(y))"
   ]
  },
  {
   "cell_type": "code",
   "execution_count": 211,
   "metadata": {
    "ExecuteTime": {
     "end_time": "2019-02-23T09:37:36.284231Z",
     "start_time": "2019-02-23T09:37:36.277217Z"
    }
   },
   "outputs": [
    {
     "name": "stdout",
     "output_type": "stream",
     "text": [
      "3.605551275463989\n"
     ]
    }
   ],
   "source": [
    "print(Point.length(z))"
   ]
  },
  {
   "cell_type": "code",
   "execution_count": 212,
   "metadata": {
    "ExecuteTime": {
     "end_time": "2019-02-23T09:38:19.353562Z",
     "start_time": "2019-02-23T09:38:19.347557Z"
    }
   },
   "outputs": [
    {
     "name": "stdout",
     "output_type": "stream",
     "text": [
      "7.280109889280518\n"
     ]
    }
   ],
   "source": [
    "print(Point.distance(y,z))"
   ]
  },
  {
   "cell_type": "code",
   "execution_count": null,
   "metadata": {},
   "outputs": [],
   "source": []
  },
  {
   "cell_type": "code",
   "execution_count": null,
   "metadata": {},
   "outputs": [],
   "source": []
  },
  {
   "cell_type": "code",
   "execution_count": null,
   "metadata": {},
   "outputs": [],
   "source": []
  },
  {
   "cell_type": "markdown",
   "metadata": {},
   "source": [
    "We'll conclude our discussion here. In the next module we'll look at some packages in python which enable us to do data sepcific task and brings us closer to be able to start doing machine learning tasks in python."
   ]
  },
  {
   "cell_type": "markdown",
   "metadata": {
    "collapsed": true
   },
   "source": [
    "Prepared By : Lalit Sachan (lalit.sachan@edvancer.in)\n",
    "\n",
    "In case of any doubts or errata alert; please take to QA forum for discussion. \n",
    "\n",
    "Doubts will be discussed in live class sessions too. [This doesnt apply for self paced students]"
   ]
  }
 ],
 "metadata": {
  "anaconda-cloud": {},
  "celltoolbar": "Raw Cell Format",
  "kernelspec": {
   "display_name": "Python 3",
   "language": "python",
   "name": "python3"
  },
  "language_info": {
   "codemirror_mode": {
    "name": "ipython",
    "version": 3
   },
   "file_extension": ".py",
   "mimetype": "text/x-python",
   "name": "python",
   "nbconvert_exporter": "python",
   "pygments_lexer": "ipython3",
   "version": "3.7.6"
  },
  "toc": {
   "base_numbering": 1,
   "nav_menu": {},
   "number_sections": true,
   "sideBar": true,
   "skip_h1_title": false,
   "title_cell": "Table of Contents",
   "title_sidebar": "Contents",
   "toc_cell": false,
   "toc_position": {},
   "toc_section_display": true,
   "toc_window_display": false
  }
 },
 "nbformat": 4,
 "nbformat_minor": 1
}
