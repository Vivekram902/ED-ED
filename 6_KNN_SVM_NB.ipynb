{
 "cells": [
  {
   "cell_type": "code",
   "execution_count": 9,
   "metadata": {
    "ExecuteTime": {
     "end_time": "2019-04-13T11:29:37.970509Z",
     "start_time": "2019-04-13T11:29:30.142269Z"
    }
   },
   "outputs": [],
   "source": [
    "data_file='D:/Existing Base.csv'\n",
    "\n",
    "import pandas as pd\n",
    "import math\n",
    "from sklearn.cross_validation import train_test_split\n",
    "from sklearn import tree\n",
    "import numpy as np\n",
    "from sklearn.cross_validation import KFold\n",
    "import matplotlib.pyplot as plt\n",
    "from IPython.display import Image\n",
    "from sklearn.metrics import roc_auc_score\n",
    "\n",
    "%matplotlib inline\n",
    "\n",
    "bd=pd.read_csv(data_file)"
   ]
  },
  {
   "cell_type": "code",
   "execution_count": 10,
   "metadata": {
    "ExecuteTime": {
     "end_time": "2019-04-13T11:29:39.924045Z",
     "start_time": "2019-04-13T11:29:38.085584Z"
    }
   },
   "outputs": [
    {
     "data": {
      "text/html": [
       "<div>\n",
       "<style scoped>\n",
       "    .dataframe tbody tr th:only-of-type {\n",
       "        vertical-align: middle;\n",
       "    }\n",
       "\n",
       "    .dataframe tbody tr th {\n",
       "        vertical-align: top;\n",
       "    }\n",
       "\n",
       "    .dataframe thead th {\n",
       "        text-align: right;\n",
       "    }\n",
       "</style>\n",
       "<table border=\"1\" class=\"dataframe\">\n",
       "  <thead>\n",
       "    <tr style=\"text-align: right;\">\n",
       "      <th></th>\n",
       "      <th>REF_NO</th>\n",
       "      <th>children</th>\n",
       "      <th>age_band</th>\n",
       "      <th>status</th>\n",
       "      <th>occupation</th>\n",
       "      <th>occupation_partner</th>\n",
       "      <th>home_status</th>\n",
       "      <th>family_income</th>\n",
       "      <th>self_employed</th>\n",
       "      <th>self_employed_partner</th>\n",
       "      <th>...</th>\n",
       "      <th>Investment Tax Saving Bond</th>\n",
       "      <th>Home Loan</th>\n",
       "      <th>Online Purchase Amount</th>\n",
       "      <th>Revenue Grid</th>\n",
       "      <th>gender</th>\n",
       "      <th>region</th>\n",
       "      <th>Investment in Commudity</th>\n",
       "      <th>Investment in Equity</th>\n",
       "      <th>Investment in Derivative</th>\n",
       "      <th>Portfolio Balance</th>\n",
       "    </tr>\n",
       "  </thead>\n",
       "  <tbody>\n",
       "    <tr>\n",
       "      <th>0</th>\n",
       "      <td>1</td>\n",
       "      <td>Zero</td>\n",
       "      <td>51-55</td>\n",
       "      <td>Partner</td>\n",
       "      <td>Manual Worker</td>\n",
       "      <td>Secretarial/Admin</td>\n",
       "      <td>Own Home</td>\n",
       "      <td>&lt;17,500, &gt;=15,000</td>\n",
       "      <td>No</td>\n",
       "      <td>No</td>\n",
       "      <td>...</td>\n",
       "      <td>19.99</td>\n",
       "      <td>0.00</td>\n",
       "      <td>0.00</td>\n",
       "      <td>1</td>\n",
       "      <td>Female</td>\n",
       "      <td>Wales</td>\n",
       "      <td>74.67</td>\n",
       "      <td>18.66</td>\n",
       "      <td>32.32</td>\n",
       "      <td>89.43</td>\n",
       "    </tr>\n",
       "    <tr>\n",
       "      <th>1</th>\n",
       "      <td>2</td>\n",
       "      <td>Zero</td>\n",
       "      <td>55-60</td>\n",
       "      <td>Single/Never Married</td>\n",
       "      <td>Retired</td>\n",
       "      <td>Retired</td>\n",
       "      <td>Own Home</td>\n",
       "      <td>&lt;27,500, &gt;=25,000</td>\n",
       "      <td>No</td>\n",
       "      <td>No</td>\n",
       "      <td>...</td>\n",
       "      <td>0.00</td>\n",
       "      <td>0.00</td>\n",
       "      <td>0.00</td>\n",
       "      <td>2</td>\n",
       "      <td>Female</td>\n",
       "      <td>North West</td>\n",
       "      <td>20.19</td>\n",
       "      <td>0.00</td>\n",
       "      <td>4.33</td>\n",
       "      <td>22.78</td>\n",
       "    </tr>\n",
       "    <tr>\n",
       "      <th>2</th>\n",
       "      <td>3</td>\n",
       "      <td>Zero</td>\n",
       "      <td>26-30</td>\n",
       "      <td>Single/Never Married</td>\n",
       "      <td>Professional</td>\n",
       "      <td>Other</td>\n",
       "      <td>Own Home</td>\n",
       "      <td>&lt;30,000, &gt;=27,500</td>\n",
       "      <td>Yes</td>\n",
       "      <td>No</td>\n",
       "      <td>...</td>\n",
       "      <td>0.00</td>\n",
       "      <td>3.49</td>\n",
       "      <td>0.00</td>\n",
       "      <td>2</td>\n",
       "      <td>Male</td>\n",
       "      <td>North</td>\n",
       "      <td>98.06</td>\n",
       "      <td>31.07</td>\n",
       "      <td>80.96</td>\n",
       "      <td>171.78</td>\n",
       "    </tr>\n",
       "    <tr>\n",
       "      <th>3</th>\n",
       "      <td>5</td>\n",
       "      <td>Zero</td>\n",
       "      <td>18-21</td>\n",
       "      <td>Single/Never Married</td>\n",
       "      <td>Professional</td>\n",
       "      <td>Manual Worker</td>\n",
       "      <td>Own Home</td>\n",
       "      <td>&lt;15,000, &gt;=12,500</td>\n",
       "      <td>No</td>\n",
       "      <td>No</td>\n",
       "      <td>...</td>\n",
       "      <td>0.00</td>\n",
       "      <td>0.00</td>\n",
       "      <td>0.00</td>\n",
       "      <td>2</td>\n",
       "      <td>Female</td>\n",
       "      <td>West Midlands</td>\n",
       "      <td>4.10</td>\n",
       "      <td>14.15</td>\n",
       "      <td>17.57</td>\n",
       "      <td>-41.70</td>\n",
       "    </tr>\n",
       "    <tr>\n",
       "      <th>4</th>\n",
       "      <td>6</td>\n",
       "      <td>Zero</td>\n",
       "      <td>45-50</td>\n",
       "      <td>Partner</td>\n",
       "      <td>Business Manager</td>\n",
       "      <td>Unknown</td>\n",
       "      <td>Own Home</td>\n",
       "      <td>&lt;30,000, &gt;=27,500</td>\n",
       "      <td>No</td>\n",
       "      <td>No</td>\n",
       "      <td>...</td>\n",
       "      <td>0.00</td>\n",
       "      <td>45.91</td>\n",
       "      <td>25.98</td>\n",
       "      <td>2</td>\n",
       "      <td>Female</td>\n",
       "      <td>Scotland</td>\n",
       "      <td>70.16</td>\n",
       "      <td>55.86</td>\n",
       "      <td>80.44</td>\n",
       "      <td>235.02</td>\n",
       "    </tr>\n",
       "  </tbody>\n",
       "</table>\n",
       "<p>5 rows × 32 columns</p>\n",
       "</div>"
      ],
      "text/plain": [
       "   REF_NO children age_band                status        occupation  \\\n",
       "0       1     Zero    51-55               Partner     Manual Worker   \n",
       "1       2     Zero    55-60  Single/Never Married           Retired   \n",
       "2       3     Zero    26-30  Single/Never Married      Professional   \n",
       "3       5     Zero    18-21  Single/Never Married      Professional   \n",
       "4       6     Zero    45-50               Partner  Business Manager   \n",
       "\n",
       "  occupation_partner home_status      family_income self_employed  \\\n",
       "0  Secretarial/Admin    Own Home  <17,500, >=15,000            No   \n",
       "1            Retired    Own Home  <27,500, >=25,000            No   \n",
       "2              Other    Own Home  <30,000, >=27,500           Yes   \n",
       "3      Manual Worker    Own Home  <15,000, >=12,500            No   \n",
       "4            Unknown    Own Home  <30,000, >=27,500            No   \n",
       "\n",
       "  self_employed_partner        ...          Investment Tax Saving Bond  \\\n",
       "0                    No        ...                               19.99   \n",
       "1                    No        ...                                0.00   \n",
       "2                    No        ...                                0.00   \n",
       "3                    No        ...                                0.00   \n",
       "4                    No        ...                                0.00   \n",
       "\n",
       "  Home Loan Online Purchase Amount Revenue Grid  gender         region  \\\n",
       "0      0.00                   0.00            1  Female          Wales   \n",
       "1      0.00                   0.00            2  Female     North West   \n",
       "2      3.49                   0.00            2    Male          North   \n",
       "3      0.00                   0.00            2  Female  West Midlands   \n",
       "4     45.91                  25.98            2  Female       Scotland   \n",
       "\n",
       "   Investment in Commudity  Investment in Equity  Investment in Derivative  \\\n",
       "0                    74.67                 18.66                     32.32   \n",
       "1                    20.19                  0.00                      4.33   \n",
       "2                    98.06                 31.07                     80.96   \n",
       "3                     4.10                 14.15                     17.57   \n",
       "4                    70.16                 55.86                     80.44   \n",
       "\n",
       "   Portfolio Balance  \n",
       "0              89.43  \n",
       "1              22.78  \n",
       "2             171.78  \n",
       "3             -41.70  \n",
       "4             235.02  \n",
       "\n",
       "[5 rows x 32 columns]"
      ]
     },
     "execution_count": 10,
     "metadata": {},
     "output_type": "execute_result"
    }
   ],
   "source": [
    "bd.head()"
   ]
  },
  {
   "cell_type": "markdown",
   "metadata": {},
   "source": [
    "We'll be using same set of data, lets reuse the data prep steps used earlier . "
   ]
  },
  {
   "cell_type": "code",
   "execution_count": 11,
   "metadata": {
    "ExecuteTime": {
     "end_time": "2019-04-13T11:30:33.096517Z",
     "start_time": "2019-04-13T11:29:40.010101Z"
    },
    "collapsed": true,
    "scrolled": true
   },
   "outputs": [],
   "source": [
    "# data prep from previous module\n",
    "bd.loc[bd[\"children\"]==\"Zero\",\"children\"]=\"0\"\n",
    "bd.loc[bd[\"children\"]==\"4+\",\"children\"]=\"4\"\n",
    "bd[\"children\"]=pd.to_numeric(bd[\"children\"],errors=\"coerce\")\n",
    "bd[\"y\"]=1\n",
    "bd.loc[bd[\"Revenue Grid\"]==2,\"y\"]=0\n",
    "bd=bd.drop([\"Revenue Grid\"],1)\n",
    "for i in range(len(bd)):\n",
    "    if bd[\"age_band\"][i] in [\"71+\",\"65-70\",\"51-55\",\"45-50\"]:\n",
    "        bd.loc[i,\"age_band\"]=\"ab_10\"\n",
    "    if bd[\"age_band\"][i] in [\"55-60\",\"41-45\",\"31-35\",\"22-25\",\"26-30\"]:\n",
    "        bd.loc[i,\"age_band\"]=\"ab_11\"\n",
    "    if bd[\"age_band\"][i]==\"36-40\":\n",
    "        bd.loc[i,\"age_band\"]=\"ab_13\"\n",
    "    if bd[\"age_band\"][i]==\"18-21\":\n",
    "        bd.loc[i,\"age_band\"]=\"ab_17\"\n",
    "    if bd[\"age_band\"][i]==\"61-65\":\n",
    "        bd.loc[i,\"age_band\"]=\"ab_9\"\n",
    "ab_dummies=pd.get_dummies(bd[\"age_band\"])\n",
    "bd=pd.concat([bd,ab_dummies],1)\n",
    "bd=bd.drop([\"age_band\",\"Unknown\"],1)\n",
    "bd[\"st_partner\"]=0\n",
    "bd[\"st_singleNm\"]=0\n",
    "bd[\"st_divSep\"]=0\n",
    "bd.loc[bd[\"status\"]==\"Partner\",\"st_partner\"]=1\n",
    "bd.loc[bd[\"status\"]==\"Single/Never Married\",\"st_singleNm\"]=1\n",
    "bd.loc[bd[\"status\"]==\"Divorced/Separated\",\"st_divSep\"]=1\n",
    "bd=bd.drop([\"status\"],1)\n",
    "for i in range(len(bd)):\n",
    "    if bd[\"occupation\"][i] in [\"Unknown\",\"Student\",\"Secretarial/Admin\",\n",
    "                               \"Other\",\"Manual Worker\"]:\n",
    "        bd.loc[i,\"occupation\"]=\"oc_11\"\n",
    "    if bd[\"occupation\"][i] in [\"Professional\",\"Business Manager\"]:\n",
    "        bd.loc[i,\"occupation\"]=\"oc_12\"\n",
    "    if bd[\"occupation\"][i]==\"Retired\":\n",
    "        bd.loc[i,\"occupation\"]=\"oc_10\"\n",
    "oc_dummies=pd.get_dummies(bd[\"occupation\"])\n",
    "bd=pd.concat([bd,oc_dummies],1)\n",
    "\n",
    "bd=bd.drop([\"occupation\",\"Housewife\"],1)\n",
    "bd[\"ocp_10\"]=0\n",
    "bd[\"ocp_12\"]=0\n",
    "\n",
    "for i in range(len(bd)):\n",
    "    if bd[\"occupation_partner\"][i] in [\"Unknown\",\"Retired\",\"Other\"]:\n",
    "        bd.loc[i,\"ocp_10\"]=1\n",
    "    if bd[\"occupation_partner\"][i] in [\"Student\",\"Secretarial/Admin\"]:\n",
    "        bd.loc[i,\"ocp_12\"]=1\n",
    "bd=bd.drop([\"occupation_partner\",\"TVarea\",\"post_code\",\"post_area\",\"region\"],1)\n",
    "bd[\"hs_own\"]=0\n",
    "bd.loc[bd[\"home_status\"]==\"Own Home\",\"hs_own\"]=1\n",
    "del bd[\"home_status\"]\n",
    "bd[\"gender_f\"]=0\n",
    "bd.loc[bd[\"gender\"]==\"Female\",\"gender_f\"]=1\n",
    "del bd[\"gender\"]\n",
    "bd[\"semp_yes\"]=0\n",
    "bd.loc[bd[\"self_employed\"]==\"Yes\",\"semp_yes\"]=1\n",
    "del bd[\"self_employed\"]\n",
    "bd[\"semp_part_yes\"]=0\n",
    "bd.loc[bd[\"self_employed_partner\"]==\"Yes\",\"semp_part_yes\"]=1\n",
    "del bd[\"self_employed_partner\"]\n",
    "bd[\"fi\"]=4\n",
    "bd.loc[bd[\"family_income\"]==\"< 8,000, >= 4,000\",\"fi\"]=6\n",
    "bd.loc[bd[\"family_income\"]==\"<10,000, >= 8,000\",\"fi\"]=9\n",
    "bd.loc[bd[\"family_income\"]==\"<12,500, >=10,000\",\"fi\"]=11.25\n",
    "bd.loc[bd[\"family_income\"]==\"<15,000, >=12,500\",\"fi\"]=13.75\n",
    "bd.loc[bd[\"family_income\"]==\"<17,500, >=15,000\",\"fi\"]=16.25\n",
    "bd.loc[bd[\"family_income\"]==\"<20,000, >=17,500\",\"fi\"]=18.75\n",
    "bd.loc[bd[\"family_income\"]==\"<22,500, >=20,000\",\"fi\"]=21.25\n",
    "bd.loc[bd[\"family_income\"]==\"<25,000, >=22,500\",\"fi\"]=23.75\n",
    "bd.loc[bd[\"family_income\"]==\"<27,500, >=25,000\",\"fi\"]=26.25\n",
    "bd.loc[bd[\"family_income\"]==\"<30,000, >=27,500\",\"fi\"]=28.75\n",
    "bd.loc[bd[\"family_income\"]==\">=35,000\",\"fi\"]=35\n",
    "bd=bd.drop([\"family_income\"],1)"
   ]
  },
  {
   "cell_type": "markdown",
   "metadata": {},
   "source": [
    "We'll remove the missing values first and divide our data into two parts before starting with building the model."
   ]
  },
  {
   "cell_type": "code",
   "execution_count": 12,
   "metadata": {
    "ExecuteTime": {
     "end_time": "2019-04-13T11:30:33.547818Z",
     "start_time": "2019-04-13T11:30:33.098516Z"
    },
    "collapsed": true
   },
   "outputs": [],
   "source": [
    "bd_train, bd_test = train_test_split(bd, test_size = 0.2,random_state=2)\n",
    "x_train=bd_train.drop([\"y\",\"REF_NO\"],1)\n",
    "y_train=bd_train[\"y\"]\n",
    "x_test=bd_test.drop([\"y\",\"REF_NO\"],1)\n",
    "y_test=bd_test[\"y\"]\n",
    "x_train.reset_index(drop=True,inplace=True)\n",
    "y_train.reset_index(drop=True,inplace=True)"
   ]
  },
  {
   "cell_type": "code",
   "execution_count": 38,
   "metadata": {},
   "outputs": [],
   "source": [
    "# Standardise data\n",
    "for i in x_train.columns:\n",
    "    x_avg = np.mean(x_train[i])\n",
    "    x_std = np.std(x_train[i])\n",
    "    x_train[i] = (x_train[i] - x_avg)/ x_std\n",
    "    x_test[i] = (x_test[i] - x_avg)/ x_std"
   ]
  },
  {
   "cell_type": "code",
   "execution_count": 39,
   "metadata": {},
   "outputs": [
    {
     "data": {
      "text/html": [
       "<div>\n",
       "<style scoped>\n",
       "    .dataframe tbody tr th:only-of-type {\n",
       "        vertical-align: middle;\n",
       "    }\n",
       "\n",
       "    .dataframe tbody tr th {\n",
       "        vertical-align: top;\n",
       "    }\n",
       "\n",
       "    .dataframe thead th {\n",
       "        text-align: right;\n",
       "    }\n",
       "</style>\n",
       "<table border=\"1\" class=\"dataframe\">\n",
       "  <thead>\n",
       "    <tr style=\"text-align: right;\">\n",
       "      <th></th>\n",
       "      <th>children</th>\n",
       "      <th>year_last_moved</th>\n",
       "      <th>Average Credit Card Transaction</th>\n",
       "      <th>Balance Transfer</th>\n",
       "      <th>Term Deposit</th>\n",
       "      <th>Life Insurance</th>\n",
       "      <th>Medical Insurance</th>\n",
       "      <th>Average A/C Balance</th>\n",
       "      <th>Personal Loan</th>\n",
       "      <th>Investment in Mutual Fund</th>\n",
       "      <th>...</th>\n",
       "      <th>oc_10</th>\n",
       "      <th>oc_11</th>\n",
       "      <th>oc_12</th>\n",
       "      <th>ocp_10</th>\n",
       "      <th>ocp_12</th>\n",
       "      <th>hs_own</th>\n",
       "      <th>gender_f</th>\n",
       "      <th>semp_yes</th>\n",
       "      <th>semp_part_yes</th>\n",
       "      <th>fi</th>\n",
       "    </tr>\n",
       "  </thead>\n",
       "  <tbody>\n",
       "    <tr>\n",
       "      <th>184</th>\n",
       "      <td>0.382662</td>\n",
       "      <td>0.086212</td>\n",
       "      <td>0.205825</td>\n",
       "      <td>0.041508</td>\n",
       "      <td>0.605524</td>\n",
       "      <td>0.232634</td>\n",
       "      <td>-0.357272</td>\n",
       "      <td>0.632129</td>\n",
       "      <td>0.139577</td>\n",
       "      <td>1.184223</td>\n",
       "      <td>...</td>\n",
       "      <td>-0.52722</td>\n",
       "      <td>1.379675</td>\n",
       "      <td>-0.675794</td>\n",
       "      <td>-0.921121</td>\n",
       "      <td>-0.263915</td>\n",
       "      <td>0.284672</td>\n",
       "      <td>0.571096</td>\n",
       "      <td>-0.278305</td>\n",
       "      <td>-0.356923</td>\n",
       "      <td>-0.130839</td>\n",
       "    </tr>\n",
       "    <tr>\n",
       "      <th>1546</th>\n",
       "      <td>2.549035</td>\n",
       "      <td>0.080613</td>\n",
       "      <td>0.679507</td>\n",
       "      <td>0.486769</td>\n",
       "      <td>0.933172</td>\n",
       "      <td>1.828413</td>\n",
       "      <td>0.755127</td>\n",
       "      <td>0.969388</td>\n",
       "      <td>0.162329</td>\n",
       "      <td>0.083886</td>\n",
       "      <td>...</td>\n",
       "      <td>-0.52722</td>\n",
       "      <td>1.379675</td>\n",
       "      <td>-0.675794</td>\n",
       "      <td>1.085634</td>\n",
       "      <td>-0.263915</td>\n",
       "      <td>0.284672</td>\n",
       "      <td>0.571096</td>\n",
       "      <td>-0.278305</td>\n",
       "      <td>2.801727</td>\n",
       "      <td>1.268599</td>\n",
       "    </tr>\n",
       "    <tr>\n",
       "      <th>9912</th>\n",
       "      <td>1.465848</td>\n",
       "      <td>0.063816</td>\n",
       "      <td>-0.460344</td>\n",
       "      <td>-0.585723</td>\n",
       "      <td>-0.505524</td>\n",
       "      <td>-0.684646</td>\n",
       "      <td>-0.588906</td>\n",
       "      <td>1.295348</td>\n",
       "      <td>-0.299129</td>\n",
       "      <td>-0.645013</td>\n",
       "      <td>...</td>\n",
       "      <td>-0.52722</td>\n",
       "      <td>1.379675</td>\n",
       "      <td>-0.675794</td>\n",
       "      <td>-0.921121</td>\n",
       "      <td>-0.263915</td>\n",
       "      <td>0.284672</td>\n",
       "      <td>0.571096</td>\n",
       "      <td>-0.278305</td>\n",
       "      <td>-0.356923</td>\n",
       "      <td>-0.385282</td>\n",
       "    </tr>\n",
       "    <tr>\n",
       "      <th>5078</th>\n",
       "      <td>-0.700525</td>\n",
       "      <td>0.103009</td>\n",
       "      <td>-0.460344</td>\n",
       "      <td>-0.585849</td>\n",
       "      <td>-0.505524</td>\n",
       "      <td>-0.501353</td>\n",
       "      <td>-0.588906</td>\n",
       "      <td>-0.051299</td>\n",
       "      <td>-0.299129</td>\n",
       "      <td>-0.205060</td>\n",
       "      <td>...</td>\n",
       "      <td>-0.52722</td>\n",
       "      <td>-0.724808</td>\n",
       "      <td>1.479741</td>\n",
       "      <td>-0.921121</td>\n",
       "      <td>-0.263915</td>\n",
       "      <td>0.284672</td>\n",
       "      <td>-1.751019</td>\n",
       "      <td>-0.278305</td>\n",
       "      <td>-0.356923</td>\n",
       "      <td>0.632491</td>\n",
       "    </tr>\n",
       "    <tr>\n",
       "      <th>7138</th>\n",
       "      <td>2.549035</td>\n",
       "      <td>0.131004</td>\n",
       "      <td>-0.460344</td>\n",
       "      <td>-0.585849</td>\n",
       "      <td>-0.505524</td>\n",
       "      <td>-0.684748</td>\n",
       "      <td>-0.588906</td>\n",
       "      <td>-0.128225</td>\n",
       "      <td>-0.299129</td>\n",
       "      <td>0.417345</td>\n",
       "      <td>...</td>\n",
       "      <td>-0.52722</td>\n",
       "      <td>-0.724808</td>\n",
       "      <td>1.479741</td>\n",
       "      <td>-0.921121</td>\n",
       "      <td>-0.263915</td>\n",
       "      <td>0.284672</td>\n",
       "      <td>0.571096</td>\n",
       "      <td>-0.278305</td>\n",
       "      <td>-0.356923</td>\n",
       "      <td>1.268599</td>\n",
       "    </tr>\n",
       "  </tbody>\n",
       "</table>\n",
       "<p>5 rows × 35 columns</p>\n",
       "</div>"
      ],
      "text/plain": [
       "      children  year_last_moved  Average Credit Card Transaction  \\\n",
       "184   0.382662         0.086212                         0.205825   \n",
       "1546  2.549035         0.080613                         0.679507   \n",
       "9912  1.465848         0.063816                        -0.460344   \n",
       "5078 -0.700525         0.103009                        -0.460344   \n",
       "7138  2.549035         0.131004                        -0.460344   \n",
       "\n",
       "      Balance Transfer  Term Deposit  Life Insurance  Medical Insurance  \\\n",
       "184           0.041508      0.605524        0.232634          -0.357272   \n",
       "1546          0.486769      0.933172        1.828413           0.755127   \n",
       "9912         -0.585723     -0.505524       -0.684646          -0.588906   \n",
       "5078         -0.585849     -0.505524       -0.501353          -0.588906   \n",
       "7138         -0.585849     -0.505524       -0.684748          -0.588906   \n",
       "\n",
       "      Average A/C Balance  Personal Loan  Investment in Mutual Fund  ...  \\\n",
       "184              0.632129       0.139577                   1.184223  ...   \n",
       "1546             0.969388       0.162329                   0.083886  ...   \n",
       "9912             1.295348      -0.299129                  -0.645013  ...   \n",
       "5078            -0.051299      -0.299129                  -0.205060  ...   \n",
       "7138            -0.128225      -0.299129                   0.417345  ...   \n",
       "\n",
       "        oc_10     oc_11     oc_12    ocp_10    ocp_12    hs_own  gender_f  \\\n",
       "184  -0.52722  1.379675 -0.675794 -0.921121 -0.263915  0.284672  0.571096   \n",
       "1546 -0.52722  1.379675 -0.675794  1.085634 -0.263915  0.284672  0.571096   \n",
       "9912 -0.52722  1.379675 -0.675794 -0.921121 -0.263915  0.284672  0.571096   \n",
       "5078 -0.52722 -0.724808  1.479741 -0.921121 -0.263915  0.284672 -1.751019   \n",
       "7138 -0.52722 -0.724808  1.479741 -0.921121 -0.263915  0.284672  0.571096   \n",
       "\n",
       "      semp_yes  semp_part_yes        fi  \n",
       "184  -0.278305      -0.356923 -0.130839  \n",
       "1546 -0.278305       2.801727  1.268599  \n",
       "9912 -0.278305      -0.356923 -0.385282  \n",
       "5078 -0.278305      -0.356923  0.632491  \n",
       "7138 -0.278305      -0.356923  1.268599  \n",
       "\n",
       "[5 rows x 35 columns]"
      ]
     },
     "execution_count": 39,
     "metadata": {},
     "output_type": "execute_result"
    }
   ],
   "source": [
    "x_test.head()"
   ]
  },
  {
   "cell_type": "markdown",
   "metadata": {},
   "source": [
    "## KNN"
   ]
  },
  {
   "cell_type": "code",
   "execution_count": 13,
   "metadata": {
    "ExecuteTime": {
     "end_time": "2019-04-13T11:31:30.984809Z",
     "start_time": "2019-04-13T11:31:30.917764Z"
    }
   },
   "outputs": [],
   "source": [
    "import numpy as np\n",
    "\n",
    "from time import time\n",
    "from operator import itemgetter\n",
    "from scipy.stats import randint as sp_randint\n",
    "\n",
    "from sklearn.grid_search import RandomizedSearchCV\n",
    "from sklearn.neighbors import KNeighborsClassifier"
   ]
  },
  {
   "cell_type": "code",
   "execution_count": 14,
   "metadata": {
    "ExecuteTime": {
     "end_time": "2019-04-13T11:33:30.487361Z",
     "start_time": "2019-04-13T11:33:09.376304Z"
    },
    "scrolled": true
   },
   "outputs": [
    {
     "name": "stdout",
     "output_type": "stream",
     "text": [
      "Model with rank: 1\n",
      "Mean validation score: 0.957 (std: 0.014)\n",
      "Parameters: {'weights': 'distance', 'n_neighbors': 7}\n",
      "\n",
      "Model with rank: 2\n",
      "Mean validation score: 0.956 (std: 0.014)\n",
      "Parameters: {'weights': 'uniform', 'n_neighbors': 7}\n",
      "\n",
      "Model with rank: 3\n",
      "Mean validation score: 0.944 (std: 0.017)\n",
      "Parameters: {'weights': 'distance', 'n_neighbors': 5}\n",
      "\n"
     ]
    }
   ],
   "source": [
    "clf = KNeighborsClassifier()\n",
    "# this here is the base classifier we are going to try\n",
    "# we will be supplying different parameter ranges to our randomSearchCV which in turn\n",
    "# will pass it on to this classifier\n",
    "\n",
    "# Utility function to report best scores. This simply accepts grid scores from \n",
    "# our randomSearchCV/GridSearchCV and picks and gives top few combination according to \n",
    "# their scores\n",
    "\n",
    "def report(grid_scores, n_top=3):\n",
    "    top_scores = sorted(grid_scores, key=itemgetter(1), reverse=True)[:n_top]\n",
    "    # above line selects top n grid scores\n",
    "    # for loop below , prints the rank, score and parameter combination\n",
    "    for i, score in enumerate(top_scores):\n",
    "        print(\"Model with rank: {0}\".format(i + 1))\n",
    "        print(\"Mean validation score: {0:.3f} (std: {1:.3f})\".format(\n",
    "              score.mean_validation_score,\n",
    "              np.std(score.cv_validation_scores)))\n",
    "        print(\"Parameters: {0}\".format(score.parameters))\n",
    "        print(\"\")\n",
    "    \n",
    "# RandomSearchCV/GridSearchCV accept parameters values as dictionaries.\n",
    "# In example given below we have constructed dictionary for \n",
    "#different parameter values that we want to\n",
    "# try for randomForest model\n",
    "param_dist = {'n_neighbors':[5,7],\n",
    "              'weights':['uniform', 'distance']\n",
    "              }\n",
    "# run randomized search\n",
    "n_iter_search = 4\n",
    "# n_iter parameter of RandomizedSeacrhCV controls, how many \n",
    "# parameter combination will be tried; out of all possible given values\n",
    "\n",
    "random_search = RandomizedSearchCV(clf, param_distributions=param_dist,\n",
    "                                   n_iter=n_iter_search,\n",
    "                                  scoring='roc_auc',\n",
    "                                  random_state=2)\n",
    "random_search.fit(x_train, y_train)\n",
    "# report(random_search.grid_scores_)"
   ]
  },
  {
   "cell_type": "code",
   "execution_count": null,
   "metadata": {},
   "outputs": [],
   "source": [
    "random_search.best_params_"
   ]
  },
  {
   "cell_type": "code",
   "execution_count": 15,
   "metadata": {
    "ExecuteTime": {
     "end_time": "2019-04-13T11:33:46.376944Z",
     "start_time": "2019-04-13T11:33:46.012697Z"
    }
   },
   "outputs": [
    {
     "data": {
      "text/plain": [
       "KNeighborsClassifier(algorithm='auto', leaf_size=30, metric='minkowski',\n",
       "           metric_params=None, n_jobs=1, n_neighbors=7, p=2,\n",
       "           weights='distance')"
      ]
     },
     "execution_count": 15,
     "metadata": {},
     "output_type": "execute_result"
    }
   ],
   "source": [
    "# knn=KNeighborsClassifier(weights='distance', n_neighbors= 7)\n",
    "knn = random_search.best_estimator_\n",
    "knn.fit(x_train,y_train)"
   ]
  },
  {
   "cell_type": "code",
   "execution_count": 16,
   "metadata": {
    "ExecuteTime": {
     "end_time": "2019-04-13T11:33:59.688847Z",
     "start_time": "2019-04-13T11:33:57.260231Z"
    }
   },
   "outputs": [
    {
     "name": "stdout",
     "output_type": "stream",
     "text": [
      "predicted     0    1\n",
      "real                \n",
      "0          1796   11\n",
      "1            84  140\n"
     ]
    }
   ],
   "source": [
    "predicted=knn.predict(x_test)\n",
    "\n",
    "df_test=pd.DataFrame(list(zip(y_test,predicted)),columns=[\"real\",\"predicted\"])\n",
    "\n",
    "k=pd.crosstab(df_test['real'],df_test[\"predicted\"])\n",
    "print(k)"
   ]
  },
  {
   "cell_type": "code",
   "execution_count": 17,
   "metadata": {
    "ExecuteTime": {
     "end_time": "2019-04-13T11:34:05.692890Z",
     "start_time": "2019-04-13T11:34:05.495759Z"
    }
   },
   "outputs": [
    {
     "name": "stdout",
     "output_type": "stream",
     "text": [
      "140 1796 11 84\n",
      "Accuracy is : 0.953225012309\n",
      "Sensitivity is : 0.625\n",
      "Specificity is : 0.993912562258\n",
      "Precision is : 0.927152317881\n"
     ]
    }
   ],
   "source": [
    "TP=k.iloc[1,1]\n",
    "TN=k.iloc[0,0]\n",
    "FP=k.iloc[0,1]\n",
    "FN=k.iloc[1,0]\n",
    "P=TP+FN\n",
    "N=TN+FP\n",
    "\n",
    "print(TP,TN,FP,FN)\n",
    "print('Accuracy is :',(TP+TN)/(P+N))\n",
    "print('Sensitivity is :',TP/P)\n",
    "print('Specificity is :',TN/N)\n",
    "print('Precision is :', TP/(TP + FP))"
   ]
  },
  {
   "cell_type": "markdown",
   "metadata": {},
   "source": [
    "## SVM"
   ]
  },
  {
   "cell_type": "code",
   "execution_count": 18,
   "metadata": {
    "ExecuteTime": {
     "end_time": "2019-04-13T11:34:40.440741Z",
     "start_time": "2019-04-13T11:34:38.382370Z"
    },
    "collapsed": true
   },
   "outputs": [],
   "source": [
    "from sklearn import svm"
   ]
  },
  {
   "cell_type": "code",
   "execution_count": 19,
   "metadata": {
    "ExecuteTime": {
     "end_time": "2019-04-13T11:34:48.701241Z",
     "start_time": "2019-04-13T11:34:48.656210Z"
    },
    "collapsed": true
   },
   "outputs": [],
   "source": [
    "clf=svm.SVC()"
   ]
  },
  {
   "cell_type": "code",
   "execution_count": null,
   "metadata": {
    "ExecuteTime": {
     "start_time": "2019-04-13T01:55:53.505Z"
    },
    "collapsed": true
   },
   "outputs": [],
   "source": [
    "# TAKES A LONG TIME TO EXECUTE\n",
    "\n",
    "param_dist = {'C': [0.1,10], \n",
    "              'kernel': ['linear','rbf', 'poly'],\n",
    "              'gamma':[10,100]\n",
    "              }\n",
    "# run randomized search\n",
    "n_iter_search = 4\n",
    "# n_iter parameter of RandomizedSeacrhCV controls, how many \n",
    "# parameter combination will be tried; out of all possible given values\n",
    "\n",
    "random_search = RandomizedSearchCV(clf, param_distributions=param_dist,\n",
    "                                   n_iter=n_iter_search,\n",
    "                                   scoring='roc_auc',\n",
    "                                   random_state=2)\n",
    "random_search.fit(x_train, y_train)\n",
    "report(random_search.grid_scores_)"
   ]
  },
  {
   "cell_type": "code",
   "execution_count": 20,
   "metadata": {
    "ExecuteTime": {
     "end_time": "2019-04-13T11:38:09.083897Z",
     "start_time": "2019-04-13T11:36:31.558962Z"
    },
    "scrolled": true
   },
   "outputs": [
    {
     "name": "stdout",
     "output_type": "stream",
     "text": [
      "predicted     0    1\n",
      "real                \n",
      "0          1784   23\n",
      "1           101  123\n",
      "123 1784 23 101\n",
      "Accuracy is : 0.938946331856\n",
      "Sensitivity is : 0.549107142857\n",
      "Specificity is : 0.987271721085\n",
      "Precision is : 0.842465753425\n"
     ]
    }
   ],
   "source": [
    "sv=svm.SVC(C=0.1, kernel='linear', gamma=10)\n",
    "sv.fit(x_train,y_train)\n",
    "\n",
    "predicted=sv.predict(x_test)\n",
    "df_test=pd.DataFrame(list(zip(y_test,predicted)),columns=[\"real\",\"predicted\"])\n",
    "k=pd.crosstab(df_test['real'],df_test[\"predicted\"])\n",
    "print(k)\n",
    "\n",
    "TP=k.iloc[1,1]\n",
    "TN=k.iloc[0,0]\n",
    "FP=k.iloc[0,1]\n",
    "FN=k.iloc[1,0]\n",
    "P=TP+FN\n",
    "N=TN+FP\n",
    "\n",
    "print(TP,TN,FP,FN)\n",
    "print('Accuracy is :',(TP+TN)/(P+N))\n",
    "print('Sensitivity is :',TP/P)\n",
    "print('Specificity is :',TN/N)\n",
    "print('Precision is :', TP/(TP + FP))"
   ]
  },
  {
   "cell_type": "markdown",
   "metadata": {},
   "source": [
    "## Naive Bayes"
   ]
  },
  {
   "cell_type": "code",
   "execution_count": 22,
   "metadata": {
    "ExecuteTime": {
     "end_time": "2019-04-13T11:39:24.762579Z",
     "start_time": "2019-04-13T11:39:24.508411Z"
    },
    "collapsed": true
   },
   "outputs": [],
   "source": [
    "from sklearn.naive_bayes import GaussianNB"
   ]
  },
  {
   "cell_type": "code",
   "execution_count": 23,
   "metadata": {
    "ExecuteTime": {
     "end_time": "2019-04-13T11:39:25.521084Z",
     "start_time": "2019-04-13T11:39:25.033762Z"
    }
   },
   "outputs": [
    {
     "name": "stdout",
     "output_type": "stream",
     "text": [
      "predicted     0    1\n",
      "real                \n",
      "0          1702  105\n",
      "1            87  137\n",
      "137 1702 105 87\n",
      "Accuracy is : 0.905465288035\n",
      "Sensitivity is : 0.611607142857\n",
      "Specificity is : 0.941892639734\n",
      "Precision is : 0.566115702479\n"
     ]
    }
   ],
   "source": [
    "clf=GaussianNB()\n",
    "clf.fit(x_train,y_train)\n",
    "\n",
    "predicted=clf.predict(x_test)\n",
    "df_test=pd.DataFrame(list(zip(y_test,predicted)),columns=[\"real\",\"predicted\"])\n",
    "k=pd.crosstab(df_test['real'],df_test[\"predicted\"])\n",
    "print(k)\n",
    "\n",
    "TP=k.iloc[1,1]\n",
    "TN=k.iloc[0,0]\n",
    "FP=k.iloc[0,1]\n",
    "FN=k.iloc[1,0]\n",
    "P=TP+FN\n",
    "N=TN+FP\n",
    "\n",
    "print(TP,TN,FP,FN)\n",
    "print('Accuracy is :',(TP+TN)/(P+N))\n",
    "print('Sensitivity is :',TP/P)\n",
    "print('Specificity is :',TN/N)\n",
    "print('Precision is :', TP/(TP + FP))"
   ]
  },
  {
   "cell_type": "code",
   "execution_count": null,
   "metadata": {
    "collapsed": true
   },
   "outputs": [],
   "source": []
  }
 ],
 "metadata": {
  "anaconda-cloud": {},
  "kernelspec": {
   "display_name": "Python 3",
   "language": "python",
   "name": "python3"
  },
  "language_info": {
   "codemirror_mode": {
    "name": "ipython",
    "version": 3
   },
   "file_extension": ".py",
   "mimetype": "text/x-python",
   "name": "python",
   "nbconvert_exporter": "python",
   "pygments_lexer": "ipython3",
   "version": "3.7.3"
  },
  "toc": {
   "base_numbering": 1,
   "nav_menu": {},
   "number_sections": true,
   "sideBar": true,
   "skip_h1_title": false,
   "title_cell": "Table of Contents",
   "title_sidebar": "Contents",
   "toc_cell": false,
   "toc_position": {},
   "toc_section_display": true,
   "toc_window_display": false
  }
 },
 "nbformat": 4,
 "nbformat_minor": 1
}
